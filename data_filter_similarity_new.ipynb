{
 "cells": [
  {
   "cell_type": "code",
   "execution_count": 1,
   "id": "931c8ca8",
   "metadata": {},
   "outputs": [
    {
     "name": "stdout",
     "output_type": "stream",
     "text": [
      "0.5714285714285714\n"
     ]
    }
   ],
   "source": [
    "from sklearn.feature_extraction.text import CountVectorizer\n",
    "from sklearn.metrics import jaccard_score\n",
    "\n",
    "# 示例句子\n",
    "text1 = \"Parses the given JSON and returns eit a JSONObject or a JSONArry an exit\"\n",
    "text2 = \"Parses the given JSON and returns either a JSONObject or a JSONArray\"\n",
    "\n",
    "# 将句子转换为词袋模型\n",
    "vectorizer = CountVectorizer(binary=True)\n",
    "count_matrix = vectorizer.fit_transform([text1, text2]).toarray()\n",
    "\n",
    "# 计算Jaccard相似度\n",
    "jaccard_sim = jaccard_score(count_matrix[0], count_matrix[1])\n",
    "print(jaccard_sim)"
   ]
  },
  {
   "cell_type": "code",
   "execution_count": null,
   "id": "77dfc9e5",
   "metadata": {},
   "outputs": [],
   "source": []
  },
  {
   "cell_type": "code",
   "execution_count": null,
   "id": "9b6a47f0",
   "metadata": {},
   "outputs": [],
   "source": []
  },
  {
   "cell_type": "code",
   "execution_count": 2,
   "id": "4e15df13",
   "metadata": {},
   "outputs": [],
   "source": [
    "import torch\n",
    "import pandas as pd\n",
    "import numpy as np\n",
    "\n",
    "def retrieve_train_data():\n",
    "    train_param = pd.read_json(\"D:/BERT_learing/code_comment_inconsistency_detection/data/param/train.json\")\n",
    "    train_return = pd.read_json(\"D:/BERT_learing/code_comment_inconsistency_detection/data/return/train.json\")\n",
    "    train_summary = pd.read_json(\"D:/BERT_learing/code_comment_inconsistency_detection/data/summary/train.json\")\n",
    "    train_df = pd.concat([train_summary,train_param, train_return], axis=0)\n",
    "    train_df = train_df.reset_index(drop=True)\n",
    "    return train_df\n",
    "def retrieve_valid_data():\n",
    "    valid_param = pd.read_json(\"D:/BERT_learing/code_comment_inconsistency_detection/data/param/valid.json\")\n",
    "    valid_return = pd.read_json(\"D:/BERT_learing/code_comment_inconsistency_detection/data/return/valid.json\")\n",
    "    valid_summary = pd.read_json(\"D:/BERT_learing/code_comment_inconsistency_detection/data/summary/valid.json\")\n",
    "    valid_df = pd.concat([valid_summary,valid_param, valid_return ], axis=0)\n",
    "    valid_df = valid_df.reset_index(drop=True)\n",
    "    return valid_df\n",
    "def retrieve_test_data():\n",
    "    test_param = pd.read_json(\"D:/BERT_learing/code_comment_inconsistency_detection/data/param/test.json\")\n",
    "    test_return = pd.read_json(\"D:/BERT_learing/code_comment_inconsistency_detection/data/return/test.json\")\n",
    "    test_summary = pd.read_json(\"D:/BERT_learing/code_comment_inconsistency_detection/data/summary/test.json\")\n",
    "    test_df = pd.concat([test_summary,test_param, test_return], axis=0)\n",
    "    test_df = test_df.reset_index(drop=True)\n",
    "    return test_df\n",
    "train_df = retrieve_train_data()\n",
    "valid_df = retrieve_valid_data()\n",
    "test_df = retrieve_test_data()"
   ]
  },
  {
   "cell_type": "code",
   "execution_count": 3,
   "id": "4cfa4f5a",
   "metadata": {},
   "outputs": [
    {
     "data": {
      "text/plain": [
       "32988"
      ]
     },
     "execution_count": 3,
     "metadata": {},
     "output_type": "execute_result"
    }
   ],
   "source": [
    "len(train_df)"
   ]
  },
  {
   "cell_type": "code",
   "execution_count": null,
   "id": "127912b7",
   "metadata": {},
   "outputs": [],
   "source": []
  },
  {
   "cell_type": "code",
   "execution_count": 4,
   "id": "e6c38354",
   "metadata": {},
   "outputs": [],
   "source": [
    "# 1 为 不一致\n",
    "# 0 为 一致\n",
    "list_old_comment = [train_df.loc[i]['old_comment_raw']for i in train_df.index[train_df['label'] == 1].tolist()]\n",
    "list_new_comment = [train_df.loc[i]['new_comment_raw']for i in train_df.index[train_df['label'] == 1].tolist()]"
   ]
  },
  {
   "cell_type": "code",
   "execution_count": 5,
   "id": "b04c2662",
   "metadata": {},
   "outputs": [
    {
     "data": {
      "text/plain": [
       "['Parses the given JSON and returns ether a JSONObject or a JSONArry',\n",
       " 'Creates a new  CounterMetric and registers it under the given class and name.',\n",
       " 'Revert a rotation/rotation rate pair.',\n",
       " 'Retrieves the ColumnDefinition corresponding to the specified raw ColumnIdentifier.',\n",
       " 'Creates a new  TimerMetric and registers it under the given class and name, measuring elapsed time in milliseconds and invocations per second.']"
      ]
     },
     "execution_count": 5,
     "metadata": {},
     "output_type": "execute_result"
    }
   ],
   "source": [
    "list_old_comment[:5]"
   ]
  },
  {
   "cell_type": "code",
   "execution_count": 6,
   "id": "92b288bd",
   "metadata": {},
   "outputs": [
    {
     "data": {
      "text/plain": [
       "['Parses the given JSON and returns either a JSONObject or a JSONArray',\n",
       " 'Creates a new  com.yammer.metrics.core.Counter and registers it under the given class and name.',\n",
       " 'Revert a rotation/rotation rate/ rotation acceleration triplet.',\n",
       " 'Retrieves the ColumnMetadata corresponding to the specified raw ColumnIdentifier.',\n",
       " 'Creates a new  com.yammer.metrics.core.Timer and registers it under the given class and name, measuring elapsed time in milliseconds and invocations per second.']"
      ]
     },
     "execution_count": 6,
     "metadata": {},
     "output_type": "execute_result"
    }
   ],
   "source": [
    "list_new_comment[:5]"
   ]
  },
  {
   "cell_type": "code",
   "execution_count": 7,
   "id": "0d50e7ce",
   "metadata": {
    "scrolled": true
   },
   "outputs": [
    {
     "data": {
      "text/plain": [
       "16494"
      ]
     },
     "execution_count": 7,
     "metadata": {},
     "output_type": "execute_result"
    }
   ],
   "source": [
    "len(list_old_comment)"
   ]
  },
  {
   "cell_type": "code",
   "execution_count": null,
   "id": "f126ebd0",
   "metadata": {},
   "outputs": [],
   "source": []
  },
  {
   "cell_type": "code",
   "execution_count": null,
   "id": "0e309745",
   "metadata": {},
   "outputs": [],
   "source": []
  },
  {
   "cell_type": "code",
   "execution_count": null,
   "id": "13adcfe1",
   "metadata": {},
   "outputs": [],
   "source": []
  },
  {
   "cell_type": "markdown",
   "id": "37baf748",
   "metadata": {},
   "source": [
    "先统计一下不一致的相似度是多少"
   ]
  },
  {
   "cell_type": "code",
   "execution_count": 8,
   "id": "ee711bd0",
   "metadata": {},
   "outputs": [],
   "source": [
    "list_old_comment = list_old_comment[:20]\n",
    "list_new_comment = list_new_comment[:20]"
   ]
  },
  {
   "cell_type": "code",
   "execution_count": 9,
   "id": "3264cf67",
   "metadata": {},
   "outputs": [
    {
     "data": {
      "text/plain": [
       "20"
      ]
     },
     "execution_count": 9,
     "metadata": {},
     "output_type": "execute_result"
    }
   ],
   "source": [
    "len(list_old_comment)"
   ]
  },
  {
   "cell_type": "code",
   "execution_count": null,
   "id": "bbdafbe2",
   "metadata": {},
   "outputs": [],
   "source": []
  },
  {
   "cell_type": "code",
   "execution_count": 10,
   "id": "c2084704",
   "metadata": {},
   "outputs": [],
   "source": [
    "from sklearn.feature_extraction.text import CountVectorizer\n",
    "from sklearn.metrics import jaccard_score\n",
    "\n",
    "# 非动态 仅以 0.8 作为过滤标准\n",
    "def get_similarity_jaccard_score(list_old, list_new):\n",
    "    vectorizer = CountVectorizer(binary=True)\n",
    "    \n",
    "    similarity_word_inconsistency = [] \n",
    "    similarity_inconsistency = []\n",
    "    \n",
    "    text_word_similarity = []\n",
    "    text_similarity = []\n",
    "    \n",
    "    count = 0\n",
    "        \n",
    "    for old, new in zip(list_old, list_new):\n",
    "        count_matrix = vectorizer.fit_transform([old, new]).toarray()\n",
    "        similarity = jaccard_score(count_matrix[0], count_matrix[1])\n",
    "\n",
    "        if similarity > 0.8 :\n",
    "            count = count + 1\n",
    "            text_similarity.append([old,new])\n",
    "            similarity_inconsistency.append(similarity)\n",
    "        else:\n",
    "            text_word_similarity.append([old,new])\n",
    "            similarity_word_inconsistency.append(similarity)\n",
    "    print(f'jaccard相似度大于0.8的有 : {count} 个')\n",
    "    return text_similarity,similarity_inconsistency,text_word_similarity,similarity_word_inconsistency"
   ]
  },
  {
   "cell_type": "code",
   "execution_count": 11,
   "id": "6eb6155c",
   "metadata": {
    "scrolled": true
   },
   "outputs": [
    {
     "name": "stdout",
     "output_type": "stream",
     "text": [
      "jaccard相似度大于0.8的有 : 1 个\n"
     ]
    }
   ],
   "source": [
    "text_above8_similarity,similarity_above8_inconsistency,text_below8_similarity,similarity_below8_inconsistency\\\n",
    "= get_similarity_jaccard_score(list_old_comment,list_new_comment)"
   ]
  },
  {
   "cell_type": "code",
   "execution_count": 12,
   "id": "e9817bda",
   "metadata": {},
   "outputs": [
    {
     "data": {
      "text/plain": [
       "0.8888888888888888"
      ]
     },
     "execution_count": 12,
     "metadata": {},
     "output_type": "execute_result"
    }
   ],
   "source": [
    "mean_inconsisency = np.mean(similarity_above8_inconsistency)\n",
    "mean_inconsisency"
   ]
  },
  {
   "cell_type": "code",
   "execution_count": 13,
   "id": "ebcc0f9f",
   "metadata": {},
   "outputs": [
    {
     "data": {
      "text/plain": [
       "0.5334611037397414"
      ]
     },
     "execution_count": 13,
     "metadata": {},
     "output_type": "execute_result"
    }
   ],
   "source": [
    "mean_inconsisency = np.mean(similarity_below8_inconsistency)\n",
    "mean_inconsisency"
   ]
  },
  {
   "cell_type": "code",
   "execution_count": null,
   "id": "c2636ea3",
   "metadata": {},
   "outputs": [],
   "source": []
  },
  {
   "cell_type": "code",
   "execution_count": 14,
   "id": "9c32fac6",
   "metadata": {},
   "outputs": [],
   "source": [
    "from sklearn.feature_extraction.text import CountVectorizer\n",
    "from sklearn.metrics import jaccard_score\n",
    "\n",
    "\n",
    "# 动态 较短的注释设置较高的阈值，而对较长的注释设置较低的阈值，可以通过注释的长度反比例调整阈值。\n",
    "# 这样可以保证短注释需要更严格的相似度，而长注释允许较宽松的匹配标准。\n",
    "def get_similarity_jaccard_score_length_adjusted_threshold(list_old, list_new, min_threshold=0.6, max_threshold=1.0):\n",
    "    vectorizer = CountVectorizer(binary=True)\n",
    "    \n",
    "    similarity_word_inconsistency = [] \n",
    "    similarity_inconsistency = []\n",
    "    \n",
    "    text_word_similarity = []\n",
    "    text_similarity = []\n",
    "    \n",
    "    count = 0\n",
    "    \n",
    "    for old, new in zip(list_old, list_new):\n",
    "        # 获取旧注释的词汇数\n",
    "        old_word_count = len(old.split())\n",
    "        \n",
    "        # 动态设置阈值，较短注释的阈值更高，较长注释的阈值更低\n",
    "        dynamic_threshold = min_threshold + (max_threshold - min_threshold) * (1 / old_word_count)\n",
    "        \n",
    "        count_matrix = vectorizer.fit_transform([old, new]).toarray()\n",
    "        similarity = jaccard_score(count_matrix[0], count_matrix[1])\n",
    "        \n",
    "#         print(f'动态阈值为: {dynamic_threshold} ')\n",
    "\n",
    "        if similarity >= dynamic_threshold:\n",
    "            count += 1\n",
    "            text_similarity.append([old, new])\n",
    "            similarity_inconsistency.append(similarity)\n",
    "        else:\n",
    "            text_word_similarity.append([old, new])\n",
    "            similarity_word_inconsistency.append(similarity)\n",
    "\n",
    "    print(f'Jaccard 相似度大于动态阈值的有: {count} 个')\n",
    "    return text_similarity, similarity_inconsistency, text_word_similarity, similarity_word_inconsistency"
   ]
  },
  {
   "cell_type": "code",
   "execution_count": 15,
   "id": "b1e138a0",
   "metadata": {},
   "outputs": [],
   "source": [
    "list_old_comment = [train_df.loc[i]['old_comment_raw']for i in train_df.index[train_df['label'] == 1].tolist()]\n",
    "list_new_comment = [train_df.loc[i]['new_comment_raw']for i in train_df.index[train_df['label'] == 1].tolist()]"
   ]
  },
  {
   "cell_type": "code",
   "execution_count": 16,
   "id": "eac23584",
   "metadata": {},
   "outputs": [
    {
     "name": "stdout",
     "output_type": "stream",
     "text": [
      "Jaccard 相似度大于动态阈值的有: 7847 个\n"
     ]
    }
   ],
   "source": [
    "text_abovethreshold_similarity,similarity_abovethreshold_inconsistency,\\\n",
    "text_belowthreshold_similarity,similarity_belowthreshold_inconsistency\\\n",
    "= get_similarity_jaccard_score_length_adjusted_threshold(list_old_comment,list_new_comment)"
   ]
  },
  {
   "cell_type": "code",
   "execution_count": 17,
   "id": "95a8796e",
   "metadata": {},
   "outputs": [
    {
     "data": {
      "text/plain": [
       "0.7980160981229073"
      ]
     },
     "execution_count": 17,
     "metadata": {},
     "output_type": "execute_result"
    }
   ],
   "source": [
    "mean_inconsisency = np.mean(similarity_abovethreshold_inconsistency)\n",
    "mean_inconsisency"
   ]
  },
  {
   "cell_type": "code",
   "execution_count": 18,
   "id": "2e52253b",
   "metadata": {},
   "outputs": [
    {
     "data": {
      "text/plain": [
       "7847"
      ]
     },
     "execution_count": 18,
     "metadata": {},
     "output_type": "execute_result"
    }
   ],
   "source": [
    "len(text_abovethreshold_similarity)"
   ]
  },
  {
   "cell_type": "code",
   "execution_count": 19,
   "id": "c11e3709",
   "metadata": {},
   "outputs": [
    {
     "data": {
      "text/plain": [
       "8647"
      ]
     },
     "execution_count": 19,
     "metadata": {},
     "output_type": "execute_result"
    }
   ],
   "source": [
    "len(similarity_belowthreshold_inconsistency)"
   ]
  },
  {
   "cell_type": "code",
   "execution_count": 20,
   "id": "2660cc38",
   "metadata": {},
   "outputs": [
    {
     "data": {
      "text/plain": [
       "0.39292091917542554"
      ]
     },
     "execution_count": 20,
     "metadata": {},
     "output_type": "execute_result"
    }
   ],
   "source": [
    "mean_inconsisency = np.mean(similarity_belowthreshold_inconsistency)\n",
    "mean_inconsisency"
   ]
  },
  {
   "cell_type": "code",
   "execution_count": 21,
   "id": "273826cb",
   "metadata": {},
   "outputs": [
    {
     "data": {
      "image/png": "[encoded data removed]",
      "text/plain": [
       "<Figure size 640x480 with 1 Axes>"
      ]
     },
     "metadata": {},
     "output_type": "display_data"
    }
   ],
   "source": [
    "import matplotlib.pyplot as plt\n",
    "\n",
    "# 绘制直方图\n",
    "plt.hist(similarity_abovethreshold_inconsistency, bins=10, edgecolor='black')\n",
    "plt.xlabel(\"value\")\n",
    "plt.ylabel(\"time\")\n",
    "plt.title(\"pictures\")\n",
    "plt.show()"
   ]
  },
  {
   "cell_type": "code",
   "execution_count": 22,
   "id": "f5b6b154",
   "metadata": {},
   "outputs": [
    {
     "data": {
      "image/png": "[encoded data removed]",
      "text/plain": [
       "<Figure size 640x480 with 1 Axes>"
      ]
     },
     "metadata": {},
     "output_type": "display_data"
    }
   ],
   "source": [
    "import matplotlib.pyplot as plt\n",
    "\n",
    "# 绘制直方图\n",
    "plt.hist(similarity_belowthreshold_inconsistency, bins=10, edgecolor='black')\n",
    "plt.xlabel(\"value\")\n",
    "plt.ylabel(\"time\")\n",
    "plt.title(\"pictures\")\n",
    "plt.show()"
   ]
  },
  {
   "cell_type": "code",
   "execution_count": null,
   "id": "3ebe5ee9",
   "metadata": {},
   "outputs": [],
   "source": []
  },
  {
   "cell_type": "code",
   "execution_count": null,
   "id": "9f37e187",
   "metadata": {},
   "outputs": [],
   "source": []
  },
  {
   "cell_type": "code",
   "execution_count": 23,
   "id": "fff54c6c",
   "metadata": {
    "scrolled": true
   },
   "outputs": [
    {
     "name": "stdout",
     "output_type": "stream",
     "text": [
      "Jaccard 相似度大于动态阈值的有: 12075 个\n"
     ]
    }
   ],
   "source": [
    "from sklearn.feature_extraction.text import CountVectorizer\n",
    "from sklearn.metrics import jaccard_score\n",
    "\n",
    "def get_similarity_jaccard_score_proportional_threshold(list_old, list_new, base_threshold=0.6, scaling_factor=0.05):\n",
    "    vectorizer = CountVectorizer(binary=True)\n",
    "    \n",
    "    similarity_word_inconsistency = [] \n",
    "    similarity_inconsistency = []\n",
    "    \n",
    "    text_word_similarity = []\n",
    "    text_similarity = []\n",
    "    \n",
    "    count = 0\n",
    "    \n",
    "    for old, new in zip(list_old, list_new):\n",
    "        # 获取新旧注释的词汇长度\n",
    "        old_len = len(old.split())\n",
    "        new_len = len(new.split())\n",
    "     \n",
    "        # 根据新旧注释长度差值来调整阈值\n",
    "        if old_len > new_len:\n",
    "            length_diff = new_len - old_len\n",
    "            dynamic_threshold  = base_threshold + scaling_factor * length_diff\n",
    "        else:\n",
    "            length_diff = old_len - new_len\n",
    "            dynamic_threshold  = base_threshold + scaling_factor * length_diff\n",
    "        \n",
    "#         print(f'动态阈值为: {dynamic_threshold} ')\n",
    "        \n",
    "        # 计算 Jaccard 相似度\n",
    "        count_matrix = vectorizer.fit_transform([old, new]).toarray()\n",
    "        similarity = jaccard_score(count_matrix[0], count_matrix[1])\n",
    "\n",
    "        # 判断是否满足相似度阈值条件\n",
    "        if similarity >= dynamic_threshold:\n",
    "            count += 1\n",
    "            text_similarity.append([old, new])\n",
    "            similarity_inconsistency.append(similarity)\n",
    "        else:\n",
    "            text_word_similarity.append([old, new])\n",
    "            similarity_word_inconsistency.append(similarity)\n",
    "\n",
    "    print(f'Jaccard 相似度大于动态阈值的有: {count} 个')\n",
    "    return text_similarity, similarity_inconsistency, text_word_similarity, similarity_word_inconsistency\n",
    "\n",
    "# 使用动态阈值方法，设定基础阈值为 0.6，比例增量为 0.05\n",
    "text_abovethreshold_similarity_2,similarity_abovethreshold_inconsistency_2,\\\n",
    "text_belowthreshold_similarity_2,similarity_belowthreshold_inconsistency_2\\\n",
    "= get_similarity_jaccard_score_proportional_threshold(list_old_comment,list_new_comment)"
   ]
  },
  {
   "cell_type": "code",
   "execution_count": 24,
   "id": "311a553d",
   "metadata": {},
   "outputs": [
    {
     "data": {
      "text/plain": [
       "0.68940617521928"
      ]
     },
     "execution_count": 24,
     "metadata": {},
     "output_type": "execute_result"
    }
   ],
   "source": [
    "mean_inconsisency = np.mean(similarity_abovethreshold_inconsistency_2)\n",
    "mean_inconsisency"
   ]
  },
  {
   "cell_type": "code",
   "execution_count": 25,
   "id": "b3ec83bd",
   "metadata": {},
   "outputs": [
    {
     "data": {
      "text/plain": [
       "12075"
      ]
     },
     "execution_count": 25,
     "metadata": {},
     "output_type": "execute_result"
    }
   ],
   "source": [
    "len(text_abovethreshold_similarity_2)"
   ]
  },
  {
   "cell_type": "code",
   "execution_count": 26,
   "id": "70fcd26e",
   "metadata": {},
   "outputs": [
    {
     "data": {
      "text/plain": [
       "4419"
      ]
     },
     "execution_count": 26,
     "metadata": {},
     "output_type": "execute_result"
    }
   ],
   "source": [
    "len(similarity_belowthreshold_inconsistency_2)"
   ]
  },
  {
   "cell_type": "code",
   "execution_count": 27,
   "id": "2a7c9f79",
   "metadata": {},
   "outputs": [
    {
     "data": {
      "text/plain": [
       "0.30211358775911973"
      ]
     },
     "execution_count": 27,
     "metadata": {},
     "output_type": "execute_result"
    }
   ],
   "source": [
    "mean_inconsisency = np.mean(similarity_belowthreshold_inconsistency_2)\n",
    "mean_inconsisency"
   ]
  },
  {
   "cell_type": "code",
   "execution_count": 28,
   "id": "1381ebaf",
   "metadata": {},
   "outputs": [
    {
     "data": {
      "image/png": "[encoded data removed]",
      "text/plain": [
       "<Figure size 640x480 with 1 Axes>"
      ]
     },
     "metadata": {},
     "output_type": "display_data"
    }
   ],
   "source": [
    "import matplotlib.pyplot as plt\n",
    "\n",
    "# 绘制直方图\n",
    "plt.hist(similarity_abovethreshold_inconsistency_2, bins=10, edgecolor='black')\n",
    "plt.xlabel(\"value\")\n",
    "plt.ylabel(\"time\")\n",
    "plt.title(\"pictures\")\n",
    "plt.show()"
   ]
  },
  {
   "cell_type": "code",
   "execution_count": 29,
   "id": "16fd2197",
   "metadata": {},
   "outputs": [
    {
     "data": {
      "image/png": "[encoded data removed]",
      "text/plain": [
       "<Figure size 640x480 with 1 Axes>"
      ]
     },
     "metadata": {},
     "output_type": "display_data"
    }
   ],
   "source": [
    "import matplotlib.pyplot as plt\n",
    "\n",
    "# 绘制直方图\n",
    "plt.hist(similarity_belowthreshold_inconsistency_2, bins=10, edgecolor='black')\n",
    "plt.xlabel(\"value\")\n",
    "plt.ylabel(\"time\")\n",
    "plt.title(\"pictures\")\n",
    "plt.show()"
   ]
  },
  {
   "cell_type": "code",
   "execution_count": null,
   "id": "a3f8a603",
   "metadata": {},
   "outputs": [],
   "source": []
  },
  {
   "cell_type": "code",
   "execution_count": null,
   "id": "d713ef4b",
   "metadata": {},
   "outputs": [],
   "source": []
  },
  {
   "cell_type": "code",
   "execution_count": 30,
   "id": "83bec845",
   "metadata": {},
   "outputs": [
    {
     "name": "stderr",
     "output_type": "stream",
     "text": [
      "D:\\anaconda\\envs\\leitx\\Lib\\site-packages\\sentence_transformers\\cross_encoder\\CrossEncoder.py:11: TqdmExperimentalWarning: Using `tqdm.autonotebook.tqdm` in notebook mode. Use `tqdm.tqdm` instead to force console mode (e.g. in jupyter console)\n",
      "  from tqdm.autonotebook import tqdm, trange\n",
      "D:\\anaconda\\envs\\leitx\\Lib\\site-packages\\huggingface_hub\\file_download.py:1132: FutureWarning: `resume_download` is deprecated and will be removed in version 1.0.0. Downloads always resume when possible. If you want to force a new download, use `force_download=True`.\n",
      "  warnings.warn(\n"
     ]
    }
   ],
   "source": [
    "from sentence_transformers import SentenceTransformer, util\n",
    "\n",
    "# 加载Sentence-BERT模型\n",
    "model = SentenceTransformer('sentence-transformers/paraphrase-MiniLM-L6-v2')"
   ]
  },
  {
   "cell_type": "code",
   "execution_count": 31,
   "id": "21202066",
   "metadata": {},
   "outputs": [],
   "source": [
    "def get_similarity_Sentence_BERT_test(model, list_word):\n",
    "    similarity_list_inconsistency = []\n",
    "    \n",
    "    for i in range(0, len(list_word)):\n",
    "        batch_old = list_word[i][0]\n",
    "        batch_new = list_word[i][1]\n",
    "        \n",
    "        embedding1 = model.encode(batch_old, convert_to_tensor=True)\n",
    "        embedding2 = model.encode(batch_new, convert_to_tensor=True)\n",
    "        \n",
    "        similarity = util.pytorch_cos_sim(embedding1, embedding2)\n",
    "        similarity_list_inconsistency.extend([similarity.item()])\n",
    "    \n",
    "    return similarity_list_inconsistency"
   ]
  },
  {
   "cell_type": "code",
   "execution_count": 32,
   "id": "12e7f962",
   "metadata": {},
   "outputs": [],
   "source": [
    "similarity_list_inconsisency_Bert = get_similarity_Sentence_BERT_test(model,text_below8_similarity)"
   ]
  },
  {
   "cell_type": "code",
   "execution_count": 33,
   "id": "29dc32b8",
   "metadata": {},
   "outputs": [
    {
     "data": {
      "text/plain": [
       "0.7018726832163684"
      ]
     },
     "execution_count": 33,
     "metadata": {},
     "output_type": "execute_result"
    }
   ],
   "source": [
    "similarity_threshold_inconsisency_Bert = get_similarity_Sentence_BERT_test(model,text_belowthreshold_similarity)\n",
    "mean_inconsisency = np.mean(similarity_threshold_inconsisency_Bert)\n",
    "mean_inconsisency"
   ]
  },
  {
   "cell_type": "code",
   "execution_count": 34,
   "id": "7036d477",
   "metadata": {},
   "outputs": [
    {
     "data": {
      "image/png": "[encoded data removed]",
      "text/plain": [
       "<Figure size 640x480 with 1 Axes>"
      ]
     },
     "metadata": {},
     "output_type": "display_data"
    }
   ],
   "source": [
    "import matplotlib.pyplot as plt\n",
    "\n",
    "# 绘制直方图\n",
    "plt.hist(similarity_threshold_inconsisency_Bert, bins=10, edgecolor='black')\n",
    "plt.xlabel(\"value\")\n",
    "plt.ylabel(\"time\")\n",
    "plt.title(\"pictures\")\n",
    "plt.show()"
   ]
  },
  {
   "cell_type": "code",
   "execution_count": null,
   "id": "3901fbeb",
   "metadata": {},
   "outputs": [],
   "source": []
  },
  {
   "cell_type": "code",
   "execution_count": null,
   "id": "7ebc49c2",
   "metadata": {},
   "outputs": [],
   "source": []
  },
  {
   "cell_type": "code",
   "execution_count": 35,
   "id": "f6e21bfd",
   "metadata": {},
   "outputs": [],
   "source": [
    "def get_similarity_Sentence_BERT(model, list_word):\n",
    "    \n",
    "    similarity_inconsistency_filter = []\n",
    "    similarity_inconsistency_result = []\n",
    "    \n",
    "    text_filter = []\n",
    "    text_result = []\n",
    "    \n",
    "    count = 0\n",
    "\n",
    "    for i in range(0, len(list_word)):\n",
    "        batch_old = list_word[i][0]\n",
    "        batch_new = list_word[i][1]\n",
    "        \n",
    "        embedding1 = model.encode(batch_old, convert_to_tensor=True)\n",
    "        embedding2 = model.encode(batch_new, convert_to_tensor=True)\n",
    "        \n",
    "        similarity = util.pytorch_cos_sim(embedding1, embedding2)\n",
    "        # 大于0.8 过滤掉\n",
    "        if similarity.item() > 0.9:\n",
    "            count += 1\n",
    "            text_filter.append(list_word[i])\n",
    "            similarity_inconsistency_filter.extend([similarity.item()])\n",
    "        else:          \n",
    "            text_result.append(list_word[i])\n",
    "            similarity_inconsistency_result.extend([similarity.item()])\n",
    "    print(f'大于阈值的有: {count} 个')\n",
    "    return text_result,similarity_inconsistency_result,text_filter,similarity_inconsistency_filter"
   ]
  },
  {
   "cell_type": "code",
   "execution_count": 36,
   "id": "8d43d6a5",
   "metadata": {},
   "outputs": [
    {
     "name": "stdout",
     "output_type": "stream",
     "text": [
      "大于阈值的有: 799 个\n"
     ]
    }
   ],
   "source": [
    "text_result,similarity_inconsistency_result,text_filter,similarity_inconsistency_filter\\\n",
    "= get_similarity_Sentence_BERT(model,text_belowthreshold_similarity)"
   ]
  },
  {
   "cell_type": "code",
   "execution_count": 37,
   "id": "ae44aa50",
   "metadata": {},
   "outputs": [
    {
     "data": {
      "text/plain": [
       "8647"
      ]
     },
     "execution_count": 37,
     "metadata": {},
     "output_type": "execute_result"
    }
   ],
   "source": [
    "len(text_belowthreshold_similarity)"
   ]
  },
  {
   "cell_type": "code",
   "execution_count": 38,
   "id": "d32e68f6",
   "metadata": {},
   "outputs": [
    {
     "data": {
      "text/plain": [
       "7848"
      ]
     },
     "execution_count": 38,
     "metadata": {},
     "output_type": "execute_result"
    }
   ],
   "source": [
    "len(text_result)"
   ]
  },
  {
   "cell_type": "code",
   "execution_count": 39,
   "id": "4623868a",
   "metadata": {},
   "outputs": [
    {
     "data": {
      "text/plain": [
       "[['Removes the variable.',\n",
       "  'Removes the variable and returns the removed value.'],\n",
       " ['If I was able to use a  CacheEntity to response to the  HttpRequest then generate an  HttpResponse based on the cache entry.',\n",
       "  'If it is legal to use cached content in response response to the  HttpRequest then generate an  HttpResponse based on  HttpCacheEntry.'],\n",
       " [\"Get the work directory of the current schedule 'workdir'/'project'/'schedule' \",\n",
       "  \"Gets the work directory of this schedule 'workdir'/'project'/'schedule'.\"],\n",
       " ['dispatch plan creation based on analysis type',\n",
       "  'dispatch plan creation based on analyzed statement'],\n",
       " ['Build an instance of MongoClientOptions.',\n",
       "  'Build an instance of  MongoClientSettings.'],\n",
       " ['Gets list edit part.', 'Gets list edit parts.'],\n",
       " ['Sends a request to the elasticsearch cluster that the current client points to and waits for the corresponding response to be returned.',\n",
       "  'Sends a request to the elasticsearch cluster that the current client points to.'],\n",
       " ['outx,outy are the coordinates out of the box inx,iny are the coordinates from the box',\n",
       "  'outx,outy are the coordinates out of the box inx,iny are the coordinates from the box (NOT IMPORTANT in/out, just one should be in second out)'],\n",
       " ['Get the character conversion data for a given key code.',\n",
       "  'Get the characters conversion data for a given keyCode.'],\n",
       " ['Return mutated, for mutated events.',\n",
       "  'Return the collection of mutated individuals, for mutated events.']]"
      ]
     },
     "execution_count": 39,
     "metadata": {},
     "output_type": "execute_result"
    }
   ],
   "source": [
    "text_filter[:10]"
   ]
  },
  {
   "cell_type": "code",
   "execution_count": 40,
   "id": "9bcb3cdd",
   "metadata": {},
   "outputs": [
    {
     "data": {
      "text/plain": [
       "[0.9048896431922913,\n",
       " 0.9076058864593506,\n",
       " 0.945710301399231,\n",
       " 0.9435141682624817,\n",
       " 0.9386283159255981,\n",
       " 0.9413950443267822,\n",
       " 0.9370062947273254,\n",
       " 0.9536461234092712,\n",
       " 0.9508100748062134,\n",
       " 0.910328209400177]"
      ]
     },
     "execution_count": 40,
     "metadata": {},
     "output_type": "execute_result"
    }
   ],
   "source": [
    "similarity_inconsistency_filter[:10]"
   ]
  },
  {
   "cell_type": "code",
   "execution_count": 41,
   "id": "8bb0ae2c",
   "metadata": {},
   "outputs": [
    {
     "data": {
      "text/plain": [
       "[['Check DataBlockEncodings for column families.',\n",
       "  'Check DataBlockEncodings of column families are compatible.'],\n",
       " ['Get singleton  UserTransaction lazily.',\n",
       "  'Get singleton  UserTransactionManager lazily.'],\n",
       " ['Removes the w s r p consumer from the database.',\n",
       "  'Removes the w s r p consumer with the primary key from the database.'],\n",
       " ['calculate the variance-covariance matrix, treat each point as a sample',\n",
       "  'Calculates the variance-covariance matrix of a set of points.'],\n",
       " [\"Begin a load with Glide that will be tied to the given  android.support.v4.app.Fragment's lifecycle and that uses the given  android.support.v4.app.Fragment's default options.\",\n",
       "  'Begin a load with Glide that will be tied to the lifecycle of the  Fragment,  android.app.Fragment, or  Activity that contains the View.'],\n",
       " [\"Changes this user's password asynchronously.\",\n",
       "  \"Changes another user's password asynchronously.\"],\n",
       " ['Convenience method to mkdirs recursively.',\n",
       "  'Convenience method for mkdirs with recursive set.'],\n",
       " ['Parses the TestNG test suite and returns the corresponding XmlSuite.',\n",
       "  'Parses the TestNG test suite and returns the corresponding XmlSuite, and possibly, other XmlSuite that are pointed to by  tags.'],\n",
       " ['Init AWS Elasticache servers configuration by config object.',\n",
       "  'Init AWS Elasticache servers configuration.'],\n",
       " ['Returns reference to BackendListenerClient.',\n",
       "  'Returns reference to  BackendListener']]"
      ]
     },
     "execution_count": 41,
     "metadata": {},
     "output_type": "execute_result"
    }
   ],
   "source": [
    "text_filter[10:20]"
   ]
  },
  {
   "cell_type": "code",
   "execution_count": 42,
   "id": "46bdcc59",
   "metadata": {},
   "outputs": [
    {
     "data": {
      "text/plain": [
       "[0.9474596977233887,\n",
       " 0.9586507081985474,\n",
       " 0.9039474725723267,\n",
       " 0.9057900905609131,\n",
       " 0.9029049873352051,\n",
       " 0.9636608958244324,\n",
       " 0.9306247234344482,\n",
       " 0.9488253593444824,\n",
       " 0.935778021812439,\n",
       " 0.9516746997833252]"
      ]
     },
     "execution_count": 42,
     "metadata": {},
     "output_type": "execute_result"
    }
   ],
   "source": [
    "similarity_inconsistency_filter[10:20]"
   ]
  },
  {
   "cell_type": "code",
   "execution_count": null,
   "id": "61fffb63",
   "metadata": {},
   "outputs": [],
   "source": []
  },
  {
   "cell_type": "code",
   "execution_count": 119,
   "id": "47cc8063",
   "metadata": {},
   "outputs": [
    {
     "data": {
      "text/plain": [
       "799"
      ]
     },
     "execution_count": 119,
     "metadata": {},
     "output_type": "execute_result"
    }
   ],
   "source": [
    "len(text_filter)"
   ]
  },
  {
   "cell_type": "code",
   "execution_count": 120,
   "id": "07402591",
   "metadata": {},
   "outputs": [
    {
     "data": {
      "text/plain": [
       "0.934692248012008"
      ]
     },
     "execution_count": 120,
     "metadata": {},
     "output_type": "execute_result"
    }
   ],
   "source": [
    "np.mean(similarity_inconsistency_filter)"
   ]
  },
  {
   "cell_type": "code",
   "execution_count": 121,
   "id": "ac264c49",
   "metadata": {},
   "outputs": [
    {
     "data": {
      "image/png": "[encoded data removed]",
      "text/plain": [
       "<Figure size 640x480 with 1 Axes>"
      ]
     },
     "metadata": {},
     "output_type": "display_data"
    }
   ],
   "source": [
    "import matplotlib.pyplot as plt\n",
    "\n",
    "# 绘制直方图\n",
    "plt.hist(similarity_inconsistency_filter, bins=10, edgecolor='black')\n",
    "plt.xlabel(\"value\")\n",
    "plt.ylabel(\"time\")\n",
    "plt.title(\"pictures\")\n",
    "plt.show()"
   ]
  },
  {
   "cell_type": "markdown",
   "id": "a5900f2f",
   "metadata": {},
   "source": [
    "剩余数据的个数为  len(text_abovethreshold_similarity) + len(text_result)"
   ]
  },
  {
   "cell_type": "code",
   "execution_count": 122,
   "id": "6d2ca19c",
   "metadata": {},
   "outputs": [
    {
     "data": {
      "text/plain": [
       "(16494, 7847, 7848)"
      ]
     },
     "execution_count": 122,
     "metadata": {},
     "output_type": "execute_result"
    }
   ],
   "source": [
    "len(list_old_comment),len(text_abovethreshold_similarity),len(text_result)"
   ]
  },
  {
   "cell_type": "code",
   "execution_count": null,
   "id": "b94babdd",
   "metadata": {},
   "outputs": [],
   "source": []
  },
  {
   "cell_type": "code",
   "execution_count": null,
   "id": "9c7cb0da",
   "metadata": {},
   "outputs": [],
   "source": []
  },
  {
   "cell_type": "code",
   "execution_count": 123,
   "id": "316dfc27",
   "metadata": {},
   "outputs": [
    {
     "name": "stdout",
     "output_type": "stream",
     "text": [
      "大于阈值的有: 217 个\n"
     ]
    }
   ],
   "source": [
    "text_result_2,similarity_inconsistency_result_2,text_filter_2,similarity_inconsistency_filter_2\\\n",
    "= get_similarity_Sentence_BERT(model,text_belowthreshold_similarity_2)"
   ]
  },
  {
   "cell_type": "code",
   "execution_count": 130,
   "id": "11b30611",
   "metadata": {
    "collapsed": true
   },
   "outputs": [
    {
     "data": {
      "text/plain": [
       "[['If I was able to use a  CacheEntity to response to the  HttpRequest then generate an  HttpResponse based on the cache entry.',\n",
       "  'If it is legal to use cached content in response response to the  HttpRequest then generate an  HttpResponse based on  HttpCacheEntry.'],\n",
       " ['dispatch plan creation based on analysis type',\n",
       "  'dispatch plan creation based on analyzed statement'],\n",
       " ['Get the character conversion data for a given key code.',\n",
       "  'Get the characters conversion data for a given keyCode.'],\n",
       " ['calculate the variance-covariance matrix, treat each point as a sample',\n",
       "  'Calculates the variance-covariance matrix of a set of points.'],\n",
       " [\"Begin a load with Glide that will be tied to the given  android.support.v4.app.Fragment's lifecycle and that uses the given  android.support.v4.app.Fragment's default options.\",\n",
       "  'Begin a load with Glide that will be tied to the lifecycle of the  Fragment,  android.app.Fragment, or  Activity that contains the View.'],\n",
       " ['Convenience method to mkdirs recursively.',\n",
       "  'Convenience method for mkdirs with recursive set.'],\n",
       " ['Returns the  SocksV5CmdType of this  SocksV5CmdRequest',\n",
       "  'Returns the  Socks5CmdType of this  Socks5CmdRequest'],\n",
       " ['Returns the  SocksV5AuthScheme of this  SocksV5InitResponse',\n",
       "  'Returns the  Socks5AuthScheme of this  Socks5InitResponse'],\n",
       " ['Opens a connection', 'Open connection'],\n",
       " ['Returns the  SocksV4CmdType of this  SocksV4Request',\n",
       "  'Returns the  Socks4CmdType of this  Socks4Request']]"
      ]
     },
     "execution_count": 130,
     "metadata": {},
     "output_type": "execute_result"
    }
   ],
   "source": [
    "text_filter_2[:10]"
   ]
  },
  {
   "cell_type": "code",
   "execution_count": 131,
   "id": "4a85989b",
   "metadata": {
    "scrolled": true
   },
   "outputs": [
    {
     "data": {
      "text/plain": [
       "[0.9076058864593506,\n",
       " 0.9435141682624817,\n",
       " 0.9508100748062134,\n",
       " 0.9057900905609131,\n",
       " 0.9029049873352051,\n",
       " 0.9306247234344482,\n",
       " 0.9595814347267151,\n",
       " 0.9611199498176575,\n",
       " 0.9280614256858826,\n",
       " 0.951404869556427]"
      ]
     },
     "execution_count": 131,
     "metadata": {},
     "output_type": "execute_result"
    }
   ],
   "source": [
    "similarity_inconsistency_filter_2[:10]"
   ]
  },
  {
   "cell_type": "code",
   "execution_count": 124,
   "id": "2c218633",
   "metadata": {},
   "outputs": [
    {
     "data": {
      "text/plain": [
       "4202"
      ]
     },
     "execution_count": 124,
     "metadata": {},
     "output_type": "execute_result"
    }
   ],
   "source": [
    "len(text_result_2)"
   ]
  },
  {
   "cell_type": "code",
   "execution_count": 125,
   "id": "c07bf5bf",
   "metadata": {
    "scrolled": true
   },
   "outputs": [
    {
     "data": {
      "text/plain": [
       "217"
      ]
     },
     "execution_count": 125,
     "metadata": {},
     "output_type": "execute_result"
    }
   ],
   "source": [
    "len(text_filter_2)"
   ]
  },
  {
   "cell_type": "markdown",
   "id": "a62b056c",
   "metadata": {},
   "source": [
    "剩余数据的个数为  len(text_abovethreshold_similarity_2) + len(text_result_2)"
   ]
  },
  {
   "cell_type": "code",
   "execution_count": 127,
   "id": "7dd717dd",
   "metadata": {},
   "outputs": [
    {
     "data": {
      "text/plain": [
       "(16494, 12075, 4202)"
      ]
     },
     "execution_count": 127,
     "metadata": {},
     "output_type": "execute_result"
    }
   ],
   "source": [
    "# train\n",
    "len(list_old_comment),len(text_abovethreshold_similarity_2),len(text_result_2)"
   ]
  },
  {
   "cell_type": "code",
   "execution_count": null,
   "id": "a143d9c6",
   "metadata": {},
   "outputs": [],
   "source": []
  },
  {
   "cell_type": "markdown",
   "id": "79a69971",
   "metadata": {},
   "source": [
    "valid"
   ]
  },
  {
   "cell_type": "code",
   "execution_count": 202,
   "id": "5874be59",
   "metadata": {},
   "outputs": [],
   "source": [
    "# 1 为 不一致\n",
    "# 0 为 一致\n",
    "list_old_comment_valid = [valid_df.loc[i]['old_comment_raw']for i in valid_df.index[valid_df['label'] == 1].tolist()]\n",
    "list_new_comment_valid = [valid_df.loc[i]['new_comment_raw']for i in valid_df.index[valid_df['label'] == 1].tolist()]"
   ]
  },
  {
   "cell_type": "code",
   "execution_count": 203,
   "id": "acca33aa",
   "metadata": {},
   "outputs": [
    {
     "name": "stdout",
     "output_type": "stream",
     "text": [
      "Jaccard 相似度大于动态阈值的有: 1321 个\n"
     ]
    }
   ],
   "source": [
    "# valid\n",
    "text_abovethreshold_similarity_valid,similarity_abovethreshold_inconsistency_valid,\\\n",
    "text_belowthreshold_similarity_valid,similarity_belowthreshold_inconsistency_valid\\\n",
    "= get_similarity_jaccard_score_proportional_threshold(list_old_comment_valid,list_new_comment_valid)"
   ]
  },
  {
   "cell_type": "code",
   "execution_count": 204,
   "id": "c5103a3c",
   "metadata": {},
   "outputs": [
    {
     "name": "stdout",
     "output_type": "stream",
     "text": [
      "大于阈值的有: 41 个\n"
     ]
    }
   ],
   "source": [
    "text_result_valid,similarity_inconsistency_result_valid,text_filter_valid,similarity_inconsistency_filter_valid\\\n",
    "= get_similarity_Sentence_BERT(model,text_belowthreshold_similarity_valid)"
   ]
  },
  {
   "cell_type": "code",
   "execution_count": 205,
   "id": "54b330e8",
   "metadata": {},
   "outputs": [
    {
     "data": {
      "text/plain": [
       "(1878, 1321, 516)"
      ]
     },
     "execution_count": 205,
     "metadata": {},
     "output_type": "execute_result"
    }
   ],
   "source": [
    "len(list_old_comment_valid),len(text_abovethreshold_similarity_valid),len(text_result_valid)"
   ]
  },
  {
   "cell_type": "code",
   "execution_count": null,
   "id": "94c639a7",
   "metadata": {},
   "outputs": [],
   "source": []
  },
  {
   "cell_type": "markdown",
   "id": "5223189f",
   "metadata": {},
   "source": [
    "test"
   ]
  },
  {
   "cell_type": "code",
   "execution_count": 206,
   "id": "f800893c",
   "metadata": {},
   "outputs": [],
   "source": [
    "# 1 为 不一致\n",
    "# 0 为 一致\n",
    "list_old_comment_test = [test_df.loc[i]['old_comment_raw']for i in test_df.index[test_df['label'] == 1].tolist()]\n",
    "list_new_comment_test = [test_df.loc[i]['new_comment_raw']for i in test_df.index[test_df['label'] == 1].tolist()]"
   ]
  },
  {
   "cell_type": "code",
   "execution_count": 207,
   "id": "7f4ce195",
   "metadata": {},
   "outputs": [
    {
     "name": "stdout",
     "output_type": "stream",
     "text": [
      "Jaccard 相似度大于动态阈值的有: 1429 个\n"
     ]
    }
   ],
   "source": [
    "# valid\n",
    "text_abovethreshold_similarity_test,similarity_abovethreshold_inconsistency_test,\\\n",
    "text_belowthreshold_similarity_test,similarity_belowthreshold_inconsistency_test\\\n",
    "= get_similarity_jaccard_score_proportional_threshold(list_old_comment_test,list_new_comment_test)"
   ]
  },
  {
   "cell_type": "code",
   "execution_count": 208,
   "id": "2e7aca5e",
   "metadata": {},
   "outputs": [
    {
     "name": "stdout",
     "output_type": "stream",
     "text": [
      "大于阈值的有: 17 个\n"
     ]
    }
   ],
   "source": [
    "text_result_test,similarity_inconsistency_result_test,text_filter_test,similarity_inconsistency_filter_test\\\n",
    "= get_similarity_Sentence_BERT(model,text_belowthreshold_similarity_test)"
   ]
  },
  {
   "cell_type": "code",
   "execution_count": 209,
   "id": "ecd70b3d",
   "metadata": {},
   "outputs": [
    {
     "data": {
      "text/plain": [
       "(1972, 1429, 526)"
      ]
     },
     "execution_count": 209,
     "metadata": {},
     "output_type": "execute_result"
    }
   ],
   "source": [
    "len(list_old_comment_test),len(text_abovethreshold_similarity_test),len(text_result_test)"
   ]
  },
  {
   "cell_type": "code",
   "execution_count": null,
   "id": "84693146",
   "metadata": {},
   "outputs": [],
   "source": []
  },
  {
   "cell_type": "code",
   "execution_count": null,
   "id": "a3add212",
   "metadata": {},
   "outputs": [],
   "source": []
  },
  {
   "cell_type": "markdown",
   "id": "821ff649",
   "metadata": {},
   "source": [
    "SATD数量"
   ]
  },
  {
   "cell_type": "code",
   "execution_count": 187,
   "id": "218d8440",
   "metadata": {},
   "outputs": [],
   "source": [
    "def get_SATD_index(list_old):\n",
    "    SATD_index = []\n",
    "    for i in range(0,len(list_old)):\n",
    "        if list_old[i] == 'DOCUMENT ME!':\n",
    "            SATD_index.append(i)\n",
    "    return SATD_index"
   ]
  },
  {
   "cell_type": "code",
   "execution_count": 188,
   "id": "e61300d4",
   "metadata": {},
   "outputs": [],
   "source": [
    "# train_data\n",
    "# 1 为 不一致\n",
    "# 0 为 一致\n",
    "list_old_comment = train_df['old_comment_raw'].to_list()\n",
    "list_new_comment = train_df['new_comment_raw'].to_list()"
   ]
  },
  {
   "cell_type": "code",
   "execution_count": 189,
   "id": "a63bf092",
   "metadata": {},
   "outputs": [
    {
     "data": {
      "text/plain": [
       "[]"
      ]
     },
     "execution_count": 189,
     "metadata": {},
     "output_type": "execute_result"
    }
   ],
   "source": [
    "SATD_index_train_old =get_SATD_index(list_old_comment)\n",
    "SATD_index_train_old"
   ]
  },
  {
   "cell_type": "code",
   "execution_count": 190,
   "id": "6ac63c3b",
   "metadata": {},
   "outputs": [
    {
     "data": {
      "text/plain": [
       "[]"
      ]
     },
     "execution_count": 190,
     "metadata": {},
     "output_type": "execute_result"
    }
   ],
   "source": [
    "SATD_index_train_new =get_SATD_index(list_new_comment)\n",
    "SATD_index_train_new"
   ]
  },
  {
   "cell_type": "code",
   "execution_count": 198,
   "id": "bb632019",
   "metadata": {},
   "outputs": [],
   "source": [
    "# valid_data\n",
    "# 1 为 不一致\n",
    "# 0 为 一致\n",
    "list_old_comment_valid = valid_df['old_comment_raw'].to_list() \n",
    "list_new_comment_valid = valid_df['new_comment_raw'].to_list() "
   ]
  },
  {
   "cell_type": "code",
   "execution_count": 199,
   "id": "821b3952",
   "metadata": {
    "collapsed": true
   },
   "outputs": [
    {
     "data": {
      "text/plain": [
       "[38,\n",
       " 119,\n",
       " 136,\n",
       " 174,\n",
       " 176,\n",
       " 190,\n",
       " 192,\n",
       " 196,\n",
       " 238,\n",
       " 259,\n",
       " 307,\n",
       " 319,\n",
       " 337,\n",
       " 445,\n",
       " 447,\n",
       " 455,\n",
       " 492,\n",
       " 506,\n",
       " 575,\n",
       " 577,\n",
       " 590,\n",
       " 622,\n",
       " 672,\n",
       " 699,\n",
       " 717,\n",
       " 721,\n",
       " 736,\n",
       " 745,\n",
       " 747,\n",
       " 757,\n",
       " 768,\n",
       " 824,\n",
       " 878,\n",
       " 934,\n",
       " 980,\n",
       " 1000,\n",
       " 1004,\n",
       " 1012,\n",
       " 1019,\n",
       " 1021,\n",
       " 1028]"
      ]
     },
     "execution_count": 199,
     "metadata": {},
     "output_type": "execute_result"
    }
   ],
   "source": [
    "SATD_index_valid_old =get_SATD_index(list_old_comment_valid)\n",
    "SATD_index_valid_old"
   ]
  },
  {
   "cell_type": "code",
   "execution_count": 200,
   "id": "b2c1814d",
   "metadata": {},
   "outputs": [
    {
     "data": {
      "text/plain": [
       "41"
      ]
     },
     "execution_count": 200,
     "metadata": {},
     "output_type": "execute_result"
    }
   ],
   "source": [
    "len(SATD_index_valid_old)"
   ]
  },
  {
   "cell_type": "code",
   "execution_count": 193,
   "id": "f4a6caf4",
   "metadata": {},
   "outputs": [
    {
     "data": {
      "text/plain": [
       "[]"
      ]
     },
     "execution_count": 193,
     "metadata": {},
     "output_type": "execute_result"
    }
   ],
   "source": [
    "SATD_index_train_new =get_SATD_index(list_new_comment_valid)\n",
    "SATD_index_train_new"
   ]
  },
  {
   "cell_type": "code",
   "execution_count": 194,
   "id": "1d0f0bf3",
   "metadata": {},
   "outputs": [],
   "source": [
    "# test_data\n",
    "# 1 为 不一致\n",
    "# 0 为 一致\n",
    "list_old_comment_test = test_df['old_comment_raw'].to_list() \n",
    "list_new_comment_test = test_df['new_comment_raw'].to_list() "
   ]
  },
  {
   "cell_type": "code",
   "execution_count": 197,
   "id": "f5bce10f",
   "metadata": {
    "collapsed": true
   },
   "outputs": [
    {
     "data": {
      "text/plain": [
       "[63,\n",
       " 98,\n",
       " 102,\n",
       " 116,\n",
       " 134,\n",
       " 136,\n",
       " 138,\n",
       " 180,\n",
       " 190,\n",
       " 250,\n",
       " 289,\n",
       " 291,\n",
       " 297,\n",
       " 349,\n",
       " 361,\n",
       " 367,\n",
       " 407,\n",
       " 443,\n",
       " 477,\n",
       " 516,\n",
       " 558,\n",
       " 667,\n",
       " 673,\n",
       " 723,\n",
       " 772,\n",
       " 785,\n",
       " 807,\n",
       " 842,\n",
       " 874,\n",
       " 886,\n",
       " 922,\n",
       " 1019,\n",
       " 1032,\n",
       " 1045,\n",
       " 1050,\n",
       " 1059]"
      ]
     },
     "execution_count": 197,
     "metadata": {},
     "output_type": "execute_result"
    }
   ],
   "source": [
    "SATD_index_test_old =get_SATD_index(list_old_comment_test)\n",
    "SATD_index_test_old"
   ]
  },
  {
   "cell_type": "code",
   "execution_count": 201,
   "id": "7e0b96d9",
   "metadata": {},
   "outputs": [
    {
     "data": {
      "text/plain": [
       "36"
      ]
     },
     "execution_count": 201,
     "metadata": {},
     "output_type": "execute_result"
    }
   ],
   "source": [
    "len(SATD_index_test_old)"
   ]
  },
  {
   "cell_type": "code",
   "execution_count": 196,
   "id": "b40efbc5",
   "metadata": {},
   "outputs": [
    {
     "data": {
      "text/plain": [
       "[]"
      ]
     },
     "execution_count": 196,
     "metadata": {},
     "output_type": "execute_result"
    }
   ],
   "source": [
    "SATD_index_test_new =get_SATD_index(list_new_comment_test)\n",
    "SATD_index_test_new"
   ]
  },
  {
   "cell_type": "code",
   "execution_count": null,
   "id": "4e68da7d",
   "metadata": {},
   "outputs": [],
   "source": []
  },
  {
   "cell_type": "markdown",
   "id": "fc93845b",
   "metadata": {},
   "source": [
    "未完成注释"
   ]
  },
  {
   "cell_type": "code",
   "execution_count": 219,
   "id": "4a694023",
   "metadata": {},
   "outputs": [],
   "source": [
    "def get_comment_len(list_old):\n",
    "    len_index = []\n",
    "    for i in range(0,len(list_old)):\n",
    "        old_len = len(list_old[i].split())\n",
    "        if old_len == 1:\n",
    "            len_index.append(i)\n",
    "    return len_index"
   ]
  },
  {
   "cell_type": "markdown",
   "id": "d2cf996e",
   "metadata": {},
   "source": [
    "17个"
   ]
  },
  {
   "cell_type": "code",
   "execution_count": 220,
   "id": "a64cd56f",
   "metadata": {},
   "outputs": [
    {
     "data": {
      "text/plain": [
       "([648, 2182, 3023, 3427, 4006, 5139, 6812, 7294, 8110], 9)"
      ]
     },
     "execution_count": 220,
     "metadata": {},
     "output_type": "execute_result"
    }
   ],
   "source": [
    "num_index_train_old =get_comment_len(list_old_comment)\n",
    "num_index_train_old,len(num_index_train_old)"
   ]
  },
  {
   "cell_type": "code",
   "execution_count": 221,
   "id": "6b69a392",
   "metadata": {},
   "outputs": [
    {
     "data": {
      "text/plain": [
       "([86, 648, 2182, 2567, 4006, 4911, 6696, 6812], 8)"
      ]
     },
     "execution_count": 221,
     "metadata": {},
     "output_type": "execute_result"
    }
   ],
   "source": [
    "num_index_train_new =get_comment_len(list_new_comment)\n",
    "num_index_train_new,len(num_index_train_new)"
   ]
  },
  {
   "cell_type": "markdown",
   "id": "75a8b550",
   "metadata": {},
   "source": [
    "6个"
   ]
  },
  {
   "cell_type": "code",
   "execution_count": 222,
   "id": "94154762",
   "metadata": {},
   "outputs": [
    {
     "data": {
      "text/plain": [
       "([25, 60, 202, 361, 478], 5)"
      ]
     },
     "execution_count": 222,
     "metadata": {},
     "output_type": "execute_result"
    }
   ],
   "source": [
    "num_index_valid_old =get_comment_len(list_old_comment_valid)\n",
    "num_index_valid_old,len(num_index_valid_old)"
   ]
  },
  {
   "cell_type": "code",
   "execution_count": 223,
   "id": "b478d048",
   "metadata": {},
   "outputs": [
    {
     "data": {
      "text/plain": [
       "([186], 1)"
      ]
     },
     "execution_count": 223,
     "metadata": {},
     "output_type": "execute_result"
    }
   ],
   "source": [
    "num_index_train_new =get_comment_len(list_new_comment_valid)\n",
    "num_index_train_new,len(num_index_train_new)"
   ]
  },
  {
   "cell_type": "markdown",
   "id": "1534d0d4",
   "metadata": {},
   "source": [
    "6个"
   ]
  },
  {
   "cell_type": "code",
   "execution_count": 224,
   "id": "0404e095",
   "metadata": {},
   "outputs": [
    {
     "data": {
      "text/plain": [
       "([3, 63, 350, 404, 494], 5)"
      ]
     },
     "execution_count": 224,
     "metadata": {},
     "output_type": "execute_result"
    }
   ],
   "source": [
    "num_index_test_old =get_comment_len(list_old_comment_test)\n",
    "num_index_test_old,len(num_index_test_old)"
   ]
  },
  {
   "cell_type": "code",
   "execution_count": 225,
   "id": "c7f3bbbd",
   "metadata": {},
   "outputs": [
    {
     "data": {
      "text/plain": [
       "([131], 1)"
      ]
     },
     "execution_count": 225,
     "metadata": {},
     "output_type": "execute_result"
    }
   ],
   "source": [
    "num_index_test_new =get_comment_len(list_new_comment_test)\n",
    "num_index_test_new,len(num_index_test_new)"
   ]
  },
  {
   "cell_type": "code",
   "execution_count": null,
   "id": "cad52e8e",
   "metadata": {},
   "outputs": [],
   "source": []
  },
  {
   "cell_type": "code",
   "execution_count": null,
   "id": "7542c8c1",
   "metadata": {},
   "outputs": [],
   "source": []
  },
  {
   "cell_type": "code",
   "execution_count": null,
   "id": "70a27367",
   "metadata": {},
   "outputs": [],
   "source": []
  },
  {
   "cell_type": "markdown",
   "id": "e13b302b",
   "metadata": {},
   "source": [
    "动态阈值一"
   ]
  },
  {
   "cell_type": "code",
   "execution_count": 50,
   "id": "e699692a",
   "metadata": {},
   "outputs": [
    {
     "name": "stdout",
     "output_type": "stream",
     "text": [
      "动态阈值为: 1.0 \n",
      "动态阈值为: 1.0 \n",
      "Jaccard 相似度大于动态阈值的有: 0 个\n"
     ]
    }
   ],
   "source": [
    "from sklearn.feature_extraction.text import CountVectorizer\n",
    "from sklearn.metrics import jaccard_score\n",
    "\n",
    "def get_similarity_jaccard_score_dynamic_threshold(list_old, list_new, change_ratio=0.3):\n",
    "    vectorizer = CountVectorizer(binary=True)\n",
    "    \n",
    "    similarity_word_inconsistency = [] \n",
    "    similarity_inconsistency = []\n",
    "    \n",
    "    text_word_similarity = []\n",
    "    text_similarity = []\n",
    "    \n",
    "    count = 0\n",
    "        \n",
    "    for old, new in zip(list_old, list_new):\n",
    "        # 计算每个注释的词汇数\n",
    "        old_word_count = len(old.split())\n",
    "        \n",
    "        # 动态设定阈值，根据允许的词汇变化比例调整\n",
    "        allowed_changes = int(old_word_count * change_ratio)\n",
    "        threshold = (old_word_count - allowed_changes) / old_word_count\n",
    "        print(f'动态阈值为: {threshold} ')\n",
    "\n",
    "        # 计算Jaccard相似度\n",
    "        count_matrix = vectorizer.fit_transform([old, new]).toarray()\n",
    "        similarity = jaccard_score(count_matrix[0], count_matrix[1])\n",
    "\n",
    "        if similarity >= threshold:\n",
    "            count += 1\n",
    "            text_similarity.append([old, new])\n",
    "            similarity_inconsistency.append(similarity)\n",
    "        else:\n",
    "            text_word_similarity.append([old, new])\n",
    "            similarity_word_inconsistency.append(similarity)\n",
    "\n",
    "    print(f'Jaccard 相似度大于动态阈值的有: {count} 个')\n",
    "    return text_similarity, similarity_inconsistency, text_word_similarity, similarity_word_inconsistency\n",
    "\n",
    "# 示例调用\n",
    "list_old = [\"Parses the given JSON and returns a JSONObject\", \n",
    "            \"Parses the given JSON and returns a JSONArray\"]\n",
    "list_new = [\"Parses the given JSON and returns either a JSONObject\", \n",
    "            \"Parses the given JSON and returns an JSONObject\"]\n",
    "\n",
    "# 使用动态阈值方法，允许 10% 的词汇变化\n",
    "text_similarity, similarity_inconsistency, text_word_similarity, similarity_word_inconsistency \\\n",
    "= get_similarity_jaccard_score_dynamic_threshold(list_old, list_new, change_ratio=0.1)"
   ]
  },
  {
   "cell_type": "code",
   "execution_count": 51,
   "id": "ce2f7a58",
   "metadata": {},
   "outputs": [
    {
     "data": {
      "text/plain": [
       "[]"
      ]
     },
     "execution_count": 51,
     "metadata": {},
     "output_type": "execute_result"
    }
   ],
   "source": [
    "text_similarity"
   ]
  },
  {
   "cell_type": "code",
   "execution_count": 52,
   "id": "deaadf5d",
   "metadata": {},
   "outputs": [
    {
     "data": {
      "text/plain": [
       "[['Parses the given JSON and returns a JSONObject',\n",
       "  'Parses the given JSON and returns either a JSONObject'],\n",
       " ['Parses the given JSON and returns a JSONArray',\n",
       "  'Parses the given JSON and returns an JSONObject']]"
      ]
     },
     "execution_count": 52,
     "metadata": {},
     "output_type": "execute_result"
    }
   ],
   "source": [
    "text_word_similarity"
   ]
  },
  {
   "cell_type": "code",
   "execution_count": null,
   "id": "c4f8160b",
   "metadata": {},
   "outputs": [],
   "source": []
  },
  {
   "cell_type": "markdown",
   "id": "aaf71d7d",
   "metadata": {},
   "source": [
    "每对注释的 Jaccard 相似度会与其动态计算的阈值进行比较，使得阈值依据注释长度自动调整，避免短句和长句的过滤标准不一致的问题。"
   ]
  },
  {
   "cell_type": "markdown",
   "id": "f4f3bd3a",
   "metadata": {},
   "source": [
    "下面两个是\n",
    "可以通过新旧注释长度的相对变化来确定相似度阈值。比如，如果新注释与旧注释的长度相差不大（仅改动了少量词汇），可以设置较高的相似度阈值；如果长度差距较大，则设定较低的阈值来反映更宽松的匹配条件。\n",
    "</br>后一个对"
   ]
  },
  {
   "cell_type": "code",
   "execution_count": 53,
   "id": "fbd02df3",
   "metadata": {},
   "outputs": [
    {
     "name": "stdout",
     "output_type": "stream",
     "text": [
      "动态阈值为: 0.7555555555555555 \n",
      "动态阈值为: 0.85 \n",
      "动态阈值为: 0.85 \n",
      "Jaccard 相似度大于动态阈值的有: 1 个\n"
     ]
    }
   ],
   "source": [
    "from sklearn.feature_extraction.text import CountVectorizer\n",
    "from sklearn.metrics import jaccard_score\n",
    "\n",
    "def get_similarity_jaccard_score_length_based_threshold(list_old, list_new, base_threshold=0.85):\n",
    "    vectorizer = CountVectorizer(binary=True)\n",
    "    \n",
    "    similarity_word_inconsistency = [] \n",
    "    similarity_inconsistency = []\n",
    "    \n",
    "    text_word_similarity = []\n",
    "    text_similarity = []\n",
    "    \n",
    "    count = 0\n",
    "        \n",
    "    for old, new in zip(list_old, list_new):\n",
    "        # 获取新旧注释的词汇数\n",
    "        old_word_count = len(old.split())\n",
    "        new_word_count = len(new.split())\n",
    "        \n",
    "        # 根据长度差异动态调整阈值\n",
    "        length_ratio = min(old_word_count, new_word_count) / max(old_word_count, new_word_count)\n",
    "        dynamic_threshold = base_threshold * length_ratio\n",
    "        print(f'动态阈值为: {dynamic_threshold} ')\n",
    "        \n",
    "        # 计算 Jaccard 相似度\n",
    "        count_matrix = vectorizer.fit_transform([old, new]).toarray()\n",
    "        similarity = jaccard_score(count_matrix[0], count_matrix[1])\n",
    "\n",
    "        # 判断是否满足相似度阈值条件\n",
    "        if similarity >= dynamic_threshold:\n",
    "            count += 1\n",
    "            text_similarity.append([old, new])\n",
    "            similarity_inconsistency.append(similarity)\n",
    "        else:\n",
    "            text_word_similarity.append([old, new])\n",
    "            similarity_word_inconsistency.append(similarity)\n",
    "\n",
    "    print(f'Jaccard 相似度大于动态阈值的有: {count} 个')\n",
    "    return text_similarity, similarity_inconsistency, text_word_similarity, similarity_word_inconsistency\n",
    "\n",
    "# 示例调用\n",
    "list_old = [\"Parses the given JSON and returns a JSONObject\", \n",
    "            \"Parses the given JSON and returns a JSONArray\",\n",
    "            'Creates a new  TimerMetric and registers it under the given class and name, measuring elapsed time in milliseconds and invocations per second.',\n",
    "            #\"The cat is on the mat.\"\n",
    "           ]\n",
    "list_new = [\"Parses the given JSON and returns either a JSONObject\", \n",
    "            \"Parses the given JSON and returns a JSONObject\",\n",
    "            'Creates a new  com.yammer.metrics.core.Timer and registers it under the given class and name, measuring elapsed time in milliseconds and invocations per second.',\n",
    "            #\"There is a feline on the rug.\"\n",
    "           ]\n",
    "\n",
    "# 使用动态阈值方法，设定基础阈值为 0.85\n",
    "text_similarity, similarity_inconsistency, text_word_similarity, similarity_word_inconsistency = get_similarity_jaccard_score_length_based_threshold(list_old, list_new, base_threshold=0.85)\n"
   ]
  },
  {
   "cell_type": "code",
   "execution_count": 54,
   "id": "84aa0b4c",
   "metadata": {},
   "outputs": [
    {
     "data": {
      "text/plain": [
       "[['Parses the given JSON and returns a JSONObject',\n",
       "  'Parses the given JSON and returns either a JSONObject']]"
      ]
     },
     "execution_count": 54,
     "metadata": {},
     "output_type": "execute_result"
    }
   ],
   "source": [
    "text_similarity"
   ]
  },
  {
   "cell_type": "code",
   "execution_count": 55,
   "id": "e6c6d06a",
   "metadata": {},
   "outputs": [
    {
     "data": {
      "text/plain": [
       "[['Parses the given JSON and returns a JSONArray',\n",
       "  'Parses the given JSON and returns a JSONObject'],\n",
       " ['Creates a new  TimerMetric and registers it under the given class and name, measuring elapsed time in milliseconds and invocations per second.',\n",
       "  'Creates a new  com.yammer.metrics.core.Timer and registers it under the given class and name, measuring elapsed time in milliseconds and invocations per second.']]"
      ]
     },
     "execution_count": 55,
     "metadata": {},
     "output_type": "execute_result"
    }
   ],
   "source": [
    "text_word_similarity"
   ]
  },
  {
   "cell_type": "code",
   "execution_count": null,
   "id": "937edd5d",
   "metadata": {},
   "outputs": [],
   "source": []
  },
  {
   "cell_type": "code",
   "execution_count": null,
   "id": "36b375e2",
   "metadata": {},
   "outputs": [],
   "source": []
  },
  {
   "cell_type": "markdown",
   "id": "e510c4d6",
   "metadata": {},
   "source": [
    "min_threshold 和 max_threshold 分别表示最小和最大相似度阈值。</br>\n",
    "dynamic_threshold = min_threshold + (max_threshold - min_threshold) * (1 / old_word_count)：较短的注释会得到更高的动态阈值，而较长的注释会得到相对较低的阈值。</br>\n",
    "similarity >= dynamic_threshold：对比每对注释的相似度和动态计算的阈值，判断是否满足条件。</br>\n",
    "这样设定可以确保短注释需要较高的相似度以通过过滤，而长注释则有更宽松的匹配标准，从而适应注释长度差异带来的语义变化。</br>\n",
    "这个对"
   ]
  },
  {
   "cell_type": "code",
   "execution_count": 113,
   "id": "79fc98c8",
   "metadata": {},
   "outputs": [
    {
     "name": "stdout",
     "output_type": "stream",
     "text": [
      "动态阈值为: 0.7414213562373095 \n",
      "动态阈值为: 0.7414213562373095 \n",
      "动态阈值为: 0.6852802865422442 \n",
      "动态阈值为: 0.7632993161855453 \n",
      "动态阈值为: 0.7206045378311055 \n",
      "Jaccard 相似度大于动态阈值的有: 3 个\n"
     ]
    }
   ],
   "source": [
    "from sklearn.feature_extraction.text import CountVectorizer\n",
    "from sklearn.metrics import jaccard_score\n",
    "import math\n",
    "\n",
    "def get_similarity_jaccard_score_length_adjusted_threshold(list_old, list_new, min_threshold=0.6, max_threshold=1.0):\n",
    "    vectorizer = CountVectorizer(binary=True)\n",
    "    \n",
    "    similarity_word_inconsistency = [] \n",
    "    similarity_inconsistency = []\n",
    "    \n",
    "    text_word_similarity = []\n",
    "    text_similarity = []\n",
    "    \n",
    "    count = 0\n",
    "    \n",
    "    for old, new in zip(list_old, list_new):\n",
    "        # 获取旧注释的词汇数\n",
    "        old_word_count = len(old.split())\n",
    "        \n",
    "        # 动态设置阈值，较短注释的阈值更高，较长注释的阈值更低\n",
    "        dynamic_threshold = min_threshold + (max_threshold - min_threshold) * (1 / old_word_count)\n",
    "        \n",
    "        # 计算 Jaccard 相似度\n",
    "        count_matrix = vectorizer.fit_transform([old, new]).toarray()\n",
    "        similarity = jaccard_score(count_matrix[0], count_matrix[1])\n",
    "        print(f'动态阈值为: {dynamic_threshold} ')\n",
    "\n",
    "        # 判断是否满足相似度阈值条件\n",
    "        if similarity >= dynamic_threshold:\n",
    "            count += 1\n",
    "            text_similarity.append([old, new])\n",
    "            similarity_inconsistency.append(similarity)\n",
    "        else:\n",
    "            text_word_similarity.append([old, new])\n",
    "            similarity_word_inconsistency.append(similarity)\n",
    "\n",
    "    print(f'Jaccard 相似度大于动态阈值的有: {count} 个')\n",
    "    return text_similarity, similarity_inconsistency, text_word_similarity, similarity_word_inconsistency\n",
    "\n",
    "# 示例调用\n",
    "list_old = [\"Parses the given JSON and returns a JSONObject\", \n",
    "            \"Parses the given JSON and returns a JSONArray\",\n",
    "            'Creates a new  TimerMetric and registers it under the given class and name, measuring elapsed time in milliseconds and invocations per second.',\n",
    "            \"The cat is on the mat.\",\n",
    "            'Decodes the input  ByteBuf into a  RPCBlockWriteResponse object and returns it.'\n",
    "           ]\n",
    "list_new = [\"Parses the given JSON and returns either a JSONObject\", \n",
    "            \"Parses the given JSON and returns a JSONObject\",\n",
    "            'Creates a new  com.yammer.metrics.core.Timer and registers it under the given class and name, measuring elapsed time in milliseconds and invocations per second.',\n",
    "            \"There is a feline on the rug.\",\n",
    "            'Decode the input  ByteBuf into a  RPCBlockWriteResponse object and return it.'\n",
    "           ]\n",
    "\n",
    "\n",
    "# 使用动态阈值方法，设置最小阈值为 0.6，最大阈值为 0.9\n",
    "text_above8_similarity,similarity_above8_inconsistency,text_below8_similarity,similarity_below8_inconsistency\\\n",
    "= get_similarity_jaccard_score_length_adjusted_threshold(\n",
    "    list_old, list_new, min_threshold=0.6, max_threshold=1.0)\n"
   ]
  },
  {
   "cell_type": "code",
   "execution_count": 114,
   "id": "2fea1a9c",
   "metadata": {},
   "outputs": [
    {
     "data": {
      "text/plain": [
       "[['Parses the given JSON and returns a JSONObject',\n",
       "  'Parses the given JSON and returns either a JSONObject'],\n",
       " ['Parses the given JSON and returns a JSONArray',\n",
       "  'Parses the given JSON and returns a JSONObject'],\n",
       " ['Creates a new  TimerMetric and registers it under the given class and name, measuring elapsed time in milliseconds and invocations per second.',\n",
       "  'Creates a new  com.yammer.metrics.core.Timer and registers it under the given class and name, measuring elapsed time in milliseconds and invocations per second.']]"
      ]
     },
     "execution_count": 114,
     "metadata": {},
     "output_type": "execute_result"
    }
   ],
   "source": [
    "text_above8_similarity"
   ]
  },
  {
   "cell_type": "code",
   "execution_count": 115,
   "id": "c244c1dd",
   "metadata": {},
   "outputs": [
    {
     "data": {
      "text/plain": [
       "[0.875, 0.75, 0.75]"
      ]
     },
     "execution_count": 115,
     "metadata": {},
     "output_type": "execute_result"
    }
   ],
   "source": [
    "similarity_above8_inconsistency"
   ]
  },
  {
   "cell_type": "code",
   "execution_count": 116,
   "id": "5cf706b0",
   "metadata": {},
   "outputs": [
    {
     "data": {
      "text/plain": [
       "[['The cat is on the mat.', 'There is a feline on the rug.'],\n",
       " ['Decodes the input  ByteBuf into a  RPCBlockWriteResponse object and returns it.',\n",
       "  'Decode the input  ByteBuf into a  RPCBlockWriteResponse object and return it.']]"
      ]
     },
     "execution_count": 116,
     "metadata": {},
     "output_type": "execute_result"
    }
   ],
   "source": [
    "text_below8_similarity"
   ]
  },
  {
   "cell_type": "code",
   "execution_count": null,
   "id": "ba1c1172",
   "metadata": {},
   "outputs": [],
   "source": []
  },
  {
   "cell_type": "code",
   "execution_count": null,
   "id": "c6327df9",
   "metadata": {},
   "outputs": [],
   "source": []
  },
  {
   "cell_type": "code",
   "execution_count": null,
   "id": "e1580310",
   "metadata": {},
   "outputs": [],
   "source": []
  },
  {
   "cell_type": "code",
   "execution_count": 45,
   "id": "f1d0dafc",
   "metadata": {},
   "outputs": [
    {
     "name": "stdout",
     "output_type": "stream",
     "text": [
      "动态阈值为: 0.5499999999999999 \n",
      "动态阈值为: 0.6 \n",
      "动态阈值为: 0.6 \n",
      "动态阈值为: 0.5499999999999999 \n",
      "动态阈值为: 0.6 \n",
      "动态阈值为: 0.35 \n",
      "动态阈值为: 0.44999999999999996 \n",
      "动态阈值为: 0.14999999999999997 \n",
      "动态阈值为: 0.44999999999999996 \n",
      "Jaccard 相似度大于动态阈值的有: 7 个\n"
     ]
    }
   ],
   "source": [
    "from sklearn.feature_extraction.text import CountVectorizer\n",
    "from sklearn.metrics import jaccard_score\n",
    "\n",
    "def get_similarity_jaccard_score_proportional_threshold(list_old, list_new, base_threshold=0.6, scaling_factor=0.01):\n",
    "    vectorizer = CountVectorizer(binary=True)\n",
    "    \n",
    "    similarity_word_inconsistency = [] \n",
    "    similarity_inconsistency = []\n",
    "    \n",
    "    text_word_similarity = []\n",
    "    text_similarity = []\n",
    "    \n",
    "    count = 0\n",
    "    \n",
    "    for old, new in zip(list_old, list_new):\n",
    "        # 获取新旧注释的词汇长度\n",
    "        old_len = len(old.split())\n",
    "        new_len = len(new.split())\n",
    "\n",
    "        \n",
    "        # 根据新旧注释长度差值来调整阈值\n",
    "        if old_len > new_len:\n",
    "            length_diff = new_len - old_len\n",
    "            dynamic_threshold  = base_threshold + scaling_factor * length_diff\n",
    "        else:\n",
    "            length_diff = old_len - new_len\n",
    "            dynamic_threshold  = base_threshold + scaling_factor * length_diff\n",
    "        \n",
    "        print(f'动态阈值为: {dynamic_threshold} ')\n",
    "        \n",
    "        # 计算 Jaccard 相似度\n",
    "        count_matrix = vectorizer.fit_transform([old, new]).toarray()\n",
    "        similarity = jaccard_score(count_matrix[0], count_matrix[1])\n",
    "\n",
    "        # 判断是否满足相似度阈值条件\n",
    "        if similarity >= dynamic_threshold:\n",
    "            count += 1\n",
    "            text_similarity.append([old, new])\n",
    "            similarity_inconsistency.append(similarity)\n",
    "        else:\n",
    "            text_word_similarity.append([old, new])\n",
    "            similarity_word_inconsistency.append(similarity)\n",
    "\n",
    "    print(f'Jaccard 相似度大于动态阈值的有: {count} 个')\n",
    "    return text_similarity, similarity_inconsistency, text_word_similarity, similarity_word_inconsistency\n",
    "\n",
    "# 示例调用\n",
    "list_old = [\"Parses the given JSON and returns a JSONObject\", \n",
    "            \"Parses the given JSON and returns a JSONArray\",\n",
    "            'Creates a new  TimerMetric and registers it under the given class and name, measuring elapsed time in milliseconds and invocations per second.',\n",
    "            \"The cat is on the mat.\",\n",
    "            'Decodes the input  ByteBuf into a  RPCBlockWriteResponse object and returns it.',\n",
    "            'Removes the variable.',\n",
    "            'Init AWS Elasticache servers configuration by config object.',\n",
    "            'Sends a request to the elasticsearch cluster that the current client points to and waits for the corresponding response to be returned.',\n",
    "            'Return the sum of this complex number and the given complex number.'\n",
    "           ]\n",
    "list_new = [\"Parses the given JSON and returns either a JSONObject\", \n",
    "            \"Parses the given JSON and returns a JSONObject\",\n",
    "            'Creates a new  com.yammer.metrics.core.Timer and registers it under the given class and name, measuring elapsed time in milliseconds and invocations per second.',\n",
    "            \"There is a feline on the rug.\",\n",
    "            'Decode the input  ByteBuf into a  RPCBlockWriteResponse object and return it.',\n",
    "            'Removes the variable and returns the removed value.',\n",
    "            'Init AWS Elasticache servers configuration.',\n",
    "            'Sends a request to the elasticsearch cluster that the current client points to.',\n",
    "            'Returns a  Complex whose value is  (this + addend)'\n",
    "           ]\n",
    "\n",
    "# 使用动态阈值方法，设定基础阈值为 0.6，比例增量为 0.01\n",
    "text_similarity, similarity_inconsistency, text_word_similarity, similarity_word_inconsistency = get_similarity_jaccard_score_proportional_threshold(\n",
    "    list_old, list_new, base_threshold=0.6, scaling_factor=0.05)\n"
   ]
  },
  {
   "cell_type": "code",
   "execution_count": 46,
   "id": "c6a005d2",
   "metadata": {
    "scrolled": true
   },
   "outputs": [
    {
     "data": {
      "text/plain": [
       "[['Parses the given JSON and returns a JSONObject',\n",
       "  'Parses the given JSON and returns either a JSONObject'],\n",
       " ['Parses the given JSON and returns a JSONArray',\n",
       "  'Parses the given JSON and returns a JSONObject'],\n",
       " ['Creates a new  TimerMetric and registers it under the given class and name, measuring elapsed time in milliseconds and invocations per second.',\n",
       "  'Creates a new  com.yammer.metrics.core.Timer and registers it under the given class and name, measuring elapsed time in milliseconds and invocations per second.'],\n",
       " ['Decodes the input  ByteBuf into a  RPCBlockWriteResponse object and returns it.',\n",
       "  'Decode the input  ByteBuf into a  RPCBlockWriteResponse object and return it.'],\n",
       " ['Removes the variable.',\n",
       "  'Removes the variable and returns the removed value.'],\n",
       " ['Init AWS Elasticache servers configuration by config object.',\n",
       "  'Init AWS Elasticache servers configuration.'],\n",
       " ['Sends a request to the elasticsearch cluster that the current client points to and waits for the corresponding response to be returned.',\n",
       "  'Sends a request to the elasticsearch cluster that the current client points to.']]"
      ]
     },
     "execution_count": 46,
     "metadata": {},
     "output_type": "execute_result"
    }
   ],
   "source": [
    "text_similarity"
   ]
  },
  {
   "cell_type": "code",
   "execution_count": 47,
   "id": "3c796d15",
   "metadata": {},
   "outputs": [
    {
     "data": {
      "text/plain": [
       "[0.875,\n",
       " 0.75,\n",
       " 0.75,\n",
       " 0.6666666666666666,\n",
       " 0.42857142857142855,\n",
       " 0.625,\n",
       " 0.5882352941176471]"
      ]
     },
     "execution_count": 47,
     "metadata": {},
     "output_type": "execute_result"
    }
   ],
   "source": [
    "similarity_inconsistency"
   ]
  },
  {
   "cell_type": "code",
   "execution_count": 48,
   "id": "e771ded8",
   "metadata": {},
   "outputs": [
    {
     "data": {
      "text/plain": [
       "[['The cat is on the mat.', 'There is a feline on the rug.'],\n",
       " ['Return the sum of this complex number and the given complex number.',\n",
       "  'Returns a  Complex whose value is  (this + addend)']]"
      ]
     },
     "execution_count": 48,
     "metadata": {},
     "output_type": "execute_result"
    }
   ],
   "source": [
    "text_word_similarity"
   ]
  },
  {
   "cell_type": "code",
   "execution_count": 49,
   "id": "f3c09a1c",
   "metadata": {},
   "outputs": [
    {
     "data": {
      "text/plain": [
       "[0.375, 0.14285714285714285]"
      ]
     },
     "execution_count": 49,
     "metadata": {},
     "output_type": "execute_result"
    }
   ],
   "source": [
    "similarity_word_inconsistency"
   ]
  },
  {
   "cell_type": "code",
   "execution_count": null,
   "id": "ffca4559",
   "metadata": {},
   "outputs": [],
   "source": []
  },
  {
   "cell_type": "code",
   "execution_count": null,
   "id": "38754fb2",
   "metadata": {},
   "outputs": [],
   "source": []
  },
  {
   "cell_type": "code",
   "execution_count": null,
   "id": "22d38a64",
   "metadata": {},
   "outputs": [],
   "source": []
  },
  {
   "cell_type": "code",
   "execution_count": null,
   "id": "4456f818",
   "metadata": {},
   "outputs": [],
   "source": []
  }
 ],
 "metadata": {
  "kernelspec": {
   "display_name": "leitx",
   "language": "python",
   "name": "leitx"
  },
  "language_info": {
   "codemirror_mode": {
    "name": "ipython",
    "version": 3
   },
   "file_extension": ".py",
   "mimetype": "text/x-python",
   "name": "python",
   "nbconvert_exporter": "python",
   "pygments_lexer": "ipython3",
   "version": "3.11.9"
  }
 },
 "nbformat": 4,
 "nbformat_minor": 5
}
