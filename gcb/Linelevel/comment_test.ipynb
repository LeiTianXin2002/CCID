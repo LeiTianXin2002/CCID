{
 "cells": [
  {
   "cell_type": "markdown",
   "id": "7008dd50",
   "metadata": {},
   "source": [
    "#### 统计 test 数据集中的 注释词性特征\n",
    "平均长度为 10.15 ， 查看了 长度为 10 和 11 的注释词性特征情况 "
   ]
  },
  {
   "cell_type": "code",
   "execution_count": 1,
   "id": "ffda47b9",
   "metadata": {},
   "outputs": [],
   "source": [
    "import time\n",
    "import numpy as np\n",
    "import pandas as pd\n",
    "import matplotlib.pyplot as plt\n",
    "import seaborn as sns\n",
    "import re\n",
    "from nltk.tokenize import word_tokenize\n",
    "from nltk import pos_tag\n"
   ]
  },
  {
   "cell_type": "code",
   "execution_count": 2,
   "id": "d8000945",
   "metadata": {},
   "outputs": [],
   "source": [
    "def retrieve_test_data():\n",
    "    test_param = pd.read_json(\"D:/BERT_learing/code_comment_inconsistency_detection/data/param/test.json\")\n",
    "    test_return = pd.read_json(\"D:/BERT_learing/code_comment_inconsistency_detection/data/return/test.json\")\n",
    "    test_summary = pd.read_json(\"D:/BERT_learing/code_comment_inconsistency_detection/data/summary/test.json\")\n",
    "    test_df = pd.concat([test_summary,test_param, test_return], axis=0)\n",
    "    test_df = test_df.reset_index(drop=True)\n",
    "    return test_df\n",
    "test_df = retrieve_test_data()"
   ]
  },
  {
   "cell_type": "code",
   "execution_count": 3,
   "id": "8aec20c5",
   "metadata": {
    "scrolled": true
   },
   "outputs": [
    {
     "data": {
      "text/plain": [
       "'Creates elastic node as single member of a cluster.'"
      ]
     },
     "execution_count": 3,
     "metadata": {},
     "output_type": "execute_result"
    }
   ],
   "source": [
    "test_df.loc[0]['old_comment_raw']"
   ]
  },
  {
   "cell_type": "code",
   "execution_count": 4,
   "id": "dab66a14",
   "metadata": {},
   "outputs": [
    {
     "data": {
      "text/plain": [
       "'Check whether any insertion or deletion actions are currently queued.'"
      ]
     },
     "execution_count": 4,
     "metadata": {},
     "output_type": "execute_result"
    }
   ],
   "source": [
    "test_df.loc[1]['old_comment_raw']"
   ]
  },
  {
   "cell_type": "code",
   "execution_count": 5,
   "id": "c3edc4e6",
   "metadata": {},
   "outputs": [],
   "source": [
    "comment_sentence = test_df['old_comment_raw']"
   ]
  },
  {
   "cell_type": "code",
   "execution_count": 6,
   "id": "778e5f95",
   "metadata": {},
   "outputs": [],
   "source": [
    "def get_WordTagging_attribution_for_sentence(comment_sentence_list):\n",
    "    tagged_sentence_list = []\n",
    "    for sentence in comment_sentence_list:\n",
    "        words = word_tokenize(sentence)\n",
    "        tagged_words = pos_tag(words)\n",
    "        tagged_sentence_list.append(tagged_words)\n",
    "        \n",
    "    return tagged_sentence_list\n",
    "tagged_sentence_list = get_WordTagging_attribution_for_sentence(comment_sentence)"
   ]
  },
  {
   "cell_type": "code",
   "execution_count": 7,
   "id": "14384b12",
   "metadata": {},
   "outputs": [
    {
     "data": {
      "text/plain": [
       "[('Creates', 'NNS'),\n",
       " ('elastic', 'JJ'),\n",
       " ('node', 'NN'),\n",
       " ('as', 'IN'),\n",
       " ('single', 'JJ'),\n",
       " ('member', 'NN'),\n",
       " ('of', 'IN'),\n",
       " ('a', 'DT'),\n",
       " ('cluster', 'NN'),\n",
       " ('.', '.')]"
      ]
     },
     "execution_count": 7,
     "metadata": {},
     "output_type": "execute_result"
    }
   ],
   "source": [
    "tagged_sentence_list[0]"
   ]
  },
  {
   "cell_type": "code",
   "execution_count": 8,
   "id": "ca87b5d3",
   "metadata": {},
   "outputs": [],
   "source": [
    "from collections import Counter\n",
    "\n",
    "def static_tagging_type(data):\n",
    "    punctuations = {'.', ',', ';', ':', '(', ')', '[', ']', '{', '}', '!', '?', '``', \"''\",\"#\"}\n",
    "\n",
    "    second_elements = [tag for sentence in data for _, tag in sentence]\n",
    "\n",
    "    # 统计词性出现的次数\n",
    "    counter = Counter(second_elements)\n",
    "    counter_list = list(counter.items()) \n",
    "    counter_list_new = [ele for ele in counter_list if ele[0] not in punctuations]\n",
    "    \n",
    "    # 把子类别归类 ：例如 NN  NNS 为一大类都是名词\n",
    "    # 定义词性标签集合: 名词  动词  形容词 副词 连词 限定词 代词\n",
    "    tag_groups = {\n",
    "        'noun': {'NN', 'NNS', 'NNP', 'NNPS'},\n",
    "        'verb': {'VB', 'VBD', 'VBG', 'VBN', 'VBP', 'VBZ'},\n",
    "        'adjective': {'JJ', 'JJR', 'JJS'},\n",
    "        'adverb': {'RB', 'RBR', 'RBS'},\n",
    "        'conjunction': {'CC', 'IN'},\n",
    "        'determiner': {'DT', 'PDT', 'WDT'},\n",
    "        'pronoun': {'PRP', 'PRP$', 'WP', 'WP$'}\n",
    "    }\n",
    "    pos_counts = {key: 0 for key in tag_groups}\n",
    "\n",
    "    # 进行类别求和操作并处理未分类词性\n",
    "    unclassified_tags = [(tag, count) for tag, count in counter_list_new if not any(tag in group for group in tag_groups.values())]\n",
    "    for tag, count in counter_list_new:\n",
    "        for group, tags in tag_groups.items():\n",
    "            if tag in tags:\n",
    "                pos_counts[group] += count\n",
    "\n",
    "    # 将未分类词性加入到最终结果列表中\n",
    "    final_result = list(pos_counts.items()) + unclassified_tags\n",
    "\n",
    "    \n",
    "    # 按照出现次数逆序排序\n",
    "    sorted_data = sorted(final_result, key=lambda x: x[1], reverse=True)\n",
    "\n",
    "    return sorted_data\n",
    "\n",
    "counter_tagging_type = static_tagging_type(tagged_sentence_list)"
   ]
  },
  {
   "cell_type": "code",
   "execution_count": 9,
   "id": "86ea8ebf",
   "metadata": {
    "collapsed": true
   },
   "outputs": [
    {
     "data": {
      "text/plain": [
       "[('noun', 14883),\n",
       " ('verb', 6176),\n",
       " ('determiner', 5768),\n",
       " ('adjective', 5549),\n",
       " ('conjunction', 4625),\n",
       " ('adverb', 893),\n",
       " ('TO', 775),\n",
       " ('MD', 385),\n",
       " ('CD', 253),\n",
       " ('pronoun', 247),\n",
       " ('POS', 93),\n",
       " ('WRB', 49),\n",
       " ('EX', 36),\n",
       " ('RP', 29),\n",
       " ('FW', 9),\n",
       " ('$', 6),\n",
       " ('SYM', 6),\n",
       " ('UH', 5)]"
      ]
     },
     "execution_count": 9,
     "metadata": {},
     "output_type": "execute_result"
    }
   ],
   "source": [
    "counter_tagging_type[:20]"
   ]
  },
  {
   "cell_type": "code",
   "execution_count": 10,
   "id": "8b54b22d",
   "metadata": {},
   "outputs": [
    {
     "data": {
      "text/plain": [
       "['Creates', 'elastic', 'node', 'as', 'single', 'member', 'of', 'a', 'cluster']"
      ]
     },
     "execution_count": 10,
     "metadata": {},
     "output_type": "execute_result"
    }
   ],
   "source": [
    "# comment_word = test_df[ele for ele in tagged_sentence_list]\n",
    "# tagged_sentence_list\n",
    "punctuations = {'.', ',', ';', ':', '(', ')', '[', ']', '{', '}', '!', '?', '``', \"''\"}\n",
    "\n",
    "# comment_word = []\n",
    "# for sentence in tagged_sentence_list:\n",
    "#     temp = []\n",
    "#     for word, _ in sentence:\n",
    "#         if word not in punctuations:\n",
    "#             temp.append(word)\n",
    "#     comment_word.append(temp)\n",
    "\n",
    "# 和上面两个for功能一样\n",
    "comment_word = [[word for word, _ in sentence if word not in punctuations] for sentence in tagged_sentence_list]\n",
    "comment_word[0]"
   ]
  },
  {
   "cell_type": "code",
   "execution_count": 11,
   "id": "7590f2d5",
   "metadata": {},
   "outputs": [
    {
     "data": {
      "text/plain": [
       "9"
      ]
     },
     "execution_count": 11,
     "metadata": {},
     "output_type": "execute_result"
    }
   ],
   "source": [
    "# 计算每个子列表的长度\n",
    "lengths = [len(sublist) for sublist in comment_word]\n",
    "lengths[0]"
   ]
  },
  {
   "cell_type": "code",
   "execution_count": 12,
   "id": "cd945022",
   "metadata": {},
   "outputs": [
    {
     "data": {
      "text/plain": [
       "10.140720081135903"
      ]
     },
     "execution_count": 12,
     "metadata": {},
     "output_type": "execute_result"
    }
   ],
   "source": [
    "# 计算平均长度\n",
    "average_length = sum(lengths) / len(lengths)\n",
    "average_length"
   ]
  },
  {
   "cell_type": "code",
   "execution_count": 13,
   "id": "78e24da3",
   "metadata": {},
   "outputs": [
    {
     "data": {
      "text/plain": [
       "1461"
      ]
     },
     "execution_count": 13,
     "metadata": {},
     "output_type": "execute_result"
    }
   ],
   "source": [
    "# 超过平均长度的索引\n",
    "indices_above_average = [index for index, length in enumerate(lengths) if length > average_length]\n",
    "len(indices_above_average)"
   ]
  },
  {
   "cell_type": "code",
   "execution_count": 14,
   "id": "dd478484",
   "metadata": {},
   "outputs": [
    {
     "data": {
      "text/plain": [
       "494"
      ]
     },
     "execution_count": 14,
     "metadata": {},
     "output_type": "execute_result"
    }
   ],
   "source": [
    "# 长度为 10 和 11 的索引\n",
    "indices_10and11 = [index for index, length in enumerate(lengths) if length ==10 or length == 11]\n",
    "len(indices_10and11)"
   ]
  },
  {
   "cell_type": "markdown",
   "id": "0385767f",
   "metadata": {},
   "source": [
    "选择具有代表性的句子：长度接近平均长度的句子，或者选择长度超过平均长度的句子进行分析。"
   ]
  },
  {
   "cell_type": "code",
   "execution_count": 15,
   "id": "5a058955",
   "metadata": {},
   "outputs": [
    {
     "data": {
      "text/plain": [
       "(494, 494)"
      ]
     },
     "execution_count": 15,
     "metadata": {},
     "output_type": "execute_result"
    }
   ],
   "source": [
    "# 接近平均长度的句子\n",
    "comment_sentence = [test_df.loc[i]['old_comment_raw'] for i in indices_10and11 ]\n",
    "tagged_sentence_list_len10and11 = [tagged_sentence_list[i] for i in indices_10and11 ]\n",
    "len(tagged_sentence_list_len10and11),len(comment_sentence)"
   ]
  },
  {
   "cell_type": "code",
   "execution_count": 16,
   "id": "e907e45f",
   "metadata": {},
   "outputs": [
    {
     "data": {
      "text/plain": [
       "[('noun', 1864),\n",
       " ('verb', 821),\n",
       " ('determiner', 800),\n",
       " ('conjunction', 652),\n",
       " ('adjective', 639),\n",
       " ('TO', 145),\n",
       " ('adverb', 95),\n",
       " ('MD', 37),\n",
       " ('pronoun', 29),\n",
       " ('CD', 21),\n",
       " ('WRB', 9),\n",
       " ('POS', 6),\n",
       " ('RP', 5),\n",
       " ('SYM', 3),\n",
       " ('EX', 2)]"
      ]
     },
     "execution_count": 16,
     "metadata": {},
     "output_type": "execute_result"
    }
   ],
   "source": [
    "counter_tagging_type_len10and11 = static_tagging_type(tagged_sentence_list_len10and11)\n",
    "counter_tagging_type_len10and11"
   ]
  },
  {
   "cell_type": "code",
   "execution_count": 21,
   "id": "c77edaed",
   "metadata": {},
   "outputs": [
    {
     "data": {
      "text/plain": [
       "10.433198380566802"
      ]
     },
     "execution_count": 21,
     "metadata": {},
     "output_type": "execute_result"
    }
   ],
   "source": [
    "alllenth_10and11 = sum(lengths[i] for i in indices_10and11) / len(indices_10and11)\n",
    "alllenth_10and11"
   ]
  },
  {
   "cell_type": "code",
   "execution_count": null,
   "id": "b8eee51c",
   "metadata": {},
   "outputs": [],
   "source": []
  },
  {
   "cell_type": "code",
   "execution_count": null,
   "id": "2d61f7fe",
   "metadata": {},
   "outputs": [],
   "source": []
  },
  {
   "cell_type": "code",
   "execution_count": null,
   "id": "17d46c60",
   "metadata": {},
   "outputs": [],
   "source": []
  },
  {
   "cell_type": "code",
   "execution_count": null,
   "id": "721d6558",
   "metadata": {},
   "outputs": [],
   "source": []
  },
  {
   "cell_type": "code",
   "execution_count": 17,
   "id": "ff5d1c68",
   "metadata": {},
   "outputs": [],
   "source": [
    "# 主要词性：名词，形容词，介词短语，代词，动词，副词，\n",
    "\n",
    "main_type = ['NN','JJ','IN',   'PRP','VB',  'RB']"
   ]
  },
  {
   "cell_type": "code",
   "execution_count": null,
   "id": "70435f41",
   "metadata": {},
   "outputs": [],
   "source": []
  },
  {
   "cell_type": "code",
   "execution_count": null,
   "id": "9383d3bb",
   "metadata": {},
   "outputs": [],
   "source": []
  },
  {
   "cell_type": "code",
   "execution_count": 25,
   "id": "ea6d45e0",
   "metadata": {},
   "outputs": [
    {
     "data": {
      "text/plain": [
       "[('noun', 0),\n",
       " ('verb', 0),\n",
       " ('adjective', 0),\n",
       " ('adverb', 0),\n",
       " ('conjunction', 0),\n",
       " ('determiner', 0),\n",
       " ('pronoun', 0),\n",
       " ('111', 1),\n",
       " ('222', 2),\n",
       " ('111', 3)]"
      ]
     },
     "execution_count": 25,
     "metadata": {},
     "output_type": "execute_result"
    }
   ],
   "source": [
    "main_type = [('111',1),('222',2),('111',3)]\n",
    "# 把子类别归类 ：例如 NN  NNS 为一大类都是名词\n",
    "# 定义词性标签集合: 名词  动词  形容词 副词 连词 限定词 代词\n",
    "tag_groups = {\n",
    "        'noun': {'NN', 'NNS', 'NNP', 'NNPS'},\n",
    "        'verb': {'VB', 'VBD', 'VBG', 'VBN', 'VBP', 'VBZ'},\n",
    "        'adjective': {'JJ', 'JJR', 'JJS'},\n",
    "        'adverb': {'RB', 'RBR', 'RBS'},\n",
    "        'conjunction': {'CC', 'IN'},\n",
    "        'determiner': {'DT', 'PDT', 'WDT'},\n",
    "        'pronoun': {'PRP', 'PRP$', 'WP', 'WP$'}\n",
    "}\n",
    "pos_counts = {key: 0 for key in tag_groups}\n",
    "\n",
    "    # 进行类别求和操作并处理未分类词性\n",
    "unclassified_tags = [(tag, count) for tag, count in main_type if not any(tag in group for group in tag_groups.values())]\n",
    "for tag, count in main_type:\n",
    "    for group, tags in tag_groups.items():\n",
    "        if tag in tags:\n",
    "            pos_counts[group] += count\n",
    "\n",
    "    # 将未分类词性加入到最终结果列表中\n",
    "final_result = list(pos_counts.items()) + unclassified_tags\n",
    "final_result"
   ]
  },
  {
   "cell_type": "code",
   "execution_count": 26,
   "id": "86218941",
   "metadata": {},
   "outputs": [
    {
     "name": "stdout",
     "output_type": "stream",
     "text": [
      "['noun', 'noun', 'verb', 'verb', 'adverb', 'adverb', 'EX']\n"
     ]
    }
   ],
   "source": [
    "# 定义词性标签集合\n",
    "tag_groups = {\n",
    "    'noun': {'NN', 'NNS', 'NNP', 'NNPS'},\n",
    "    'verb': {'VB', 'VBD', 'VBG', 'VBN', 'VBP', 'VBZ'},\n",
    "    'adjective': {'JJ', 'JJR', 'JJS'},\n",
    "    'adverb': {'RB', 'RBR', 'RBS'},\n",
    "    'conjunction': {'CC', 'IN'},\n",
    "    'determiner': {'DT', 'PDT', 'WDT'},\n",
    "    'pronoun': {'PRP', 'PRP$', 'WP', 'WP$'}\n",
    "}\n",
    "\n",
    "# 原始列表\n",
    "original_list = ['NN', 'NNS', 'VB', 'VBD', 'RB', 'RBR', 'EX']\n",
    "\n",
    "# 创建一个映射字典\n",
    "mapping = {tag: key for key, tags in tag_groups.items() for tag in tags}\n",
    "\n",
    "# 将列表中的值替换为对应的键\n",
    "mapped_list = [mapping.get(tag, tag) for tag in original_list]\n",
    "\n",
    "print(mapped_list)\n"
   ]
  },
  {
   "cell_type": "code",
   "execution_count": null,
   "id": "29a219ee",
   "metadata": {},
   "outputs": [],
   "source": []
  },
  {
   "cell_type": "code",
   "execution_count": null,
   "id": "4248530e",
   "metadata": {},
   "outputs": [],
   "source": []
  }
 ],
 "metadata": {
  "kernelspec": {
   "display_name": "leitx",
   "language": "python",
   "name": "leitx"
  },
  "language_info": {
   "codemirror_mode": {
    "name": "ipython",
    "version": 3
   },
   "file_extension": ".py",
   "mimetype": "text/x-python",
   "name": "python",
   "nbconvert_exporter": "python",
   "pygments_lexer": "ipython3",
   "version": "3.11.9"
  }
 },
 "nbformat": 4,
 "nbformat_minor": 5
}
