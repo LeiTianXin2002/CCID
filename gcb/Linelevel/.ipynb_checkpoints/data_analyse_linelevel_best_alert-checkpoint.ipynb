{
 "cells": [
  {
   "cell_type": "markdown",
   "id": "2278746b",
   "metadata": {},
   "source": [
    "使用四分位距和截距法进行异常值处理"
   ]
  },
  {
   "cell_type": "code",
   "execution_count": 1,
   "id": "895962d2",
   "metadata": {},
   "outputs": [],
   "source": [
    "import pandas as pd\n",
    "import matplotlib.pyplot as plt\n",
    "import seaborn as sns\n",
    "import numpy as np"
   ]
  },
  {
   "cell_type": "code",
   "execution_count": 2,
   "id": "b6c0350e",
   "metadata": {},
   "outputs": [],
   "source": [
    "linelevel_pre_false = pd.read_json('linelevel_pre_false.json')\n",
    "linelevel_pre_true = pd.read_json('linelevel_pre_true.json')\n",
    "\n",
    "linelevel_attribution_false = pd.read_json('linelevel_attribution_false_AfterAlert.json')\n",
    "linelevel_attribution_true = pd.read_json('linelevel_attribution_true_AfterAlert.json')\n",
    "linelevel_attribution_false['value'] = linelevel_attribution_false['value'] * 10\n",
    "linelevel_attribution_true['value'] = linelevel_attribution_true['value'] * 10"
   ]
  },
  {
   "cell_type": "code",
   "execution_count": 3,
   "id": "5c71d29a",
   "metadata": {},
   "outputs": [
    {
     "data": {
      "text/plain": [
       "(965, 3921)"
      ]
     },
     "execution_count": 3,
     "metadata": {},
     "output_type": "execute_result"
    }
   ],
   "source": [
    "len(linelevel_pre_false),len(linelevel_attribution_false)"
   ]
  },
  {
   "cell_type": "code",
   "execution_count": 4,
   "id": "c917c3fe",
   "metadata": {},
   "outputs": [
    {
     "data": {
      "text/plain": [
       "(2174, 9202)"
      ]
     },
     "execution_count": 4,
     "metadata": {},
     "output_type": "execute_result"
    }
   ],
   "source": [
    "len(linelevel_pre_true),len(linelevel_attribution_true)"
   ]
  },
  {
   "cell_type": "code",
   "execution_count": null,
   "id": "7766cec8",
   "metadata": {},
   "outputs": [],
   "source": []
  },
  {
   "cell_type": "markdown",
   "id": "5261173c",
   "metadata": {},
   "source": [
    "true"
   ]
  },
  {
   "cell_type": "code",
   "execution_count": 5,
   "id": "b9794aa5",
   "metadata": {},
   "outputs": [],
   "source": [
    "line_type = ['MethodDeclaration_num','variableDeclaration_num','expression_num','ifstatement_num',\n",
    "             'forstatement_num','whilestatement_num','trystatement_num', 'returnstatement_num']"
   ]
  },
  {
   "cell_type": "code",
   "execution_count": 6,
   "id": "e8be5bea",
   "metadata": {},
   "outputs": [],
   "source": [
    "def get_list_print_df(df, name):\n",
    "    col_list = []\n",
    "    for i in range(len(df)):\n",
    "        if df.loc[i]['key'] == name:\n",
    "            attr = df.loc[i]['value']\n",
    "            col_list.append(attr)\n",
    "    df = pd.DataFrame(col_list, columns=[name])\n",
    "    return df"
   ]
  },
  {
   "cell_type": "code",
   "execution_count": 7,
   "id": "cefd8522",
   "metadata": {},
   "outputs": [],
   "source": [
    "def get_all_colunm_df(df,column_order):\n",
    "    unique_values = df['key'].value_counts().index\n",
    "    result = pd.DataFrame()\n",
    "\n",
    "    for uniq in unique_values:\n",
    "        attr = get_list_print_df(df, uniq)\n",
    "        result = pd.concat([result, attr], axis=1)\n",
    "        \n",
    "    # 重新排序列名\n",
    "    result = result[column_order]\n",
    "    \n",
    "    # 删除列名称中的 '_num' 字符串\n",
    "    result.rename(columns=lambda x: x.replace('_num', ''), inplace=True)\n",
    "    return result "
   ]
  },
  {
   "cell_type": "code",
   "execution_count": null,
   "id": "565468bc",
   "metadata": {},
   "outputs": [],
   "source": []
  },
  {
   "cell_type": "code",
   "execution_count": null,
   "id": "534d6c0b",
   "metadata": {},
   "outputs": [],
   "source": []
  },
  {
   "cell_type": "code",
   "execution_count": 8,
   "id": "c6d7c4a4",
   "metadata": {
    "scrolled": true
   },
   "outputs": [
    {
     "ename": "KeyError",
     "evalue": "\"['expression_num'] not in index\"",
     "output_type": "error",
     "traceback": [
      "\u001b[1;31m---------------------------------------------------------------------------\u001b[0m",
      "\u001b[1;31mKeyError\u001b[0m                                  Traceback (most recent call last)",
      "Cell \u001b[1;32mIn[8], line 1\u001b[0m\n\u001b[1;32m----> 1\u001b[0m all_colunm_df_true \u001b[38;5;241m=\u001b[39m get_all_colunm_df(linelevel_attribution_true,line_type)\n\u001b[0;32m      2\u001b[0m all_colunm_df_true\u001b[38;5;241m.\u001b[39mhead()\n",
      "Cell \u001b[1;32mIn[7], line 10\u001b[0m, in \u001b[0;36mget_all_colunm_df\u001b[1;34m(df, column_order)\u001b[0m\n\u001b[0;32m      7\u001b[0m     result \u001b[38;5;241m=\u001b[39m pd\u001b[38;5;241m.\u001b[39mconcat([result, attr], axis\u001b[38;5;241m=\u001b[39m\u001b[38;5;241m1\u001b[39m)\n\u001b[0;32m      9\u001b[0m \u001b[38;5;66;03m# 重新排序列名\u001b[39;00m\n\u001b[1;32m---> 10\u001b[0m result \u001b[38;5;241m=\u001b[39m result[column_order]\n\u001b[0;32m     12\u001b[0m \u001b[38;5;66;03m# 删除列名称中的 '_num' 字符串\u001b[39;00m\n\u001b[0;32m     13\u001b[0m result\u001b[38;5;241m.\u001b[39mrename(columns\u001b[38;5;241m=\u001b[39m\u001b[38;5;28;01mlambda\u001b[39;00m x: x\u001b[38;5;241m.\u001b[39mreplace(\u001b[38;5;124m'\u001b[39m\u001b[38;5;124m_num\u001b[39m\u001b[38;5;124m'\u001b[39m, \u001b[38;5;124m'\u001b[39m\u001b[38;5;124m'\u001b[39m), inplace\u001b[38;5;241m=\u001b[39m\u001b[38;5;28;01mTrue\u001b[39;00m)\n",
      "File \u001b[1;32m~\\AppData\\Roaming\\Python\\Python311\\site-packages\\pandas\\core\\frame.py:3767\u001b[0m, in \u001b[0;36mDataFrame.__getitem__\u001b[1;34m(self, key)\u001b[0m\n\u001b[0;32m   3765\u001b[0m     \u001b[38;5;28;01mif\u001b[39;00m is_iterator(key):\n\u001b[0;32m   3766\u001b[0m         key \u001b[38;5;241m=\u001b[39m \u001b[38;5;28mlist\u001b[39m(key)\n\u001b[1;32m-> 3767\u001b[0m     indexer \u001b[38;5;241m=\u001b[39m \u001b[38;5;28mself\u001b[39m\u001b[38;5;241m.\u001b[39mcolumns\u001b[38;5;241m.\u001b[39m_get_indexer_strict(key, \u001b[38;5;124m\"\u001b[39m\u001b[38;5;124mcolumns\u001b[39m\u001b[38;5;124m\"\u001b[39m)[\u001b[38;5;241m1\u001b[39m]\n\u001b[0;32m   3769\u001b[0m \u001b[38;5;66;03m# take() does not accept boolean indexers\u001b[39;00m\n\u001b[0;32m   3770\u001b[0m \u001b[38;5;28;01mif\u001b[39;00m \u001b[38;5;28mgetattr\u001b[39m(indexer, \u001b[38;5;124m\"\u001b[39m\u001b[38;5;124mdtype\u001b[39m\u001b[38;5;124m\"\u001b[39m, \u001b[38;5;28;01mNone\u001b[39;00m) \u001b[38;5;241m==\u001b[39m \u001b[38;5;28mbool\u001b[39m:\n",
      "File \u001b[1;32m~\\AppData\\Roaming\\Python\\Python311\\site-packages\\pandas\\core\\indexes\\base.py:5877\u001b[0m, in \u001b[0;36mIndex._get_indexer_strict\u001b[1;34m(self, key, axis_name)\u001b[0m\n\u001b[0;32m   5874\u001b[0m \u001b[38;5;28;01melse\u001b[39;00m:\n\u001b[0;32m   5875\u001b[0m     keyarr, indexer, new_indexer \u001b[38;5;241m=\u001b[39m \u001b[38;5;28mself\u001b[39m\u001b[38;5;241m.\u001b[39m_reindex_non_unique(keyarr)\n\u001b[1;32m-> 5877\u001b[0m \u001b[38;5;28mself\u001b[39m\u001b[38;5;241m.\u001b[39m_raise_if_missing(keyarr, indexer, axis_name)\n\u001b[0;32m   5879\u001b[0m keyarr \u001b[38;5;241m=\u001b[39m \u001b[38;5;28mself\u001b[39m\u001b[38;5;241m.\u001b[39mtake(indexer)\n\u001b[0;32m   5880\u001b[0m \u001b[38;5;28;01mif\u001b[39;00m \u001b[38;5;28misinstance\u001b[39m(key, Index):\n\u001b[0;32m   5881\u001b[0m     \u001b[38;5;66;03m# GH 42790 - Preserve name from an Index\u001b[39;00m\n",
      "File \u001b[1;32m~\\AppData\\Roaming\\Python\\Python311\\site-packages\\pandas\\core\\indexes\\base.py:5941\u001b[0m, in \u001b[0;36mIndex._raise_if_missing\u001b[1;34m(self, key, indexer, axis_name)\u001b[0m\n\u001b[0;32m   5938\u001b[0m     \u001b[38;5;28;01mraise\u001b[39;00m \u001b[38;5;167;01mKeyError\u001b[39;00m(\u001b[38;5;124mf\u001b[39m\u001b[38;5;124m\"\u001b[39m\u001b[38;5;124mNone of [\u001b[39m\u001b[38;5;132;01m{\u001b[39;00mkey\u001b[38;5;132;01m}\u001b[39;00m\u001b[38;5;124m] are in the [\u001b[39m\u001b[38;5;132;01m{\u001b[39;00maxis_name\u001b[38;5;132;01m}\u001b[39;00m\u001b[38;5;124m]\u001b[39m\u001b[38;5;124m\"\u001b[39m)\n\u001b[0;32m   5940\u001b[0m not_found \u001b[38;5;241m=\u001b[39m \u001b[38;5;28mlist\u001b[39m(ensure_index(key)[missing_mask\u001b[38;5;241m.\u001b[39mnonzero()[\u001b[38;5;241m0\u001b[39m]]\u001b[38;5;241m.\u001b[39munique())\n\u001b[1;32m-> 5941\u001b[0m \u001b[38;5;28;01mraise\u001b[39;00m \u001b[38;5;167;01mKeyError\u001b[39;00m(\u001b[38;5;124mf\u001b[39m\u001b[38;5;124m\"\u001b[39m\u001b[38;5;132;01m{\u001b[39;00mnot_found\u001b[38;5;132;01m}\u001b[39;00m\u001b[38;5;124m not in index\u001b[39m\u001b[38;5;124m\"\u001b[39m)\n",
      "\u001b[1;31mKeyError\u001b[0m: \"['expression_num'] not in index\""
     ]
    }
   ],
   "source": [
    "all_colunm_df_true = get_all_colunm_df(linelevel_attribution_true,line_type)\n",
    "all_colunm_df_true.head()"
   ]
  },
  {
   "cell_type": "code",
   "execution_count": null,
   "id": "18571d6e",
   "metadata": {},
   "outputs": [],
   "source": [
    "mean_value = all_colunm_df_true.mean()\n",
    "mean_value "
   ]
  },
  {
   "cell_type": "code",
   "execution_count": null,
   "id": "1b6acc27",
   "metadata": {},
   "outputs": [],
   "source": [
    "std_value = all_colunm_df_true.std()\n",
    "std_value"
   ]
  },
  {
   "cell_type": "code",
   "execution_count": null,
   "id": "8621e443",
   "metadata": {},
   "outputs": [],
   "source": [
    "# 画出和论文一样的图\n",
    "def get_paper_picture(df):\n",
    "    \n",
    "    # 图形大小，随时改\n",
    "    plt.figure(figsize=(40, 8))\n",
    "\n",
    "    # 定义颜色\n",
    "    palette = sns.color_palette('pastel')\n",
    "\n",
    "    # 画图\n",
    "    for i, col in enumerate(df.columns):\n",
    "        # 小提琴\n",
    "        sns.violinplot(x=np.full(len(df), i), y=df[col], inner=None, hue=np.full(len(df), i), palette=[palette[i]], legend=False)\n",
    "        # 散点图\n",
    "        sns.stripplot(x=np.full(len(df), i) - 0.5, y=df[col], color=palette[i], alpha=0.5, jitter=0.2, legend=False)\n",
    "        # 箱线图\n",
    "        sns.boxplot(x=np.full(len(df), i), y=df[col], width=0.2, showcaps=True, showfliers=False,  # 不显示异常值\n",
    "                    boxprops=dict(facecolor='none', edgecolor='black', linewidth=1.5),  # 更改边框线条粗细\n",
    "                    whiskerprops=dict(color='black', linewidth=2), \n",
    "                    capprops=dict(color='black', linewidth=2), \n",
    "                    medianprops=dict(color='#8B8B83', linewidth=2), \n",
    "                    flierprops=dict(marker='o', color='red', alpha=0.5))\n",
    "    # 均值线\n",
    "    mean_value = df.mean()\n",
    "    print(\"均值 : \")\n",
    "    print(mean_value)\n",
    "    mean_value_sorted = mean_value.sort_values(ascending=False)\n",
    "    print(\"\\n从大到小排序后的均值 : \")\n",
    "    print(mean_value_sorted)\n",
    "    \n",
    "    new_mean_value = [item for item in mean_value for _ in range(2)]\n",
    "    for i in range(len(new_mean_value)):\n",
    "        if i % 2 == 0:\n",
    "            plt.plot([i - 0.5, i + 0.5], [new_mean_value[i], new_mean_value[i]], color='blue', linestyle='--', linewidth=2)\n",
    "        else:\n",
    "            plt.plot([i - 0.3, i + 0.3], [new_mean_value[i], new_mean_value[i]], color='blue', linestyle='--', linewidth=2)\n",
    "\n",
    "\n",
    "    # 横坐标标签\n",
    "    label_name = [item for sublist in [[x, f'{x}_num'] for x in df.columns] for item in sublist]\n",
    "    ax = plt.gca()\n",
    "    ax.set_xticks(np.arange(len(label_name)))  # 设置标签的位置\n",
    "    ax.set_xticklabels(label_name)\n",
    "\n",
    "    plt.ylabel('value')\n",
    "\n",
    "    plt.show()\n"
   ]
  },
  {
   "cell_type": "code",
   "execution_count": null,
   "id": "940ff794",
   "metadata": {},
   "outputs": [],
   "source": [
    "get_paper_picture(all_colunm_df_true)"
   ]
  },
  {
   "cell_type": "code",
   "execution_count": null,
   "id": "ea0d05c7",
   "metadata": {},
   "outputs": [],
   "source": []
  },
  {
   "cell_type": "code",
   "execution_count": null,
   "id": "de80f5bf",
   "metadata": {},
   "outputs": [],
   "source": [
    "all_colunm_df_true_abs = all_colunm_df_true.abs()\n",
    "all_colunm_df_true_abs.head()"
   ]
  },
  {
   "cell_type": "code",
   "execution_count": null,
   "id": "42c10952",
   "metadata": {},
   "outputs": [],
   "source": [
    "get_paper_picture(all_colunm_df_true_abs)"
   ]
  },
  {
   "cell_type": "code",
   "execution_count": null,
   "id": "ef81f74d",
   "metadata": {},
   "outputs": [],
   "source": []
  },
  {
   "cell_type": "code",
   "execution_count": null,
   "id": "41abdb43",
   "metadata": {},
   "outputs": [],
   "source": [
    "# 截尾处理\n",
    "\n",
    "\n",
    "def Winsorization_outliers(df):\n",
    "    total_nan_count_new = 0  # 初始化总共删除的数量\n",
    "\n",
    "    for column_name in df.select_dtypes(include=[np.number]).columns:\n",
    "        q1 = np.percentile(df[column_name].dropna(), 1)\n",
    "        q3 = np.percentile(df[column_name].dropna(), 99)\n",
    "        \n",
    "        # 计算替换前的NaN数量\n",
    "        nan_count_before = df[column_name].isna().sum()\n",
    "\n",
    "        df[column_name] = df[column_name].apply(lambda x: np.nan if x < q1 or x > q3 else x)\n",
    "        \n",
    "        # 计算替换后的NaN数量\n",
    "        nan_count_after = df[column_name].isna().sum()\n",
    "        \n",
    "        nan_count_new = nan_count_after - nan_count_before\n",
    "               \n",
    "        total_nan_count_new += nan_count_new    # 总共删除的数量\n",
    "        \n",
    "        print(f'列 {column_name} 的第1个分位数: {q1} \\t第99个分位数: {q3}\\t此列删除数量{nan_count_new}')\n",
    "    print(f'所有列的总共删除的数量: {total_nan_count_new}')\n",
    "    return df\n",
    "\n",
    "all_colunm_df_true_for_Winsorization = all_colunm_df_true.copy()\n",
    "all_colunm_df_true_Winsorization = Winsorization_outliers(all_colunm_df_true_for_Winsorization)"
   ]
  },
  {
   "cell_type": "code",
   "execution_count": null,
   "id": "188e068a",
   "metadata": {},
   "outputs": [],
   "source": [
    "get_paper_picture(all_colunm_df_true_Winsorization)"
   ]
  },
  {
   "cell_type": "code",
   "execution_count": null,
   "id": "023b89f9",
   "metadata": {},
   "outputs": [],
   "source": []
  },
  {
   "cell_type": "code",
   "execution_count": null,
   "id": "a0b58889",
   "metadata": {},
   "outputs": [],
   "source": [
    "all_colunm_df_Winsorization_true_abs = all_colunm_df_true_Winsorization.abs()\n",
    "all_colunm_df_Winsorization_true_abs.head()"
   ]
  },
  {
   "cell_type": "code",
   "execution_count": null,
   "id": "af4a7843",
   "metadata": {},
   "outputs": [],
   "source": [
    "get_paper_picture(all_colunm_df_Winsorization_true_abs)"
   ]
  },
  {
   "cell_type": "code",
   "execution_count": null,
   "id": "07b15747",
   "metadata": {},
   "outputs": [],
   "source": []
  },
  {
   "cell_type": "code",
   "execution_count": null,
   "id": "ee0529b1",
   "metadata": {},
   "outputs": [],
   "source": [
    "# 截尾处理 5%\n",
    "\n",
    "def Winsorization_outliers_2(df):\n",
    "    total_nan_count_new = 0  # 初始化总共删除的数量\n",
    "\n",
    "    for column_name in df.select_dtypes(include=[np.number]).columns:\n",
    "        q1 = np.percentile(df[column_name].dropna(), 5)\n",
    "        q3 = np.percentile(df[column_name].dropna(), 95)\n",
    "        \n",
    "        # 计算替换前的NaN数量\n",
    "        nan_count_before = df[column_name].isna().sum()\n",
    "\n",
    "        df[column_name] = df[column_name].apply(lambda x: np.nan if x < q1 or x > q3 else x)\n",
    "        \n",
    "        # 计算替换后的NaN数量\n",
    "        nan_count_after = df[column_name].isna().sum()\n",
    "        \n",
    "        nan_count_new = nan_count_after - nan_count_before\n",
    "               \n",
    "        total_nan_count_new += nan_count_new    # 总共删除的数量\n",
    "        \n",
    "        print(f'列 {column_name} 的第1个分位数: {q1} \\t第99个分位数: {q3}\\t此列删除数量{nan_count_new}')\n",
    "    print(f'所有列的总共删除的数量: {total_nan_count_new}')\n",
    "    return df\n",
    "\n",
    "all_colunm_df_true_for_Winsorization_5 = all_colunm_df_true.copy()\n",
    "all_colunm_df_true_Winsorization_5 = Winsorization_outliers_2(all_colunm_df_true_for_Winsorization_5)\n",
    "\n",
    "get_paper_picture(all_colunm_df_true_Winsorization_5)"
   ]
  },
  {
   "cell_type": "code",
   "execution_count": null,
   "id": "fe1ae698",
   "metadata": {},
   "outputs": [],
   "source": [
    "all_colunm_df_Winsorization_true_5_abs = all_colunm_df_true_Winsorization_5.abs()\n",
    "get_paper_picture(all_colunm_df_Winsorization_true_5_abs)"
   ]
  },
  {
   "cell_type": "code",
   "execution_count": null,
   "id": "d180f14f",
   "metadata": {},
   "outputs": [],
   "source": [
    "# 四分位距法\n",
    "def iqr_outliers(df):\n",
    "    total_nan_count_new = 0  # 初始化总共删除的数量\n",
    "\n",
    "    for column_name in df.select_dtypes(include=[np.number]).columns:\n",
    "        q1 = df[column_name].quantile(0.25)\n",
    "        q3 = df[column_name].quantile(0.75)\n",
    "        iqr = q3 - q1\n",
    "        Lower_tail = q1 - 1.5 * iqr\n",
    "        Upper_tail = q3 + 1.5 * iqr\n",
    "        \n",
    "        # 计算替换前的NaN数量\n",
    "        nan_count_before = df[column_name].isna().sum()\n",
    "\n",
    "        df[column_name] = df[column_name].apply(lambda x: np.nan if x < Lower_tail or x > Upper_tail else x)\n",
    "        \n",
    "        # 计算替换后的NaN数量\n",
    "        nan_count_after = df[column_name].isna().sum()\n",
    "        \n",
    "        nan_count_new = nan_count_after - nan_count_before\n",
    "               \n",
    "        total_nan_count_new += nan_count_new    # 总共删除的数量\n",
    "        print(f'下四分位数: {q1}, 上四分位数: {q3}, 最小值下界: {Lower_tail}, 最大值上界: {Upper_tail}\\t此列删除数量{nan_count_new}')\n",
    "    print(f'所有列的总共删除的数量: {total_nan_count_new}')\n",
    "    return df\n",
    "\n",
    "all_colunm_df_true_for_iqr = all_colunm_df_true.copy()\n",
    "all_colunm_df_true_iqr = iqr_outliers(all_colunm_df_true_for_iqr)"
   ]
  },
  {
   "cell_type": "code",
   "execution_count": null,
   "id": "336eac61",
   "metadata": {},
   "outputs": [],
   "source": [
    "get_paper_picture(all_colunm_df_true_iqr)"
   ]
  },
  {
   "cell_type": "code",
   "execution_count": null,
   "id": "006a05a9",
   "metadata": {},
   "outputs": [],
   "source": [
    "all_colunm_df_iqr_true_abs = all_colunm_df_true_iqr.abs()\n",
    "all_colunm_df_iqr_true_abs.head()"
   ]
  },
  {
   "cell_type": "code",
   "execution_count": null,
   "id": "eee5d83d",
   "metadata": {},
   "outputs": [],
   "source": [
    "get_paper_picture(all_colunm_df_iqr_true_abs)"
   ]
  },
  {
   "cell_type": "code",
   "execution_count": null,
   "id": "9ce9e487",
   "metadata": {},
   "outputs": [],
   "source": []
  },
  {
   "cell_type": "code",
   "execution_count": null,
   "id": "668ca068",
   "metadata": {},
   "outputs": [],
   "source": []
  },
  {
   "cell_type": "code",
   "execution_count": null,
   "id": "01dea12b",
   "metadata": {},
   "outputs": [],
   "source": []
  },
  {
   "cell_type": "code",
   "execution_count": null,
   "id": "59d8ed87",
   "metadata": {},
   "outputs": [],
   "source": []
  },
  {
   "cell_type": "markdown",
   "id": "25f8b5fa",
   "metadata": {},
   "source": [
    "false"
   ]
  },
  {
   "cell_type": "code",
   "execution_count": null,
   "id": "3b758258",
   "metadata": {},
   "outputs": [],
   "source": []
  },
  {
   "cell_type": "code",
   "execution_count": null,
   "id": "d46c2a21",
   "metadata": {},
   "outputs": [],
   "source": []
  },
  {
   "cell_type": "code",
   "execution_count": null,
   "id": "6118d03e",
   "metadata": {},
   "outputs": [],
   "source": [
    "all_colunm_df_false = get_all_colunm_df(linelevel_attribution_false,line_type)\n",
    "all_colunm_df_false.head()"
   ]
  },
  {
   "cell_type": "code",
   "execution_count": null,
   "id": "4752eb27",
   "metadata": {},
   "outputs": [],
   "source": [
    "std_value = all_colunm_df_false.std()\n",
    "std_value"
   ]
  },
  {
   "cell_type": "code",
   "execution_count": null,
   "id": "1c14101c",
   "metadata": {},
   "outputs": [],
   "source": [
    "get_paper_picture(all_colunm_df_false)"
   ]
  },
  {
   "cell_type": "code",
   "execution_count": null,
   "id": "e3a9cb4f",
   "metadata": {},
   "outputs": [],
   "source": []
  },
  {
   "cell_type": "markdown",
   "id": "0eff6fd8",
   "metadata": {},
   "source": [
    "绝对值均值"
   ]
  },
  {
   "cell_type": "code",
   "execution_count": null,
   "id": "1f9efdfd",
   "metadata": {},
   "outputs": [],
   "source": [
    "all_colunm_df_false_abs = all_colunm_df_false.abs()\n",
    "all_colunm_df_false_abs.head()"
   ]
  },
  {
   "cell_type": "code",
   "execution_count": null,
   "id": "bc712d99",
   "metadata": {},
   "outputs": [],
   "source": [
    "get_paper_picture(all_colunm_df_false_abs)"
   ]
  },
  {
   "cell_type": "code",
   "execution_count": null,
   "id": "d2c8306b",
   "metadata": {},
   "outputs": [],
   "source": []
  },
  {
   "cell_type": "code",
   "execution_count": null,
   "id": "c1bb3114",
   "metadata": {},
   "outputs": [],
   "source": [
    "all_colunm_df_false_for_Winsorization = all_colunm_df_false.copy()\n",
    "all_colunm_df_false_Winsorization = Winsorization_outliers(all_colunm_df_false_for_Winsorization)"
   ]
  },
  {
   "cell_type": "code",
   "execution_count": null,
   "id": "180c9c44",
   "metadata": {},
   "outputs": [],
   "source": [
    "get_paper_picture(all_colunm_df_false_Winsorization)"
   ]
  },
  {
   "cell_type": "code",
   "execution_count": null,
   "id": "5174eeac",
   "metadata": {},
   "outputs": [],
   "source": []
  },
  {
   "cell_type": "code",
   "execution_count": null,
   "id": "79950122",
   "metadata": {},
   "outputs": [],
   "source": [
    "all_colunm_df_false_for_Winsorization_5 = all_colunm_df_false.copy()\n",
    "all_colunm_df_false_Winsorization_5 = Winsorization_outliers_2(all_colunm_df_false_for_Winsorization_5)\n",
    "\n",
    "get_paper_picture(all_colunm_df_false_Winsorization_5)"
   ]
  },
  {
   "cell_type": "code",
   "execution_count": null,
   "id": "270c3f77",
   "metadata": {},
   "outputs": [],
   "source": [
    "all_colunm_df_Winsorization_false_5_abs = all_colunm_df_false_Winsorization_5.abs()\n",
    "get_paper_picture(all_colunm_df_Winsorization_false_5_abs)"
   ]
  },
  {
   "cell_type": "code",
   "execution_count": null,
   "id": "579b4bfc",
   "metadata": {},
   "outputs": [],
   "source": []
  },
  {
   "cell_type": "code",
   "execution_count": null,
   "id": "492aedb0",
   "metadata": {},
   "outputs": [],
   "source": [
    "all_colunm_df_Winsorization_false_abs = all_colunm_df_false_Winsorization.abs()\n",
    "all_colunm_df_Winsorization_false_abs.head()"
   ]
  },
  {
   "cell_type": "code",
   "execution_count": null,
   "id": "9a6e4ac6",
   "metadata": {},
   "outputs": [],
   "source": [
    "get_paper_picture(all_colunm_df_Winsorization_false_abs)"
   ]
  },
  {
   "cell_type": "code",
   "execution_count": null,
   "id": "05b761bc",
   "metadata": {},
   "outputs": [],
   "source": []
  },
  {
   "cell_type": "code",
   "execution_count": null,
   "id": "c3923dd7",
   "metadata": {},
   "outputs": [],
   "source": []
  },
  {
   "cell_type": "code",
   "execution_count": null,
   "id": "c6fb02da",
   "metadata": {},
   "outputs": [],
   "source": []
  },
  {
   "cell_type": "code",
   "execution_count": null,
   "id": "c5aa6e69",
   "metadata": {},
   "outputs": [],
   "source": [
    "all_colunm_df_false_for_iqr = all_colunm_df_false.copy()\n",
    "all_colunm_df_false_iqr = iqr_outliers(all_colunm_df_false_for_iqr)"
   ]
  },
  {
   "cell_type": "code",
   "execution_count": null,
   "id": "a569cd95",
   "metadata": {},
   "outputs": [],
   "source": [
    "get_paper_picture(all_colunm_df_false_iqr)"
   ]
  },
  {
   "cell_type": "code",
   "execution_count": null,
   "id": "783dbd0e",
   "metadata": {},
   "outputs": [],
   "source": [
    "all_colunm_df_iqr_false_abs = all_colunm_df_false_iqr.abs()\n",
    "all_colunm_df_iqr_false_abs.head()"
   ]
  },
  {
   "cell_type": "code",
   "execution_count": null,
   "id": "67124d33",
   "metadata": {},
   "outputs": [],
   "source": [
    "get_paper_picture(all_colunm_df_iqr_false_abs)"
   ]
  },
  {
   "cell_type": "code",
   "execution_count": null,
   "id": "22d8eda3",
   "metadata": {},
   "outputs": [],
   "source": []
  },
  {
   "cell_type": "code",
   "execution_count": null,
   "id": "947a1f30",
   "metadata": {},
   "outputs": [],
   "source": []
  },
  {
   "cell_type": "code",
   "execution_count": null,
   "id": "4527d035",
   "metadata": {},
   "outputs": [],
   "source": []
  },
  {
   "cell_type": "code",
   "execution_count": null,
   "id": "dbb9eb99",
   "metadata": {},
   "outputs": [],
   "source": []
  }
 ],
 "metadata": {
  "kernelspec": {
   "display_name": "leitx",
   "language": "python",
   "name": "leitx"
  },
  "language_info": {
   "codemirror_mode": {
    "name": "ipython",
    "version": 3
   },
   "file_extension": ".py",
   "mimetype": "text/x-python",
   "name": "python",
   "nbconvert_exporter": "python",
   "pygments_lexer": "ipython3",
   "version": "3.11.9"
  }
 },
 "nbformat": 4,
 "nbformat_minor": 5
}
