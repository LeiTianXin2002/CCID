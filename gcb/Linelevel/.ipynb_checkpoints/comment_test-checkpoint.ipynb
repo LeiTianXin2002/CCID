{
 "cells": [
  {
   "cell_type": "markdown",
   "id": "40ad3876",
   "metadata": {},
   "source": [
    "##### 统计 test 数据集中的 注释词性特征\n",
    "平均长度为 10.15 ， 查看了 长度为 10 和 11 的注释词性特征情况 "
   ]
  },
  {
   "cell_type": "code",
   "execution_count": 7,
   "id": "5adb2032",
   "metadata": {},
   "outputs": [],
   "source": [
    "import time\n",
    "import numpy as np\n",
    "import pandas as pd\n",
    "import matplotlib.pyplot as plt\n",
    "import seaborn as sns\n",
    "import re\n",
    "from nltk.tokenize import word_tokenize\n",
    "from nltk import pos_tag\n"
   ]
  },
  {
   "cell_type": "code",
   "execution_count": 2,
   "id": "addd0f0b",
   "metadata": {},
   "outputs": [],
   "source": [
    "def retrieve_test_data():\n",
    "    test_param = pd.read_json(\"D:/BERT_learing/code_comment_inconsistency_detection/data/param/test.json\")\n",
    "    test_return = pd.read_json(\"D:/BERT_learing/code_comment_inconsistency_detection/data/return/test.json\")\n",
    "    test_summary = pd.read_json(\"D:/BERT_learing/code_comment_inconsistency_detection/data/summary/test.json\")\n",
    "    test_df = pd.concat([test_summary,test_param, test_return], axis=0)\n",
    "    test_df = test_df.reset_index(drop=True)\n",
    "    return test_df\n",
    "test_df = retrieve_test_data()"
   ]
  },
  {
   "cell_type": "code",
   "execution_count": 3,
   "id": "02e84729",
   "metadata": {
    "scrolled": true
   },
   "outputs": [
    {
     "data": {
      "text/plain": [
       "'Creates elastic node as single member of a cluster.'"
      ]
     },
     "execution_count": 3,
     "metadata": {},
     "output_type": "execute_result"
    }
   ],
   "source": [
    "test_df.loc[0]['old_comment_raw']"
   ]
  },
  {
   "cell_type": "code",
   "execution_count": 17,
   "id": "f4f2f3a5",
   "metadata": {},
   "outputs": [
    {
     "data": {
      "text/plain": [
       "'Check whether any insertion or deletion actions are currently queued.'"
      ]
     },
     "execution_count": 17,
     "metadata": {},
     "output_type": "execute_result"
    }
   ],
   "source": [
    "test_df.loc[1]['old_comment_raw']"
   ]
  },
  {
   "cell_type": "code",
   "execution_count": 4,
   "id": "64809b49",
   "metadata": {},
   "outputs": [],
   "source": [
    "comment_sentence = test_df['old_comment_raw']"
   ]
  },
  {
   "cell_type": "code",
   "execution_count": 8,
   "id": "14aea8cf",
   "metadata": {},
   "outputs": [],
   "source": [
    "def get_WordTagging_attribution_for_sentence(comment_sentence_list):\n",
    "    tagged_sentence_list = []\n",
    "    for sentence in comment_sentence_list:\n",
    "        words = word_tokenize(sentence)\n",
    "        tagged_words = pos_tag(words)\n",
    "        tagged_sentence_list.append(tagged_words)\n",
    "        \n",
    "    return tagged_sentence_list\n",
    "tagged_sentence_list = get_WordTagging_attribution_for_sentence(comment_sentence)"
   ]
  },
  {
   "cell_type": "code",
   "execution_count": 9,
   "id": "d187d493",
   "metadata": {},
   "outputs": [
    {
     "data": {
      "text/plain": [
       "[('Creates', 'NNS'),\n",
       " ('elastic', 'JJ'),\n",
       " ('node', 'NN'),\n",
       " ('as', 'IN'),\n",
       " ('single', 'JJ'),\n",
       " ('member', 'NN'),\n",
       " ('of', 'IN'),\n",
       " ('a', 'DT'),\n",
       " ('cluster', 'NN'),\n",
       " ('.', '.')]"
      ]
     },
     "execution_count": 9,
     "metadata": {},
     "output_type": "execute_result"
    }
   ],
   "source": [
    "tagged_sentence_list[0]"
   ]
  },
  {
   "cell_type": "code",
   "execution_count": 36,
   "id": "f01ba0ab",
   "metadata": {},
   "outputs": [],
   "source": [
    "from collections import Counter\n",
    "\n",
    "def static_tagging_type(data):\n",
    "    punctuations = {'.', ',', ';', ':', '(', ')', '[', ']', '{', '}', '!', '?', '``', \"''\"}\n",
    "\n",
    "    second_elements = [tag for sentence in data for _, tag in sentence]\n",
    "\n",
    "    # 统计词性出现的次数\n",
    "    counter = Counter(second_elements)\n",
    "    counter_list = list(counter.items()) \n",
    "    counter_list_new = [ele for ele in counter_list if ele[0] not in punctuations]\n",
    "    \n",
    "    # 按照出现次数逆序排序\n",
    "    sorted_data = sorted(counter_list_new, key=lambda x: x[1], reverse=True)\n",
    "\n",
    "    return sorted_data\n",
    "\n",
    "counter_tagging_type = static_tagging_type(tagged_sentence_list)"
   ]
  },
  {
   "cell_type": "code",
   "execution_count": 38,
   "id": "c8b14fea",
   "metadata": {
    "collapsed": true
   },
   "outputs": [
    {
     "data": {
      "text/plain": [
       "[('NN', 10819),\n",
       " ('JJ', 5475),\n",
       " ('DT', 5428),\n",
       " ('IN', 3883),\n",
       " ('NNP', 2525),\n",
       " ('VB', 1698),\n",
       " ('NNS', 1528),\n",
       " ('VBN', 1429),\n",
       " ('VBZ', 1271),\n",
       " ('VBP', 918),\n",
       " ('RB', 867),\n",
       " ('TO', 775),\n",
       " ('CC', 742),\n",
       " ('VBG', 540),\n",
       " ('MD', 385),\n",
       " ('VBD', 320),\n",
       " ('WDT', 316),\n",
       " ('CD', 253),\n",
       " ('PRP', 192),\n",
       " ('#', 126)]"
      ]
     },
     "execution_count": 38,
     "metadata": {},
     "output_type": "execute_result"
    }
   ],
   "source": [
    "counter_tagging_type[:20]"
   ]
  },
  {
   "cell_type": "code",
   "execution_count": 39,
   "id": "4e225cf0",
   "metadata": {},
   "outputs": [
    {
     "data": {
      "text/plain": [
       "['Creates', 'elastic', 'node', 'as', 'single', 'member', 'of', 'a', 'cluster']"
      ]
     },
     "execution_count": 39,
     "metadata": {},
     "output_type": "execute_result"
    }
   ],
   "source": [
    "# comment_word = test_df[ele for ele in tagged_sentence_list]\n",
    "# tagged_sentence_list\n",
    "punctuations = {'.', ',', ';', ':', '(', ')', '[', ']', '{', '}', '!', '?', '``', \"''\"}\n",
    "\n",
    "# comment_word = []\n",
    "# for sentence in tagged_sentence_list:\n",
    "#     temp = []\n",
    "#     for word, _ in sentence:\n",
    "#         if word not in punctuations:\n",
    "#             temp.append(word)\n",
    "#     comment_word.append(temp)\n",
    "\n",
    "# 和上面两个for功能一样\n",
    "comment_word = [[word for word, _ in sentence if word not in punctuations] for sentence in tagged_sentence_list]\n",
    "comment_word[0]"
   ]
  },
  {
   "cell_type": "code",
   "execution_count": 40,
   "id": "3bb77687",
   "metadata": {},
   "outputs": [
    {
     "data": {
      "text/plain": [
       "9"
      ]
     },
     "execution_count": 40,
     "metadata": {},
     "output_type": "execute_result"
    }
   ],
   "source": [
    "# 计算每个子列表的长度\n",
    "lengths = [len(sublist) for sublist in comment_word]\n",
    "lengths[0]"
   ]
  },
  {
   "cell_type": "code",
   "execution_count": 41,
   "id": "50b3a2fe",
   "metadata": {},
   "outputs": [
    {
     "data": {
      "text/plain": [
       "10.140720081135903"
      ]
     },
     "execution_count": 41,
     "metadata": {},
     "output_type": "execute_result"
    }
   ],
   "source": [
    "# 计算平均长度\n",
    "average_length = sum(lengths) / len(lengths)\n",
    "average_length"
   ]
  },
  {
   "cell_type": "code",
   "execution_count": 42,
   "id": "1732f5fd",
   "metadata": {},
   "outputs": [],
   "source": [
    "# 超过平均长度的索引\n",
    "indices_above_average = [index for index, length in enumerate(lengths) if length > average_length]\n",
    "len(indices_above_average)"
   ]
  },
  {
   "cell_type": "code",
   "execution_count": 45,
   "id": "dc23268d",
   "metadata": {},
   "outputs": [
    {
     "data": {
      "text/plain": [
       "494"
      ]
     },
     "execution_count": 45,
     "metadata": {},
     "output_type": "execute_result"
    }
   ],
   "source": [
    "# 长度为 10 和 11 的索引\n",
    "indices_10and11 = [index for index, length in enumerate(lengths) if length ==10 or length == 11]\n",
    "len(indices_10and11)"
   ]
  },
  {
   "cell_type": "markdown",
   "id": "f7bae4d1",
   "metadata": {},
   "source": [
    "选择具有代表性的句子：长度接近平均长度的句子，或者选择长度超过平均长度的句子进行分析。"
   ]
  },
  {
   "cell_type": "code",
   "execution_count": 47,
   "id": "62530e65",
   "metadata": {},
   "outputs": [
    {
     "data": {
      "text/plain": [
       "(494, 494)"
      ]
     },
     "execution_count": 47,
     "metadata": {},
     "output_type": "execute_result"
    }
   ],
   "source": [
    "# 接近平均长度的句子\n",
    "comment_sentence = [test_df.loc[i]['old_comment_raw'] for i in indices_10and11 ]\n",
    "tagged_sentence_list_len10and11 = [tagged_sentence_list[i] for i in indices_10and11 ]\n",
    "len(tagged_sentence_list_len10and11),len(comment_sentence)"
   ]
  },
  {
   "cell_type": "code",
   "execution_count": 48,
   "id": "b0a9be2c",
   "metadata": {
    "scrolled": true
   },
   "outputs": [
    {
     "data": {
      "text/plain": [
       "[('NN', 1383),\n",
       " ('DT', 756),\n",
       " ('JJ', 633),\n",
       " ('IN', 590),\n",
       " ('NNP', 271),\n",
       " ('VB', 249),\n",
       " ('NNS', 205),\n",
       " ('VBN', 173),\n",
       " ('VBZ', 146),\n",
       " ('TO', 145),\n",
       " ('VBP', 105),\n",
       " ('VBG', 100),\n",
       " ('RB', 93),\n",
       " ('CC', 62),\n",
       " ('VBD', 48),\n",
       " ('WDT', 41),\n",
       " ('MD', 37),\n",
       " ('PRP', 23),\n",
       " ('CD', 21),\n",
       " ('#', 13),\n",
       " ('WRB', 9),\n",
       " ('POS', 6),\n",
       " ('RP', 5),\n",
       " ('JJS', 5),\n",
       " ('NNPS', 5),\n",
       " ('PRP$', 4),\n",
       " ('PDT', 3),\n",
       " ('SYM', 3),\n",
       " ('RBR', 2),\n",
       " ('EX', 2),\n",
       " ('WP$', 2),\n",
       " ('JJR', 1)]"
      ]
     },
     "execution_count": 48,
     "metadata": {},
     "output_type": "execute_result"
    }
   ],
   "source": [
    "counter_tagging_type_len10and11 = static_tagging_type(tagged_sentence_list_len10and11)\n",
    "counter_tagging_type_len10and11"
   ]
  },
  {
   "cell_type": "code",
   "execution_count": null,
   "id": "070f34e5",
   "metadata": {},
   "outputs": [],
   "source": []
  },
  {
   "cell_type": "code",
   "execution_count": null,
   "id": "17288790",
   "metadata": {},
   "outputs": [],
   "source": []
  }
 ],
 "metadata": {
  "kernelspec": {
   "display_name": "leitx",
   "language": "python",
   "name": "leitx"
  },
  "language_info": {
   "codemirror_mode": {
    "name": "ipython",
    "version": 3
   },
   "file_extension": ".py",
   "mimetype": "text/x-python",
   "name": "python",
   "nbconvert_exporter": "python",
   "pygments_lexer": "ipython3",
   "version": "3.11.9"
  }
 },
 "nbformat": 4,
 "nbformat_minor": 5
}
