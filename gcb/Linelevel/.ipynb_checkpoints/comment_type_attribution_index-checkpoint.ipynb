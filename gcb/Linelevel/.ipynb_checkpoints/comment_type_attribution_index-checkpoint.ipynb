{
 "cells": [
  {
   "cell_type": "markdown",
   "id": "12b4625b",
   "metadata": {},
   "source": [
    "注释数据分析"
   ]
  },
  {
   "cell_type": "code",
   "execution_count": 77,
   "id": "895962d2",
   "metadata": {},
   "outputs": [],
   "source": [
    "import pandas as pd\n",
    "import matplotlib.pyplot as plt\n",
    "import seaborn as sns\n",
    "import numpy as np\n",
    "import matplotlib.cm as cm\n",
    "\n",
    "import ast\n",
    "import nltk\n",
    "from nltk.tokenize import word_tokenize\n",
    "from nltk import pos_tag\n",
    "\n",
    "# # 下载必要的资源，下载过了这里注释掉\n",
    "# nltk.download('averaged_perceptron_tagger')\n",
    "# nltk.download('punkt')\n",
    "# nltk.download('punkt_tab')\n",
    "# nltk.download('averaged_perceptron_tagger_eng')"
   ]
  },
  {
   "cell_type": "code",
   "execution_count": null,
   "id": "f6d8eca5",
   "metadata": {},
   "outputs": [],
   "source": []
  },
  {
   "cell_type": "code",
   "execution_count": 78,
   "id": "50f78070",
   "metadata": {},
   "outputs": [],
   "source": [
    "# 读预测正确数据\n",
    "def get_comment_and_attribute_true():\n",
    "    comment_word_list = []\n",
    "    attribute_list = []\n",
    "    \n",
    "    with open('D:/BERT_learing/CCDP/gcb/Linelevel/comment_attribute_true.txt', 'r') as f:\n",
    "        # 直接读txt  之后的 lines 的类型是 str  需要把str 变为 list\n",
    "        lines = f.readlines()\n",
    "        \n",
    "        for i in range(0, len(lines), 2):\n",
    "#             print(type(lines[i].strip())) # str\n",
    "            # str  ->  list\n",
    "            w_list = ast.literal_eval(lines[i].strip())\n",
    "            comment_word_list.append(w_list)\n",
    "#             print(type(w_list))          # list\n",
    "            \n",
    "            w_list = ast.literal_eval(lines[i+1].strip())\n",
    "            attribute_list.append(w_list)\n",
    "            \n",
    "    return comment_word_list,attribute_list\n",
    "\n",
    "comment_word_list_true,attribute_list_true = get_comment_and_attribute_true()"
   ]
  },
  {
   "cell_type": "code",
   "execution_count": 79,
   "id": "b1550fae",
   "metadata": {},
   "outputs": [],
   "source": [
    "# 读预测出错误数据\n",
    "def get_comment_and_attribute_false():\n",
    "    comment_word_list = []\n",
    "    attribute_list = []\n",
    "    \n",
    "    with open('D:/BERT_learing/CCDP/gcb/Linelevel/comment_attribute_false.txt', 'r') as f:\n",
    "        # 直接读txt  之后的 lines 的类型是 str  需要把str 变为 list\n",
    "        lines = f.readlines()\n",
    "        \n",
    "        for i in range(0, len(lines), 2):\n",
    "#             print(type(lines[i].strip())) # str\n",
    "            # str  ->  list\n",
    "            w_list = ast.literal_eval(lines[i].strip())\n",
    "            comment_word_list.append(w_list)\n",
    "#             print(type(w_list))          # list\n",
    "            \n",
    "            w_list = ast.literal_eval(lines[i+1].strip())\n",
    "            attribute_list.append(w_list)\n",
    "            \n",
    "    return comment_word_list,attribute_list\n",
    "\n",
    "comment_word_list_false,attribute_list_false  = get_comment_and_attribute_false()"
   ]
  },
  {
   "cell_type": "code",
   "execution_count": 80,
   "id": "f4eaf812",
   "metadata": {},
   "outputs": [
    {
     "data": {
      "text/plain": [
       "2174"
      ]
     },
     "execution_count": 80,
     "metadata": {},
     "output_type": "execute_result"
    }
   ],
   "source": [
    "# true comment lenth\n",
    "len(comment_word_list_true)"
   ]
  },
  {
   "cell_type": "code",
   "execution_count": 81,
   "id": "56076a18",
   "metadata": {},
   "outputs": [
    {
     "data": {
      "text/plain": [
       "965"
      ]
     },
     "execution_count": 81,
     "metadata": {},
     "output_type": "execute_result"
    }
   ],
   "source": [
    "len(comment_word_list_false)"
   ]
  },
  {
   "cell_type": "code",
   "execution_count": 82,
   "id": "43ac7942",
   "metadata": {
    "scrolled": true
   },
   "outputs": [],
   "source": [
    "# 把词恢复成句子 ， 对比一下  恢复成句子 和 不恢复成句子 有什么区别\n",
    "def restore_CommentWord2Sentence(comment_WordList):\n",
    "    comment_sentence = []\n",
    "    for comment_number in comment_WordList:\n",
    "\n",
    "        # 将列表内的 一个个单词 组合成 句子 \n",
    "        sentence = ' '.join(comment_number)\n",
    "        # 去除句子中多余的空格\n",
    "        sentence = sentence.replace(' .', '.')\n",
    "        comment_sentence.append(sentence)\n",
    "        \n",
    "    return comment_sentence\n",
    "\n",
    "comment_sentence_true = restore_CommentWord2Sentence(comment_word_list_true)\n",
    "comment_sentence_false = restore_CommentWord2Sentence(comment_word_list_false)"
   ]
  },
  {
   "cell_type": "code",
   "execution_count": 83,
   "id": "2a10ded6",
   "metadata": {},
   "outputs": [],
   "source": [
    "def get_WordTagging_attribution_for_word(comment_list):\n",
    "    tagged_words_list = []\n",
    "    for tag in comment_list:\n",
    "        tagged_words = pos_tag(tag)\n",
    "        tagged_words_list.append(tagged_words)\n",
    "    \n",
    "    return tagged_words_list\n",
    "\n",
    "tagged_words_list_true = get_WordTagging_attribution_for_word(comment_word_list_true)\n",
    "tagged_words_list_false = get_WordTagging_attribution_for_word(comment_word_list_false)"
   ]
  },
  {
   "cell_type": "code",
   "execution_count": 84,
   "id": "600ca23b",
   "metadata": {},
   "outputs": [],
   "source": [
    "# 返回列表，列表内元素为元组，元组（comment_token , tagging , attribution）\n",
    "def get_commentToken_tagging_attribution(tagged_token_list,attribute_num_list):\n",
    "    commentToken_tagging_attribution = []\n",
    "    for token, attribute in zip(tagged_token_list,attribute_num_list) :\n",
    "        updated_tagged_words = [(word, tag, attr) for (word, tag), attr in zip(token, attribute)]\n",
    "        commentToken_tagging_attribution.append(updated_tagged_words)\n",
    "    \n",
    "    # 去掉 标点符号    \n",
    "    punctuations = {'.', ',', ';', ':', '(', ')', '[', ']', '{', '}', '!', '?', '``', \"''\"}    \n",
    "    commentToken_tagging_attribution_new = [[(word, tag, score) for word, tag, score in element if word not in punctuations]\\\n",
    "                                              for element in commentToken_tagging_attribution]\n",
    "    \n",
    "    return commentToken_tagging_attribution_new\n",
    "\n",
    "commentToken_tagging_attribution_true = get_commentToken_tagging_attribution(tagged_words_list_true,attribute_list_true)\n",
    "commentToken_tagging_attribution_false = get_commentToken_tagging_attribution(tagged_words_list_false,attribute_list_false)"
   ]
  },
  {
   "cell_type": "code",
   "execution_count": 85,
   "id": "9375bf32",
   "metadata": {},
   "outputs": [
    {
     "data": {
      "text/plain": [
       "[[('Check', 'NNP', 0.9857011926991499),\n",
       "  ('whether', 'IN', 0.033321371454618366),\n",
       "  ('any', 'DT', -0.0034110522250396336),\n",
       "  ('insertion', 'NN', -0.015687103049881652),\n",
       "  ('or', 'CC', 0.010197712131865502),\n",
       "  ('deletion', 'NN', 0.024189839103679365),\n",
       "  ('actions', 'NNS', 0.018128423437845657),\n",
       "  ('are', 'VBP', 0.11349334193586948),\n",
       "  ('currently', 'RB', 0.038613740849099444),\n",
       "  ('queued', 'VBN', 0.023074095587449897)],\n",
       " [('Returns', 'NNS', -0.9555002302513623),\n",
       "  ('a', 'DT', 0.02029526799004031),\n",
       "  ('list', 'NN', 0.043561781277047726),\n",
       "  ('of', 'IN', -0.006324242303648166),\n",
       "  ('the', 'DT', -0.07427882313675062),\n",
       "  ('types', 'NNS', -0.03445822306186537),\n",
       "  ('of', 'IN', -0.013625102367936575),\n",
       "  ('the', 'DT', -0.019285672311409898),\n",
       "  ('fields', 'NNS', -0.05478281120117357),\n",
       "  ('in', 'IN', -0.009219699325665208),\n",
       "  ('a', 'DT', 0.014317082068423097),\n",
       "  ('given', 'VBN', 0.03720235088335602),\n",
       "  ('struct', 'NN', 0.10439644686764378),\n",
       "  ('type', 'NN', 0.056378017606281014)]]"
      ]
     },
     "execution_count": 85,
     "metadata": {},
     "output_type": "execute_result"
    }
   ],
   "source": [
    "commentToken_tagging_attribution_true[:2]"
   ]
  },
  {
   "cell_type": "code",
   "execution_count": 86,
   "id": "aecae6bc",
   "metadata": {},
   "outputs": [
    {
     "data": {
      "text/plain": [
       "[[('Creates', 'NNS', 0.30863075467411877),\n",
       "  ('elastic', 'JJ', 0.10486400454861486),\n",
       "  ('node', 'NN', -0.14722686672157287),\n",
       "  ('as', 'IN', -0.08880104445672343),\n",
       "  ('single', 'JJ', -0.013625370124243216),\n",
       "  ('member', 'NN', -0.07319367033288326),\n",
       "  ('of', 'IN', -0.037493350917411884),\n",
       "  ('a', 'DT', -0.01609454122320672),\n",
       "  ('cluster', 'NN', -0.01186327197077448)],\n",
       " [('Marshal', 'NNP', -0.00843741687354632),\n",
       "  ('the', 'DT', 0.001649807959743195),\n",
       "  ('aggregator', 'NN', 0.07836056218174468),\n",
       "  ('values', 'NNS', 0.03394109412487462),\n",
       "  ('of', 'IN', -0.08645405790153858),\n",
       "  ('to', 'TO', 0.24960911311169048),\n",
       "  ('a', 'DT', 0.22938112194893198),\n",
       "  ('JSONArray', 'NNP', 0.5725364181031114),\n",
       "  ('that', 'WDT', 0.14030179538120036),\n",
       "  ('will', 'MD', 0.05172809797743383),\n",
       "  ('later', 'RB', 0.08348398529123417),\n",
       "  ('be', 'VB', 0.055413203477582794),\n",
       "  ('aggregated', 'VBN', 0.05851855725778585),\n",
       "  ('by', 'IN', 0.03526952957208096),\n",
       "  ('master', 'NN', -0.002892754348125665)]]"
      ]
     },
     "execution_count": 86,
     "metadata": {},
     "output_type": "execute_result"
    }
   ],
   "source": [
    "commentToken_tagging_attribution_false[:2]"
   ]
  },
  {
   "cell_type": "code",
   "execution_count": 87,
   "id": "da329e55",
   "metadata": {},
   "outputs": [],
   "source": [
    "def get_tagging_type_attribution(token_tagging_attribution):\n",
    "    \n",
    "    # 定义词性标签集合: 名词  动词  形容词 副词 连词 限定词 代词\n",
    "    tag_groups = {\n",
    "        'noun': {'NN', 'NNS', 'NNP', 'NNPS'},\n",
    "        'verb': {'VB', 'VBD', 'VBG', 'VBN', 'VBP', 'VBZ'},\n",
    "        'adjective': {'JJ', 'JJR', 'JJS'},\n",
    "        'adverb': {'RB', 'RBR', 'RBS'},\n",
    "        'conjunction': {'CC', 'IN'},\n",
    "        'determiner': {'DT', 'PDT', 'WDT'},\n",
    "        'pronoun': {'PRP', 'PRP$', 'WP', 'WP$'}\n",
    "    }\n",
    "    \n",
    "    # 根据字典映射，将子类别改为父类别\n",
    "    mapping = {tag: key for key, tags in tag_groups.items() for tag in tags}\n",
    "    \n",
    "    # 此处为 commentToken_tagging_attribution 将 第二列 替换为 tag_groups 值\n",
    "    token_tagging_attribution_for_Ftype = [[(token, mapping.get(tag, tag), value)for token,tag,value in elements] \\\n",
    "                                           for elements in token_tagging_attribution]\n",
    "       \n",
    "    return token_tagging_attribution_for_Ftype\n",
    "\n",
    "token_tagging_attribution_true = get_tagging_type_attribution(commentToken_tagging_attribution_true)\n",
    "token_tagging_attribution_false = get_tagging_type_attribution(commentToken_tagging_attribution_false)"
   ]
  },
  {
   "cell_type": "code",
   "execution_count": null,
   "id": "e24575d7",
   "metadata": {},
   "outputs": [],
   "source": []
  },
  {
   "cell_type": "code",
   "execution_count": null,
   "id": "6c66715a",
   "metadata": {},
   "outputs": [],
   "source": []
  },
  {
   "cell_type": "code",
   "execution_count": 88,
   "id": "d3c16ce3",
   "metadata": {},
   "outputs": [],
   "source": [
    "list_true =    [('noun',           0.051950),\n",
    "                ('verb',           0.046784),\n",
    "                ('determiner',     0.026464),\n",
    "                ('adjective' ,     0.250716),\n",
    "                ('conjunction' ,   0.035323),\n",
    "                ('adverb'   ,      0.046155),\n",
    "                ('TO'     ,        0.043163),\n",
    "                ('MD'    ,         0.048820),\n",
    "                ('CD'    ,         0.044934),\n",
    "                ('pronoun'  ,      0.031135)]"
   ]
  },
  {
   "cell_type": "code",
   "execution_count": 89,
   "id": "1165dad6",
   "metadata": {},
   "outputs": [],
   "source": [
    "type_list_true = [\n",
    "    ('noun',           0.005),\n",
    "    ('verb',           0.004),\n",
    "    ('determiner',     0.002),\n",
    "    ('adjective' ,     0.025),\n",
    "    ('conjunction' ,   0.003),\n",
    "    ('adverb'   ,      0.004),\n",
    "    ('TO'     ,        0.004),\n",
    "    ('MD'    ,         0.004),\n",
    "    ('CD'    ,         0.004),\n",
    "    ('pronoun'  ,      0.003)\n",
    "]"
   ]
  },
  {
   "cell_type": "code",
   "execution_count": 90,
   "id": "33416ab0",
   "metadata": {},
   "outputs": [],
   "source": [
    "type_list_false = [\n",
    "    ('noun',           0.005),\n",
    "    ('verb',           0.004),\n",
    "    ('determiner',     0.002),\n",
    "    ('adjective' ,     0.025),\n",
    "    ('conjunction' ,   0.003),\n",
    "    ('adverb'   ,      0.004),\n",
    "    ('TO'     ,        0.004),\n",
    "    ('MD'    ,         0.004),\n",
    "    ('CD'    ,         0.004),\n",
    "    ('pronoun'  ,      0.003)\n",
    "]"
   ]
  },
  {
   "cell_type": "code",
   "execution_count": 91,
   "id": "24306d8a",
   "metadata": {},
   "outputs": [],
   "source": [
    "def filter_low_average(tagging_attribution,average_list):\n",
    "    type_dict = dict(average_list)\n",
    "    \n",
    "    filtered_nested_statements = []\n",
    "    indices = []\n",
    "    \n",
    "    for index, sublist in enumerate(tagging_attribution):\n",
    "        if all(stmt_type in type_dict and value > type_dict[stmt_type] for word, stmt_type, value in sublist if stmt_type in type_dict):\n",
    "            filtered_nested_statements.append(sublist)\n",
    "            indices.append(index)\n",
    "\n",
    "    return filtered_nested_statements,indices\n",
    "\n",
    "filtered_nested_statements_true,indices_true = filter_low_average(token_tagging_attribution_true,type_list_true)\n",
    "filtered_nested_statements_false,indices_false = filter_low_average(token_tagging_attribution_false,type_list_false)"
   ]
  },
  {
   "cell_type": "code",
   "execution_count": 92,
   "id": "230ff4b2",
   "metadata": {},
   "outputs": [
    {
     "data": {
      "text/plain": [
       "[('Checks', 'noun', 0.3630877726017792),\n",
       " ('if', 'conjunction', 0.007659616991039813),\n",
       " ('a', 'determiner', 0.0024934350431486197),\n",
       " ('flag', 'noun', 0.19050571514892442),\n",
       " ('is', 'verb', 0.2426049268865255),\n",
       " ('set', 'verb', 0.42471718462331653)]"
      ]
     },
     "execution_count": 92,
     "metadata": {},
     "output_type": "execute_result"
    }
   ],
   "source": [
    "filtered_nested_statements_true[0]"
   ]
  },
  {
   "cell_type": "code",
   "execution_count": 93,
   "id": "8e41a11e",
   "metadata": {},
   "outputs": [
    {
     "data": {
      "text/plain": [
       "[('creates', 'noun', 0.42486708463367834),\n",
       " ('an', 'determiner', 0.011123795468781554),\n",
       " ('XmlItem', 'noun', 0.18798836480889392),\n",
       " ('this', 'determiner', 0.15502167167740277),\n",
       " ('route', 'noun', 0.1262876788523678),\n",
       " ('creates', 'verb', 0.04121283788702308),\n",
       " ('an', 'determiner', 0.062037069123677006),\n",
       " ('XmlItem', 'noun', 0.03426389168089208)]"
      ]
     },
     "execution_count": 93,
     "metadata": {},
     "output_type": "execute_result"
    }
   ],
   "source": [
    "filtered_nested_statements_false[0]"
   ]
  },
  {
   "cell_type": "code",
   "execution_count": 94,
   "id": "923460b4",
   "metadata": {},
   "outputs": [
    {
     "data": {
      "text/plain": [
       "117"
      ]
     },
     "execution_count": 94,
     "metadata": {},
     "output_type": "execute_result"
    }
   ],
   "source": [
    "len(indices_true)"
   ]
  },
  {
   "cell_type": "code",
   "execution_count": 95,
   "id": "3ee46b16",
   "metadata": {},
   "outputs": [
    {
     "data": {
      "text/plain": [
       "67"
      ]
     },
     "execution_count": 95,
     "metadata": {},
     "output_type": "execute_result"
    }
   ],
   "source": [
    "len(indices_false)"
   ]
  },
  {
   "cell_type": "markdown",
   "id": "fa9847a6",
   "metadata": {},
   "source": [
    "过滤后与linelevel取交集"
   ]
  },
  {
   "cell_type": "code",
   "execution_count": null,
   "id": "67421303",
   "metadata": {},
   "outputs": [],
   "source": []
  },
  {
   "cell_type": "code",
   "execution_count": null,
   "id": "da266860",
   "metadata": {},
   "outputs": [],
   "source": []
  }
 ],
 "metadata": {
  "kernelspec": {
   "display_name": "leitx",
   "language": "python",
   "name": "leitx"
  },
  "language_info": {
   "codemirror_mode": {
    "name": "ipython",
    "version": 3
   },
   "file_extension": ".py",
   "mimetype": "text/x-python",
   "name": "python",
   "nbconvert_exporter": "python",
   "pygments_lexer": "ipython3",
   "version": "3.11.9"
  }
 },
 "nbformat": 4,
 "nbformat_minor": 5
}
