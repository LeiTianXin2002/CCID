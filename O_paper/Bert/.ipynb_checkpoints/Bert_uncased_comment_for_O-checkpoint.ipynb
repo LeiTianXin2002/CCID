{
 "cells": [
  {
   "cell_type": "code",
   "execution_count": 1,
   "id": "bd4b65eb",
   "metadata": {},
   "outputs": [],
   "source": [
    "import torch\n",
    "import pandas as pd\n",
    "import time\n",
    "from torch.utils.data import Dataset, TensorDataset\n",
    "from transformers import BertTokenizer\n",
    "from torch.nn.utils.rnn import pad_sequence\n",
    "\n",
    "import torch.nn as nn\n",
    "from transformers import BertTokenizer,BertModel\n",
    "from transformers import BertForSequenceClassification\n",
    "\n",
    "from captum.attr import visualization as viz\n",
    "from captum.attr import LayerConductance, LayerIntegratedGradients\n"
   ]
  },
  {
   "cell_type": "code",
   "execution_count": 2,
   "id": "33543e4a",
   "metadata": {
    "scrolled": true
   },
   "outputs": [
    {
     "name": "stdout",
     "output_type": "stream",
     "text": [
      "4.39.3\n"
     ]
    }
   ],
   "source": [
    "import transformers\n",
    "print(transformers.__version__)"
   ]
  },
  {
   "cell_type": "code",
   "execution_count": 3,
   "id": "a20914ee",
   "metadata": {},
   "outputs": [],
   "source": [
    "device = torch.device(\"cuda:0\" if torch.cuda.is_available() else \"cpu\")"
   ]
  },
  {
   "cell_type": "code",
   "execution_count": null,
   "id": "bb44ad63",
   "metadata": {},
   "outputs": [],
   "source": []
  },
  {
   "cell_type": "code",
   "execution_count": 4,
   "id": "27343058",
   "metadata": {},
   "outputs": [
    {
     "name": "stderr",
     "output_type": "stream",
     "text": [
      "Some weights of BertForSequenceClassification were not initialized from the model checkpoint at D:/LTX/models--bert-base-uncased and are newly initialized: ['classifier.bias', 'classifier.weight']\n",
      "You should probably TRAIN this model on a down-stream task to be able to use it for predictions and inference.\n"
     ]
    },
    {
     "name": "stdout",
     "output_type": "stream",
     "text": [
      "10948.3778\n"
     ]
    }
   ],
   "source": [
    "model_path = 'D:/LTX/models--bert-base-uncased'\n",
    "\n",
    "# load model\n",
    "model = BertForSequenceClassification.from_pretrained(model_path,num_labels=2)\n",
    "model.to(device)\n",
    "model.eval()\n",
    "model.zero_grad()\n",
    "\n",
    "# load tokenizer\n",
    "tokenizer = BertTokenizer.from_pretrained(model_path)\n",
    "\n",
    "print(sum([i.nelement() for i in model.parameters()]) / 10000)"
   ]
  },
  {
   "cell_type": "code",
   "execution_count": 5,
   "id": "647f4bc8",
   "metadata": {},
   "outputs": [],
   "source": [
    "MAX_LEN = 512\n",
    "MAX_EPOCHS = 100\n",
    "BATCH_SIZE = 8\n",
    "LEARNING_RATE = 1e-5\n",
    "NUM_CLASSES = 2\n",
    "WEIGTH_DECAY = 1e-3"
   ]
  },
  {
   "cell_type": "markdown",
   "id": "3b19fa11",
   "metadata": {},
   "source": [
    "处理数据  提取出 old_code_raw old_comment_raw label 三列，并且对old_code_raw的值中的\\n去掉"
   ]
  },
  {
   "cell_type": "code",
   "execution_count": 6,
   "id": "e93688da",
   "metadata": {},
   "outputs": [],
   "source": [
    "def retrieve_train_data():\n",
    "    train_param = pd.read_json(\"D:/LTX/code_comment_inconsistency_detection/data/param/train.json\")\n",
    "    train_return = pd.read_json(\"D:/LTX/code_comment_inconsistency_detection/data/return/train.json\")\n",
    "    train_summary = pd.read_json(\"D:/LTX/code_comment_inconsistency_detection/data/summary/train.json\")\n",
    "    train_df = pd.concat([train_summary,train_param, train_return], axis=0)\n",
    "    # train_df = train_df[:8397]\n",
    "    return train_df\n",
    "def retrieve_valid_data():\n",
    "    valid_param = pd.read_json(\"D:/LTX/code_comment_inconsistency_detection/data/param/valid.json\")\n",
    "    valid_return = pd.read_json(\"D:/LTX/code_comment_inconsistency_detection/data/return/valid.json\")\n",
    "    valid_summary = pd.read_json(\"D:/LTX/code_comment_inconsistency_detection/data/summary/valid.json\")\n",
    "    valid_df = pd.concat([valid_summary,valid_param, valid_return ], axis=0)\n",
    "    # valid_df = valid_df[:800]\n",
    "    return valid_df"
   ]
  },
  {
   "cell_type": "code",
   "execution_count": 7,
   "id": "88eeffc7",
   "metadata": {},
   "outputs": [
    {
     "data": {
      "text/html": [
       "<div>\n",
       "<style scoped>\n",
       "    .dataframe tbody tr th:only-of-type {\n",
       "        vertical-align: middle;\n",
       "    }\n",
       "\n",
       "    .dataframe tbody tr th {\n",
       "        vertical-align: top;\n",
       "    }\n",
       "\n",
       "    .dataframe thead th {\n",
       "        text-align: right;\n",
       "    }\n",
       "</style>\n",
       "<table border=\"1\" class=\"dataframe\">\n",
       "  <thead>\n",
       "    <tr style=\"text-align: right;\">\n",
       "      <th></th>\n",
       "      <th>id</th>\n",
       "      <th>label</th>\n",
       "      <th>comment_type</th>\n",
       "      <th>old_comment_raw</th>\n",
       "      <th>old_comment_subtokens</th>\n",
       "      <th>new_comment_raw</th>\n",
       "      <th>new_comment_subtokens</th>\n",
       "      <th>span_minimal_diff_comment_subtokens</th>\n",
       "      <th>old_code_raw</th>\n",
       "      <th>old_code_subtokens</th>\n",
       "      <th>new_code_raw</th>\n",
       "      <th>new_code_subtokens</th>\n",
       "      <th>span_diff_code_subtokens</th>\n",
       "      <th>token_diff_code_subtokens</th>\n",
       "    </tr>\n",
       "  </thead>\n",
       "  <tbody>\n",
       "    <tr>\n",
       "      <th>0</th>\n",
       "      <td>grails-plugins_grails-plugin-converters-5-Asso...</td>\n",
       "      <td>1</td>\n",
       "      <td>Summary</td>\n",
       "      <td>Parses the given JSON and returns ether a JSON...</td>\n",
       "      <td>[parses, the, given, json, and, returns, ether...</td>\n",
       "      <td>Parses the given JSON and returns either a JSO...</td>\n",
       "      <td>[parses, the, given, json, and, returns, eithe...</td>\n",
       "      <td>[&lt;REPLACE_OLD&gt;, ether, &lt;REPLACE_NEW&gt;, either, ...</td>\n",
       "      <td>public static JSONElement parse(InputStrea...</td>\n",
       "      <td>[public, static, jsonelement, parse, (, input,...</td>\n",
       "      <td>public static JSONElement parse(InputStrea...</td>\n",
       "      <td>[public, static, jsonelement, parse, (, input,...</td>\n",
       "      <td>[&lt;KEEP&gt;, public, static, jsonelement, parse, (...</td>\n",
       "      <td>[&lt;KEEP&gt;, public, &lt;KEEP&gt;, static, &lt;KEEP&gt;, jsone...</td>\n",
       "    </tr>\n",
       "    <tr>\n",
       "      <th>1</th>\n",
       "      <td>jitsi_jitsi-4343-FirstSentence-0</td>\n",
       "      <td>0</td>\n",
       "      <td>Summary</td>\n",
       "      <td>Loads an image from a given image identifier.</td>\n",
       "      <td>[loads, an, image, from, a, given, image, iden...</td>\n",
       "      <td>Loads an image from a given image identifier.</td>\n",
       "      <td>[loads, an, image, from, a, given, image, iden...</td>\n",
       "      <td>[]</td>\n",
       "      <td>public static byte[] getImageInBytes(Strin...</td>\n",
       "      <td>[public, static, byte, [, ], get, image, in, b...</td>\n",
       "      <td>public static byte[] getImageInBytes(Strin...</td>\n",
       "      <td>[public, static, byte, [, ], get, image, in, b...</td>\n",
       "      <td>[&lt;KEEP&gt;, public, static, byte, [, ], get, imag...</td>\n",
       "      <td>[&lt;KEEP&gt;, public, &lt;KEEP&gt;, static, &lt;KEEP&gt;, byte,...</td>\n",
       "    </tr>\n",
       "    <tr>\n",
       "      <th>2</th>\n",
       "      <td>dropwizard_metrics-26-Associations-FirstSentence</td>\n",
       "      <td>1</td>\n",
       "      <td>Summary</td>\n",
       "      <td>Creates a new  CounterMetric and registers it ...</td>\n",
       "      <td>[creates, a, new, counter, metric, and, regist...</td>\n",
       "      <td>Creates a new  com.yammer.metrics.core.Counter...</td>\n",
       "      <td>[creates, a, new, com, ., yammer, ., metrics, ...</td>\n",
       "      <td>[&lt;INSERT_OLD_KEEP_BEFORE&gt;, new, &lt;INSERT_NEW_KE...</td>\n",
       "      <td>public static CounterMetric newCounter(Cla...</td>\n",
       "      <td>[public, static, counter, metric, new, counter...</td>\n",
       "      <td>public static Counter newCounter(Class&lt;?&gt; ...</td>\n",
       "      <td>[public, static, counter, new, counter, (, cla...</td>\n",
       "      <td>[&lt;KEEP&gt;, public, static, counter, &lt;KEEP_END&gt;, ...</td>\n",
       "      <td>[&lt;KEEP&gt;, public, &lt;KEEP&gt;, static, &lt;KEEP&gt;, count...</td>\n",
       "    </tr>\n",
       "    <tr>\n",
       "      <th>3</th>\n",
       "      <td>google_ExoPlayer-92-FirstSentence-0</td>\n",
       "      <td>0</td>\n",
       "      <td>Summary</td>\n",
       "      <td>Derives a sample format corresponding to a giv...</td>\n",
       "      <td>[derives, a, sample, format, corresponding, to...</td>\n",
       "      <td>Derives a sample format corresponding to a giv...</td>\n",
       "      <td>[derives, a, sample, format, corresponding, to...</td>\n",
       "      <td>[]</td>\n",
       "      <td>private static Format getSampleFormat(Format...</td>\n",
       "      <td>[private, static, format, get, sample, format,...</td>\n",
       "      <td>private static Format getSampleFormat(Format...</td>\n",
       "      <td>[private, static, format, get, sample, format,...</td>\n",
       "      <td>[&lt;KEEP&gt;, private, static, format, get, sample,...</td>\n",
       "      <td>[&lt;KEEP&gt;, private, &lt;KEEP&gt;, static, &lt;KEEP&gt;, form...</td>\n",
       "    </tr>\n",
       "    <tr>\n",
       "      <th>4</th>\n",
       "      <td>slachiewicz_orekit-main-661-Associations-First...</td>\n",
       "      <td>1</td>\n",
       "      <td>Summary</td>\n",
       "      <td>Revert a rotation/rotation rate pair.</td>\n",
       "      <td>[revert, a, rotation, /, rotation, rate, pair, .]</td>\n",
       "      <td>Revert a rotation/rotation rate/ rotation acce...</td>\n",
       "      <td>[revert, a, rotation, /, rotation, rate, /, ro...</td>\n",
       "      <td>[&lt;REPLACE_OLD&gt;, pair, &lt;REPLACE_NEW&gt;, /, rotati...</td>\n",
       "      <td>public AngularCoordinates revert() {\\n    ...</td>\n",
       "      <td>[public, angular, coordinates, revert, (, ), {...</td>\n",
       "      <td>public AngularCoordinates revert() {\\n    ...</td>\n",
       "      <td>[public, angular, coordinates, revert, (, ), {...</td>\n",
       "      <td>[&lt;KEEP&gt;, public, angular, coordinates, revert,...</td>\n",
       "      <td>[&lt;KEEP&gt;, public, &lt;KEEP&gt;, angular, &lt;KEEP&gt;, coor...</td>\n",
       "    </tr>\n",
       "  </tbody>\n",
       "</table>\n",
       "</div>"
      ],
      "text/plain": [
       "                                                  id  label comment_type  \\\n",
       "0  grails-plugins_grails-plugin-converters-5-Asso...      1      Summary   \n",
       "1                   jitsi_jitsi-4343-FirstSentence-0      0      Summary   \n",
       "2   dropwizard_metrics-26-Associations-FirstSentence      1      Summary   \n",
       "3                google_ExoPlayer-92-FirstSentence-0      0      Summary   \n",
       "4  slachiewicz_orekit-main-661-Associations-First...      1      Summary   \n",
       "\n",
       "                                     old_comment_raw  \\\n",
       "0  Parses the given JSON and returns ether a JSON...   \n",
       "1      Loads an image from a given image identifier.   \n",
       "2  Creates a new  CounterMetric and registers it ...   \n",
       "3  Derives a sample format corresponding to a giv...   \n",
       "4              Revert a rotation/rotation rate pair.   \n",
       "\n",
       "                               old_comment_subtokens  \\\n",
       "0  [parses, the, given, json, and, returns, ether...   \n",
       "1  [loads, an, image, from, a, given, image, iden...   \n",
       "2  [creates, a, new, counter, metric, and, regist...   \n",
       "3  [derives, a, sample, format, corresponding, to...   \n",
       "4  [revert, a, rotation, /, rotation, rate, pair, .]   \n",
       "\n",
       "                                     new_comment_raw  \\\n",
       "0  Parses the given JSON and returns either a JSO...   \n",
       "1      Loads an image from a given image identifier.   \n",
       "2  Creates a new  com.yammer.metrics.core.Counter...   \n",
       "3  Derives a sample format corresponding to a giv...   \n",
       "4  Revert a rotation/rotation rate/ rotation acce...   \n",
       "\n",
       "                               new_comment_subtokens  \\\n",
       "0  [parses, the, given, json, and, returns, eithe...   \n",
       "1  [loads, an, image, from, a, given, image, iden...   \n",
       "2  [creates, a, new, com, ., yammer, ., metrics, ...   \n",
       "3  [derives, a, sample, format, corresponding, to...   \n",
       "4  [revert, a, rotation, /, rotation, rate, /, ro...   \n",
       "\n",
       "                 span_minimal_diff_comment_subtokens  \\\n",
       "0  [<REPLACE_OLD>, ether, <REPLACE_NEW>, either, ...   \n",
       "1                                                 []   \n",
       "2  [<INSERT_OLD_KEEP_BEFORE>, new, <INSERT_NEW_KE...   \n",
       "3                                                 []   \n",
       "4  [<REPLACE_OLD>, pair, <REPLACE_NEW>, /, rotati...   \n",
       "\n",
       "                                        old_code_raw  \\\n",
       "0      public static JSONElement parse(InputStrea...   \n",
       "1      public static byte[] getImageInBytes(Strin...   \n",
       "2      public static CounterMetric newCounter(Cla...   \n",
       "3    private static Format getSampleFormat(Format...   \n",
       "4      public AngularCoordinates revert() {\\n    ...   \n",
       "\n",
       "                                  old_code_subtokens  \\\n",
       "0  [public, static, jsonelement, parse, (, input,...   \n",
       "1  [public, static, byte, [, ], get, image, in, b...   \n",
       "2  [public, static, counter, metric, new, counter...   \n",
       "3  [private, static, format, get, sample, format,...   \n",
       "4  [public, angular, coordinates, revert, (, ), {...   \n",
       "\n",
       "                                        new_code_raw  \\\n",
       "0      public static JSONElement parse(InputStrea...   \n",
       "1      public static byte[] getImageInBytes(Strin...   \n",
       "2      public static Counter newCounter(Class<?> ...   \n",
       "3    private static Format getSampleFormat(Format...   \n",
       "4      public AngularCoordinates revert() {\\n    ...   \n",
       "\n",
       "                                  new_code_subtokens  \\\n",
       "0  [public, static, jsonelement, parse, (, input,...   \n",
       "1  [public, static, byte, [, ], get, image, in, b...   \n",
       "2  [public, static, counter, new, counter, (, cla...   \n",
       "3  [private, static, format, get, sample, format,...   \n",
       "4  [public, angular, coordinates, revert, (, ), {...   \n",
       "\n",
       "                            span_diff_code_subtokens  \\\n",
       "0  [<KEEP>, public, static, jsonelement, parse, (...   \n",
       "1  [<KEEP>, public, static, byte, [, ], get, imag...   \n",
       "2  [<KEEP>, public, static, counter, <KEEP_END>, ...   \n",
       "3  [<KEEP>, private, static, format, get, sample,...   \n",
       "4  [<KEEP>, public, angular, coordinates, revert,...   \n",
       "\n",
       "                           token_diff_code_subtokens  \n",
       "0  [<KEEP>, public, <KEEP>, static, <KEEP>, jsone...  \n",
       "1  [<KEEP>, public, <KEEP>, static, <KEEP>, byte,...  \n",
       "2  [<KEEP>, public, <KEEP>, static, <KEEP>, count...  \n",
       "3  [<KEEP>, private, <KEEP>, static, <KEEP>, form...  \n",
       "4  [<KEEP>, public, <KEEP>, angular, <KEEP>, coor...  "
      ]
     },
     "execution_count": 7,
     "metadata": {},
     "output_type": "execute_result"
    }
   ],
   "source": [
    "train_df = retrieve_train_data()\n",
    "valid_df = retrieve_valid_data()\n",
    "\n",
    "train_df.head()"
   ]
  },
  {
   "cell_type": "code",
   "execution_count": 8,
   "id": "72db5ace",
   "metadata": {
    "scrolled": true
   },
   "outputs": [
    {
     "data": {
      "text/html": [
       "<div>\n",
       "<style scoped>\n",
       "    .dataframe tbody tr th:only-of-type {\n",
       "        vertical-align: middle;\n",
       "    }\n",
       "\n",
       "    .dataframe tbody tr th {\n",
       "        vertical-align: top;\n",
       "    }\n",
       "\n",
       "    .dataframe thead th {\n",
       "        text-align: right;\n",
       "    }\n",
       "</style>\n",
       "<table border=\"1\" class=\"dataframe\">\n",
       "  <thead>\n",
       "    <tr style=\"text-align: right;\">\n",
       "      <th></th>\n",
       "      <th>id</th>\n",
       "      <th>label</th>\n",
       "      <th>comment_type</th>\n",
       "      <th>old_comment_raw</th>\n",
       "      <th>old_comment_subtokens</th>\n",
       "      <th>new_comment_raw</th>\n",
       "      <th>new_comment_subtokens</th>\n",
       "      <th>span_minimal_diff_comment_subtokens</th>\n",
       "      <th>old_code_raw</th>\n",
       "      <th>old_code_subtokens</th>\n",
       "      <th>new_code_raw</th>\n",
       "      <th>new_code_subtokens</th>\n",
       "      <th>span_diff_code_subtokens</th>\n",
       "      <th>token_diff_code_subtokens</th>\n",
       "    </tr>\n",
       "  </thead>\n",
       "  <tbody>\n",
       "    <tr>\n",
       "      <th>0</th>\n",
       "      <td>todoroo_astrid-987-FirstSentence-0</td>\n",
       "      <td>1</td>\n",
       "      <td>Summary</td>\n",
       "      <td>Return SQL selector query for getting tasks wi...</td>\n",
       "      <td>[return, sql, selector, query, for, getting, t...</td>\n",
       "      <td>Return SQL selector query for getting tasks wi...</td>\n",
       "      <td>[return, sql, selector, query, for, getting, t...</td>\n",
       "      <td>[&lt;INSERT_OLD_KEEP_BEFORE&gt;, tag, &lt;INSERT_NEW_KE...</td>\n",
       "      <td>public QueryTemplate queryTemplate(Cri...</td>\n",
       "      <td>[public, query, template, query, template, (, ...</td>\n",
       "      <td>public static QueryTemplate queryTempl...</td>\n",
       "      <td>[public, static, query, template, query, templ...</td>\n",
       "      <td>[&lt;KEEP&gt;, public, &lt;KEEP_END&gt;, &lt;INSERT&gt;, static,...</td>\n",
       "      <td>[&lt;KEEP&gt;, public, &lt;INSERT&gt;, static, &lt;KEEP&gt;, que...</td>\n",
       "    </tr>\n",
       "    <tr>\n",
       "      <th>1</th>\n",
       "      <td>Red5_red5_server-43-FirstSentence-0</td>\n",
       "      <td>0</td>\n",
       "      <td>Summary</td>\n",
       "      <td>Return period of ghost connections cleanup tas...</td>\n",
       "      <td>[return, period, of, ghost, connections, clean...</td>\n",
       "      <td>Return period of ghost connections cleanup tas...</td>\n",
       "      <td>[return, period, of, ghost, connections, clean...</td>\n",
       "      <td>[]</td>\n",
       "      <td>public int getGhostConnsCleanupPeriod() {\\...</td>\n",
       "      <td>[public, int, get, ghost, conns, cleanup, peri...</td>\n",
       "      <td>public int getGhostConnsCleanupPeriod() {\\...</td>\n",
       "      <td>[public, int, get, ghost, conns, cleanup, peri...</td>\n",
       "      <td>[&lt;KEEP&gt;, public, int, get, ghost, conns, clean...</td>\n",
       "      <td>[&lt;KEEP&gt;, public, &lt;KEEP&gt;, int, &lt;KEEP&gt;, get, &lt;KE...</td>\n",
       "    </tr>\n",
       "    <tr>\n",
       "      <th>2</th>\n",
       "      <td>nickman_Rindle-11-Associations-FirstSentence</td>\n",
       "      <td>1</td>\n",
       "      <td>Summary</td>\n",
       "      <td>Allocates an initialized and initially unlocke...</td>\n",
       "      <td>[allocates, an, initialized, and, initially, u...</td>\n",
       "      <td>Allocates an initialized and initially unlocke...</td>\n",
       "      <td>[allocates, an, initialized, and, initially, u...</td>\n",
       "      <td>[&lt;INSERT_OLD_KEEP_BEFORE&gt;, unlocked, &lt;INSERT_N...</td>\n",
       "      <td>\\tpublic static long allocateSpinLock() {\\r\\n\\...</td>\n",
       "      <td>[public, static, long, allocate, spin, lock, (...</td>\n",
       "      <td>\\tpublic static SpinLock allocateSpinLock() {\\...</td>\n",
       "      <td>[public, static, spin, lock, allocate, spin, l...</td>\n",
       "      <td>[&lt;KEEP&gt;, public, static, &lt;KEEP_END&gt;, &lt;REPLACE_...</td>\n",
       "      <td>[&lt;KEEP&gt;, public, &lt;KEEP&gt;, static, &lt;REPLACE_OLD&gt;...</td>\n",
       "    </tr>\n",
       "    <tr>\n",
       "      <th>3</th>\n",
       "      <td>h2oai_h2o_2-427-FirstSentence-0</td>\n",
       "      <td>0</td>\n",
       "      <td>Summary</td>\n",
       "      <td>Rebalance a frame for load balancing</td>\n",
       "      <td>[rebalance, a, frame, for, load, balancing]</td>\n",
       "      <td>Rebalance a frame for load balancing</td>\n",
       "      <td>[rebalance, a, frame, for, load, balancing]</td>\n",
       "      <td>[]</td>\n",
       "      <td>private Frame reBalance(final Frame fr, bool...</td>\n",
       "      <td>[private, frame, re, balance, (, final, frame,...</td>\n",
       "      <td>private static Frame reBalance(final Frame f...</td>\n",
       "      <td>[private, static, frame, re, balance, (, final...</td>\n",
       "      <td>[&lt;KEEP&gt;, private, &lt;KEEP_END&gt;, &lt;INSERT&gt;, static...</td>\n",
       "      <td>[&lt;KEEP&gt;, private, &lt;INSERT&gt;, static, &lt;KEEP&gt;, fr...</td>\n",
       "    </tr>\n",
       "    <tr>\n",
       "      <th>4</th>\n",
       "      <td>sonatype_sonatype-aether-11-Associations-First...</td>\n",
       "      <td>1</td>\n",
       "      <td>Summary</td>\n",
       "      <td>Sets the host of this proxy.</td>\n",
       "      <td>[sets, the, host, of, this, proxy, .]</td>\n",
       "      <td>Sets the host of the proxy.</td>\n",
       "      <td>[sets, the, host, of, the, proxy, .]</td>\n",
       "      <td>[&lt;REPLACE_OLD&gt;, this, &lt;REPLACE_NEW&gt;, the, &lt;REP...</td>\n",
       "      <td>public Proxy setHost( String host )\\n    {...</td>\n",
       "      <td>[public, proxy, set, host, (, string, host, ),...</td>\n",
       "      <td>public Proxy setHost( String host )\\n    {...</td>\n",
       "      <td>[public, proxy, set, host, (, string, host, ),...</td>\n",
       "      <td>[&lt;KEEP&gt;, public, proxy, set, host, (, string, ...</td>\n",
       "      <td>[&lt;KEEP&gt;, public, &lt;KEEP&gt;, proxy, &lt;KEEP&gt;, set, &lt;...</td>\n",
       "    </tr>\n",
       "  </tbody>\n",
       "</table>\n",
       "</div>"
      ],
      "text/plain": [
       "                                                  id  label comment_type  \\\n",
       "0                 todoroo_astrid-987-FirstSentence-0      1      Summary   \n",
       "1                Red5_red5_server-43-FirstSentence-0      0      Summary   \n",
       "2       nickman_Rindle-11-Associations-FirstSentence      1      Summary   \n",
       "3                    h2oai_h2o_2-427-FirstSentence-0      0      Summary   \n",
       "4  sonatype_sonatype-aether-11-Associations-First...      1      Summary   \n",
       "\n",
       "                                     old_comment_raw  \\\n",
       "0  Return SQL selector query for getting tasks wi...   \n",
       "1  Return period of ghost connections cleanup tas...   \n",
       "2  Allocates an initialized and initially unlocke...   \n",
       "3               Rebalance a frame for load balancing   \n",
       "4                       Sets the host of this proxy.   \n",
       "\n",
       "                               old_comment_subtokens  \\\n",
       "0  [return, sql, selector, query, for, getting, t...   \n",
       "1  [return, period, of, ghost, connections, clean...   \n",
       "2  [allocates, an, initialized, and, initially, u...   \n",
       "3        [rebalance, a, frame, for, load, balancing]   \n",
       "4              [sets, the, host, of, this, proxy, .]   \n",
       "\n",
       "                                     new_comment_raw  \\\n",
       "0  Return SQL selector query for getting tasks wi...   \n",
       "1  Return period of ghost connections cleanup tas...   \n",
       "2  Allocates an initialized and initially unlocke...   \n",
       "3               Rebalance a frame for load balancing   \n",
       "4                        Sets the host of the proxy.   \n",
       "\n",
       "                               new_comment_subtokens  \\\n",
       "0  [return, sql, selector, query, for, getting, t...   \n",
       "1  [return, period, of, ghost, connections, clean...   \n",
       "2  [allocates, an, initialized, and, initially, u...   \n",
       "3        [rebalance, a, frame, for, load, balancing]   \n",
       "4               [sets, the, host, of, the, proxy, .]   \n",
       "\n",
       "                 span_minimal_diff_comment_subtokens  \\\n",
       "0  [<INSERT_OLD_KEEP_BEFORE>, tag, <INSERT_NEW_KE...   \n",
       "1                                                 []   \n",
       "2  [<INSERT_OLD_KEEP_BEFORE>, unlocked, <INSERT_N...   \n",
       "3                                                 []   \n",
       "4  [<REPLACE_OLD>, this, <REPLACE_NEW>, the, <REP...   \n",
       "\n",
       "                                        old_code_raw  \\\n",
       "0          public QueryTemplate queryTemplate(Cri...   \n",
       "1      public int getGhostConnsCleanupPeriod() {\\...   \n",
       "2  \\tpublic static long allocateSpinLock() {\\r\\n\\...   \n",
       "3    private Frame reBalance(final Frame fr, bool...   \n",
       "4      public Proxy setHost( String host )\\n    {...   \n",
       "\n",
       "                                  old_code_subtokens  \\\n",
       "0  [public, query, template, query, template, (, ...   \n",
       "1  [public, int, get, ghost, conns, cleanup, peri...   \n",
       "2  [public, static, long, allocate, spin, lock, (...   \n",
       "3  [private, frame, re, balance, (, final, frame,...   \n",
       "4  [public, proxy, set, host, (, string, host, ),...   \n",
       "\n",
       "                                        new_code_raw  \\\n",
       "0          public static QueryTemplate queryTempl...   \n",
       "1      public int getGhostConnsCleanupPeriod() {\\...   \n",
       "2  \\tpublic static SpinLock allocateSpinLock() {\\...   \n",
       "3    private static Frame reBalance(final Frame f...   \n",
       "4      public Proxy setHost( String host )\\n    {...   \n",
       "\n",
       "                                  new_code_subtokens  \\\n",
       "0  [public, static, query, template, query, templ...   \n",
       "1  [public, int, get, ghost, conns, cleanup, peri...   \n",
       "2  [public, static, spin, lock, allocate, spin, l...   \n",
       "3  [private, static, frame, re, balance, (, final...   \n",
       "4  [public, proxy, set, host, (, string, host, ),...   \n",
       "\n",
       "                            span_diff_code_subtokens  \\\n",
       "0  [<KEEP>, public, <KEEP_END>, <INSERT>, static,...   \n",
       "1  [<KEEP>, public, int, get, ghost, conns, clean...   \n",
       "2  [<KEEP>, public, static, <KEEP_END>, <REPLACE_...   \n",
       "3  [<KEEP>, private, <KEEP_END>, <INSERT>, static...   \n",
       "4  [<KEEP>, public, proxy, set, host, (, string, ...   \n",
       "\n",
       "                           token_diff_code_subtokens  \n",
       "0  [<KEEP>, public, <INSERT>, static, <KEEP>, que...  \n",
       "1  [<KEEP>, public, <KEEP>, int, <KEEP>, get, <KE...  \n",
       "2  [<KEEP>, public, <KEEP>, static, <REPLACE_OLD>...  \n",
       "3  [<KEEP>, private, <INSERT>, static, <KEEP>, fr...  \n",
       "4  [<KEEP>, public, <KEEP>, proxy, <KEEP>, set, <...  "
      ]
     },
     "execution_count": 8,
     "metadata": {},
     "output_type": "execute_result"
    }
   ],
   "source": [
    "valid_df.head()"
   ]
  },
  {
   "cell_type": "code",
   "execution_count": 9,
   "id": "ead3d787",
   "metadata": {},
   "outputs": [
    {
     "data": {
      "text/plain": [
       "(541.0441978901418, 58.97784042682188)"
      ]
     },
     "execution_count": 9,
     "metadata": {},
     "output_type": "execute_result"
    }
   ],
   "source": [
    "old_code_raw = train_df['new_code_raw']\n",
    "old_code_raw = old_code_raw.values\n",
    "old_code_raw = [str(ele) for ele in old_code_raw]\n",
    "       \n",
    "multi_line_old_code = []\n",
    "for i in range(len(old_code_raw)):\n",
    "    multi_line_test = old_code_raw[i].replace('\\n', ' ')   # 去掉\\n\n",
    "    multi_line_test = ' '.join(multi_line_test.split())    # 把多余空格变成一个空格\n",
    "    multi_line_old_code.append(multi_line_test)\n",
    "\n",
    "# 计算平均长度  代码的平均长度为去掉空格和\\n的平均长度  \n",
    "total_length = sum(len(s) for s in multi_line_old_code)\n",
    "mean_length_code = total_length / len(multi_line_old_code)\n",
    "mean_length_comment = train_df['old_comment_raw'].str.len().mean()\n",
    "\n",
    "mean_length_code,mean_length_comment"
   ]
  },
  {
   "cell_type": "code",
   "execution_count": null,
   "id": "651fdca9",
   "metadata": {},
   "outputs": [],
   "source": []
  },
  {
   "cell_type": "code",
   "execution_count": 10,
   "id": "b946d504",
   "metadata": {},
   "outputs": [],
   "source": [
    "def format_data(df):\n",
    "    old_code_raw = df['new_code_raw']\n",
    "    old_code_raw = old_code_raw.values\n",
    "    old_code_raw = [str(ele) for ele in old_code_raw]\n",
    "       \n",
    "    multi_line_old_code = []\n",
    "    for i in range(len(old_code_raw)):\n",
    "        multi_line_test = old_code_raw[i].replace('\\n', ' ')   # 去掉\\n\n",
    "        multi_line_test = ' '.join(multi_line_test.split())    # 把多余空格变成一个空格\n",
    "        multi_line_old_code.append(multi_line_test) \n",
    "     \n",
    "    old_comment_raw = df['old_comment_raw']\n",
    "    old_comment_raw = old_comment_raw.values\n",
    "    old_comment_raw = [str(ele) for ele in old_comment_raw]\n",
    "    multi_line_old_comment = []\n",
    "    for i in range(len(old_comment_raw)):\n",
    "        multi_line_test = ' '.join(old_comment_raw[i].split())    # 把多余空格变成一个空格\n",
    "        multi_line_old_comment.append(multi_line_test)  \n",
    "    \n",
    "    df['new_code_raw'] = multi_line_old_code\n",
    "    df['old_comment_raw'] = multi_line_old_comment\n",
    "    \n",
    "    return df"
   ]
  },
  {
   "cell_type": "code",
   "execution_count": 11,
   "id": "67d83632",
   "metadata": {
    "scrolled": true
   },
   "outputs": [
    {
     "data": {
      "text/html": [
       "<div>\n",
       "<style scoped>\n",
       "    .dataframe tbody tr th:only-of-type {\n",
       "        vertical-align: middle;\n",
       "    }\n",
       "\n",
       "    .dataframe tbody tr th {\n",
       "        vertical-align: top;\n",
       "    }\n",
       "\n",
       "    .dataframe thead th {\n",
       "        text-align: right;\n",
       "    }\n",
       "</style>\n",
       "<table border=\"1\" class=\"dataframe\">\n",
       "  <thead>\n",
       "    <tr style=\"text-align: right;\">\n",
       "      <th></th>\n",
       "      <th>id</th>\n",
       "      <th>label</th>\n",
       "      <th>comment_type</th>\n",
       "      <th>old_comment_raw</th>\n",
       "      <th>old_comment_subtokens</th>\n",
       "      <th>new_comment_raw</th>\n",
       "      <th>new_comment_subtokens</th>\n",
       "      <th>span_minimal_diff_comment_subtokens</th>\n",
       "      <th>old_code_raw</th>\n",
       "      <th>old_code_subtokens</th>\n",
       "      <th>new_code_raw</th>\n",
       "      <th>new_code_subtokens</th>\n",
       "      <th>span_diff_code_subtokens</th>\n",
       "      <th>token_diff_code_subtokens</th>\n",
       "    </tr>\n",
       "  </thead>\n",
       "  <tbody>\n",
       "    <tr>\n",
       "      <th>0</th>\n",
       "      <td>grails-plugins_grails-plugin-converters-5-Asso...</td>\n",
       "      <td>1</td>\n",
       "      <td>Summary</td>\n",
       "      <td>Parses the given JSON and returns ether a JSON...</td>\n",
       "      <td>[parses, the, given, json, and, returns, ether...</td>\n",
       "      <td>Parses the given JSON and returns either a JSO...</td>\n",
       "      <td>[parses, the, given, json, and, returns, eithe...</td>\n",
       "      <td>[&lt;REPLACE_OLD&gt;, ether, &lt;REPLACE_NEW&gt;, either, ...</td>\n",
       "      <td>public static JSONElement parse(InputStrea...</td>\n",
       "      <td>[public, static, jsonelement, parse, (, input,...</td>\n",
       "      <td>public static JSONElement parse(InputStream is...</td>\n",
       "      <td>[public, static, jsonelement, parse, (, input,...</td>\n",
       "      <td>[&lt;KEEP&gt;, public, static, jsonelement, parse, (...</td>\n",
       "      <td>[&lt;KEEP&gt;, public, &lt;KEEP&gt;, static, &lt;KEEP&gt;, jsone...</td>\n",
       "    </tr>\n",
       "    <tr>\n",
       "      <th>1</th>\n",
       "      <td>jitsi_jitsi-4343-FirstSentence-0</td>\n",
       "      <td>0</td>\n",
       "      <td>Summary</td>\n",
       "      <td>Loads an image from a given image identifier.</td>\n",
       "      <td>[loads, an, image, from, a, given, image, iden...</td>\n",
       "      <td>Loads an image from a given image identifier.</td>\n",
       "      <td>[loads, an, image, from, a, given, image, iden...</td>\n",
       "      <td>[]</td>\n",
       "      <td>public static byte[] getImageInBytes(Strin...</td>\n",
       "      <td>[public, static, byte, [, ], get, image, in, b...</td>\n",
       "      <td>public static byte[] getImageInBytes(String im...</td>\n",
       "      <td>[public, static, byte, [, ], get, image, in, b...</td>\n",
       "      <td>[&lt;KEEP&gt;, public, static, byte, [, ], get, imag...</td>\n",
       "      <td>[&lt;KEEP&gt;, public, &lt;KEEP&gt;, static, &lt;KEEP&gt;, byte,...</td>\n",
       "    </tr>\n",
       "    <tr>\n",
       "      <th>2</th>\n",
       "      <td>dropwizard_metrics-26-Associations-FirstSentence</td>\n",
       "      <td>1</td>\n",
       "      <td>Summary</td>\n",
       "      <td>Creates a new CounterMetric and registers it u...</td>\n",
       "      <td>[creates, a, new, counter, metric, and, regist...</td>\n",
       "      <td>Creates a new  com.yammer.metrics.core.Counter...</td>\n",
       "      <td>[creates, a, new, com, ., yammer, ., metrics, ...</td>\n",
       "      <td>[&lt;INSERT_OLD_KEEP_BEFORE&gt;, new, &lt;INSERT_NEW_KE...</td>\n",
       "      <td>public static CounterMetric newCounter(Cla...</td>\n",
       "      <td>[public, static, counter, metric, new, counter...</td>\n",
       "      <td>public static Counter newCounter(Class&lt;?&gt; klas...</td>\n",
       "      <td>[public, static, counter, new, counter, (, cla...</td>\n",
       "      <td>[&lt;KEEP&gt;, public, static, counter, &lt;KEEP_END&gt;, ...</td>\n",
       "      <td>[&lt;KEEP&gt;, public, &lt;KEEP&gt;, static, &lt;KEEP&gt;, count...</td>\n",
       "    </tr>\n",
       "    <tr>\n",
       "      <th>3</th>\n",
       "      <td>google_ExoPlayer-92-FirstSentence-0</td>\n",
       "      <td>0</td>\n",
       "      <td>Summary</td>\n",
       "      <td>Derives a sample format corresponding to a giv...</td>\n",
       "      <td>[derives, a, sample, format, corresponding, to...</td>\n",
       "      <td>Derives a sample format corresponding to a giv...</td>\n",
       "      <td>[derives, a, sample, format, corresponding, to...</td>\n",
       "      <td>[]</td>\n",
       "      <td>private static Format getSampleFormat(Format...</td>\n",
       "      <td>[private, static, format, get, sample, format,...</td>\n",
       "      <td>private static Format getSampleFormat(Format c...</td>\n",
       "      <td>[private, static, format, get, sample, format,...</td>\n",
       "      <td>[&lt;KEEP&gt;, private, static, format, get, sample,...</td>\n",
       "      <td>[&lt;KEEP&gt;, private, &lt;KEEP&gt;, static, &lt;KEEP&gt;, form...</td>\n",
       "    </tr>\n",
       "    <tr>\n",
       "      <th>4</th>\n",
       "      <td>slachiewicz_orekit-main-661-Associations-First...</td>\n",
       "      <td>1</td>\n",
       "      <td>Summary</td>\n",
       "      <td>Revert a rotation/rotation rate pair.</td>\n",
       "      <td>[revert, a, rotation, /, rotation, rate, pair, .]</td>\n",
       "      <td>Revert a rotation/rotation rate/ rotation acce...</td>\n",
       "      <td>[revert, a, rotation, /, rotation, rate, /, ro...</td>\n",
       "      <td>[&lt;REPLACE_OLD&gt;, pair, &lt;REPLACE_NEW&gt;, /, rotati...</td>\n",
       "      <td>public AngularCoordinates revert() {\\n    ...</td>\n",
       "      <td>[public, angular, coordinates, revert, (, ), {...</td>\n",
       "      <td>public AngularCoordinates revert() { return ne...</td>\n",
       "      <td>[public, angular, coordinates, revert, (, ), {...</td>\n",
       "      <td>[&lt;KEEP&gt;, public, angular, coordinates, revert,...</td>\n",
       "      <td>[&lt;KEEP&gt;, public, &lt;KEEP&gt;, angular, &lt;KEEP&gt;, coor...</td>\n",
       "    </tr>\n",
       "  </tbody>\n",
       "</table>\n",
       "</div>"
      ],
      "text/plain": [
       "                                                  id  label comment_type  \\\n",
       "0  grails-plugins_grails-plugin-converters-5-Asso...      1      Summary   \n",
       "1                   jitsi_jitsi-4343-FirstSentence-0      0      Summary   \n",
       "2   dropwizard_metrics-26-Associations-FirstSentence      1      Summary   \n",
       "3                google_ExoPlayer-92-FirstSentence-0      0      Summary   \n",
       "4  slachiewicz_orekit-main-661-Associations-First...      1      Summary   \n",
       "\n",
       "                                     old_comment_raw  \\\n",
       "0  Parses the given JSON and returns ether a JSON...   \n",
       "1      Loads an image from a given image identifier.   \n",
       "2  Creates a new CounterMetric and registers it u...   \n",
       "3  Derives a sample format corresponding to a giv...   \n",
       "4              Revert a rotation/rotation rate pair.   \n",
       "\n",
       "                               old_comment_subtokens  \\\n",
       "0  [parses, the, given, json, and, returns, ether...   \n",
       "1  [loads, an, image, from, a, given, image, iden...   \n",
       "2  [creates, a, new, counter, metric, and, regist...   \n",
       "3  [derives, a, sample, format, corresponding, to...   \n",
       "4  [revert, a, rotation, /, rotation, rate, pair, .]   \n",
       "\n",
       "                                     new_comment_raw  \\\n",
       "0  Parses the given JSON and returns either a JSO...   \n",
       "1      Loads an image from a given image identifier.   \n",
       "2  Creates a new  com.yammer.metrics.core.Counter...   \n",
       "3  Derives a sample format corresponding to a giv...   \n",
       "4  Revert a rotation/rotation rate/ rotation acce...   \n",
       "\n",
       "                               new_comment_subtokens  \\\n",
       "0  [parses, the, given, json, and, returns, eithe...   \n",
       "1  [loads, an, image, from, a, given, image, iden...   \n",
       "2  [creates, a, new, com, ., yammer, ., metrics, ...   \n",
       "3  [derives, a, sample, format, corresponding, to...   \n",
       "4  [revert, a, rotation, /, rotation, rate, /, ro...   \n",
       "\n",
       "                 span_minimal_diff_comment_subtokens  \\\n",
       "0  [<REPLACE_OLD>, ether, <REPLACE_NEW>, either, ...   \n",
       "1                                                 []   \n",
       "2  [<INSERT_OLD_KEEP_BEFORE>, new, <INSERT_NEW_KE...   \n",
       "3                                                 []   \n",
       "4  [<REPLACE_OLD>, pair, <REPLACE_NEW>, /, rotati...   \n",
       "\n",
       "                                        old_code_raw  \\\n",
       "0      public static JSONElement parse(InputStrea...   \n",
       "1      public static byte[] getImageInBytes(Strin...   \n",
       "2      public static CounterMetric newCounter(Cla...   \n",
       "3    private static Format getSampleFormat(Format...   \n",
       "4      public AngularCoordinates revert() {\\n    ...   \n",
       "\n",
       "                                  old_code_subtokens  \\\n",
       "0  [public, static, jsonelement, parse, (, input,...   \n",
       "1  [public, static, byte, [, ], get, image, in, b...   \n",
       "2  [public, static, counter, metric, new, counter...   \n",
       "3  [private, static, format, get, sample, format,...   \n",
       "4  [public, angular, coordinates, revert, (, ), {...   \n",
       "\n",
       "                                        new_code_raw  \\\n",
       "0  public static JSONElement parse(InputStream is...   \n",
       "1  public static byte[] getImageInBytes(String im...   \n",
       "2  public static Counter newCounter(Class<?> klas...   \n",
       "3  private static Format getSampleFormat(Format c...   \n",
       "4  public AngularCoordinates revert() { return ne...   \n",
       "\n",
       "                                  new_code_subtokens  \\\n",
       "0  [public, static, jsonelement, parse, (, input,...   \n",
       "1  [public, static, byte, [, ], get, image, in, b...   \n",
       "2  [public, static, counter, new, counter, (, cla...   \n",
       "3  [private, static, format, get, sample, format,...   \n",
       "4  [public, angular, coordinates, revert, (, ), {...   \n",
       "\n",
       "                            span_diff_code_subtokens  \\\n",
       "0  [<KEEP>, public, static, jsonelement, parse, (...   \n",
       "1  [<KEEP>, public, static, byte, [, ], get, imag...   \n",
       "2  [<KEEP>, public, static, counter, <KEEP_END>, ...   \n",
       "3  [<KEEP>, private, static, format, get, sample,...   \n",
       "4  [<KEEP>, public, angular, coordinates, revert,...   \n",
       "\n",
       "                           token_diff_code_subtokens  \n",
       "0  [<KEEP>, public, <KEEP>, static, <KEEP>, jsone...  \n",
       "1  [<KEEP>, public, <KEEP>, static, <KEEP>, byte,...  \n",
       "2  [<KEEP>, public, <KEEP>, static, <KEEP>, count...  \n",
       "3  [<KEEP>, private, <KEEP>, static, <KEEP>, form...  \n",
       "4  [<KEEP>, public, <KEEP>, angular, <KEEP>, coor...  "
      ]
     },
     "execution_count": 11,
     "metadata": {},
     "output_type": "execute_result"
    }
   ],
   "source": [
    "train_df_clean = format_data(train_df)\n",
    "train_df_clean.head()"
   ]
  },
  {
   "cell_type": "code",
   "execution_count": 12,
   "id": "6abe2714",
   "metadata": {},
   "outputs": [
    {
     "data": {
      "text/html": [
       "<div>\n",
       "<style scoped>\n",
       "    .dataframe tbody tr th:only-of-type {\n",
       "        vertical-align: middle;\n",
       "    }\n",
       "\n",
       "    .dataframe tbody tr th {\n",
       "        vertical-align: top;\n",
       "    }\n",
       "\n",
       "    .dataframe thead th {\n",
       "        text-align: right;\n",
       "    }\n",
       "</style>\n",
       "<table border=\"1\" class=\"dataframe\">\n",
       "  <thead>\n",
       "    <tr style=\"text-align: right;\">\n",
       "      <th></th>\n",
       "      <th>id</th>\n",
       "      <th>label</th>\n",
       "      <th>comment_type</th>\n",
       "      <th>old_comment_raw</th>\n",
       "      <th>old_comment_subtokens</th>\n",
       "      <th>new_comment_raw</th>\n",
       "      <th>new_comment_subtokens</th>\n",
       "      <th>span_minimal_diff_comment_subtokens</th>\n",
       "      <th>old_code_raw</th>\n",
       "      <th>old_code_subtokens</th>\n",
       "      <th>new_code_raw</th>\n",
       "      <th>new_code_subtokens</th>\n",
       "      <th>span_diff_code_subtokens</th>\n",
       "      <th>token_diff_code_subtokens</th>\n",
       "    </tr>\n",
       "  </thead>\n",
       "  <tbody>\n",
       "    <tr>\n",
       "      <th>0</th>\n",
       "      <td>todoroo_astrid-987-FirstSentence-0</td>\n",
       "      <td>1</td>\n",
       "      <td>Summary</td>\n",
       "      <td>Return SQL selector query for getting tasks wi...</td>\n",
       "      <td>[return, sql, selector, query, for, getting, t...</td>\n",
       "      <td>Return SQL selector query for getting tasks wi...</td>\n",
       "      <td>[return, sql, selector, query, for, getting, t...</td>\n",
       "      <td>[&lt;INSERT_OLD_KEEP_BEFORE&gt;, tag, &lt;INSERT_NEW_KE...</td>\n",
       "      <td>public QueryTemplate queryTemplate(Cri...</td>\n",
       "      <td>[public, query, template, query, template, (, ...</td>\n",
       "      <td>public static QueryTemplate queryTemplate(Crit...</td>\n",
       "      <td>[public, static, query, template, query, templ...</td>\n",
       "      <td>[&lt;KEEP&gt;, public, &lt;KEEP_END&gt;, &lt;INSERT&gt;, static,...</td>\n",
       "      <td>[&lt;KEEP&gt;, public, &lt;INSERT&gt;, static, &lt;KEEP&gt;, que...</td>\n",
       "    </tr>\n",
       "    <tr>\n",
       "      <th>1</th>\n",
       "      <td>Red5_red5_server-43-FirstSentence-0</td>\n",
       "      <td>0</td>\n",
       "      <td>Summary</td>\n",
       "      <td>Return period of ghost connections cleanup tas...</td>\n",
       "      <td>[return, period, of, ghost, connections, clean...</td>\n",
       "      <td>Return period of ghost connections cleanup tas...</td>\n",
       "      <td>[return, period, of, ghost, connections, clean...</td>\n",
       "      <td>[]</td>\n",
       "      <td>public int getGhostConnsCleanupPeriod() {\\...</td>\n",
       "      <td>[public, int, get, ghost, conns, cleanup, peri...</td>\n",
       "      <td>public int getGhostConnsCleanupPeriod() { retu...</td>\n",
       "      <td>[public, int, get, ghost, conns, cleanup, peri...</td>\n",
       "      <td>[&lt;KEEP&gt;, public, int, get, ghost, conns, clean...</td>\n",
       "      <td>[&lt;KEEP&gt;, public, &lt;KEEP&gt;, int, &lt;KEEP&gt;, get, &lt;KE...</td>\n",
       "    </tr>\n",
       "    <tr>\n",
       "      <th>2</th>\n",
       "      <td>nickman_Rindle-11-Associations-FirstSentence</td>\n",
       "      <td>1</td>\n",
       "      <td>Summary</td>\n",
       "      <td>Allocates an initialized and initially unlocke...</td>\n",
       "      <td>[allocates, an, initialized, and, initially, u...</td>\n",
       "      <td>Allocates an initialized and initially unlocke...</td>\n",
       "      <td>[allocates, an, initialized, and, initially, u...</td>\n",
       "      <td>[&lt;INSERT_OLD_KEEP_BEFORE&gt;, unlocked, &lt;INSERT_N...</td>\n",
       "      <td>\\tpublic static long allocateSpinLock() {\\r\\n\\...</td>\n",
       "      <td>[public, static, long, allocate, spin, lock, (...</td>\n",
       "      <td>public static SpinLock allocateSpinLock() { lo...</td>\n",
       "      <td>[public, static, spin, lock, allocate, spin, l...</td>\n",
       "      <td>[&lt;KEEP&gt;, public, static, &lt;KEEP_END&gt;, &lt;REPLACE_...</td>\n",
       "      <td>[&lt;KEEP&gt;, public, &lt;KEEP&gt;, static, &lt;REPLACE_OLD&gt;...</td>\n",
       "    </tr>\n",
       "    <tr>\n",
       "      <th>3</th>\n",
       "      <td>h2oai_h2o_2-427-FirstSentence-0</td>\n",
       "      <td>0</td>\n",
       "      <td>Summary</td>\n",
       "      <td>Rebalance a frame for load balancing</td>\n",
       "      <td>[rebalance, a, frame, for, load, balancing]</td>\n",
       "      <td>Rebalance a frame for load balancing</td>\n",
       "      <td>[rebalance, a, frame, for, load, balancing]</td>\n",
       "      <td>[]</td>\n",
       "      <td>private Frame reBalance(final Frame fr, bool...</td>\n",
       "      <td>[private, frame, re, balance, (, final, frame,...</td>\n",
       "      <td>private static Frame reBalance(final Frame fr,...</td>\n",
       "      <td>[private, static, frame, re, balance, (, final...</td>\n",
       "      <td>[&lt;KEEP&gt;, private, &lt;KEEP_END&gt;, &lt;INSERT&gt;, static...</td>\n",
       "      <td>[&lt;KEEP&gt;, private, &lt;INSERT&gt;, static, &lt;KEEP&gt;, fr...</td>\n",
       "    </tr>\n",
       "    <tr>\n",
       "      <th>4</th>\n",
       "      <td>sonatype_sonatype-aether-11-Associations-First...</td>\n",
       "      <td>1</td>\n",
       "      <td>Summary</td>\n",
       "      <td>Sets the host of this proxy.</td>\n",
       "      <td>[sets, the, host, of, this, proxy, .]</td>\n",
       "      <td>Sets the host of the proxy.</td>\n",
       "      <td>[sets, the, host, of, the, proxy, .]</td>\n",
       "      <td>[&lt;REPLACE_OLD&gt;, this, &lt;REPLACE_NEW&gt;, the, &lt;REP...</td>\n",
       "      <td>public Proxy setHost( String host )\\n    {...</td>\n",
       "      <td>[public, proxy, set, host, (, string, host, ),...</td>\n",
       "      <td>public Proxy setHost( String host ) { return n...</td>\n",
       "      <td>[public, proxy, set, host, (, string, host, ),...</td>\n",
       "      <td>[&lt;KEEP&gt;, public, proxy, set, host, (, string, ...</td>\n",
       "      <td>[&lt;KEEP&gt;, public, &lt;KEEP&gt;, proxy, &lt;KEEP&gt;, set, &lt;...</td>\n",
       "    </tr>\n",
       "  </tbody>\n",
       "</table>\n",
       "</div>"
      ],
      "text/plain": [
       "                                                  id  label comment_type  \\\n",
       "0                 todoroo_astrid-987-FirstSentence-0      1      Summary   \n",
       "1                Red5_red5_server-43-FirstSentence-0      0      Summary   \n",
       "2       nickman_Rindle-11-Associations-FirstSentence      1      Summary   \n",
       "3                    h2oai_h2o_2-427-FirstSentence-0      0      Summary   \n",
       "4  sonatype_sonatype-aether-11-Associations-First...      1      Summary   \n",
       "\n",
       "                                     old_comment_raw  \\\n",
       "0  Return SQL selector query for getting tasks wi...   \n",
       "1  Return period of ghost connections cleanup tas...   \n",
       "2  Allocates an initialized and initially unlocke...   \n",
       "3               Rebalance a frame for load balancing   \n",
       "4                       Sets the host of this proxy.   \n",
       "\n",
       "                               old_comment_subtokens  \\\n",
       "0  [return, sql, selector, query, for, getting, t...   \n",
       "1  [return, period, of, ghost, connections, clean...   \n",
       "2  [allocates, an, initialized, and, initially, u...   \n",
       "3        [rebalance, a, frame, for, load, balancing]   \n",
       "4              [sets, the, host, of, this, proxy, .]   \n",
       "\n",
       "                                     new_comment_raw  \\\n",
       "0  Return SQL selector query for getting tasks wi...   \n",
       "1  Return period of ghost connections cleanup tas...   \n",
       "2  Allocates an initialized and initially unlocke...   \n",
       "3               Rebalance a frame for load balancing   \n",
       "4                        Sets the host of the proxy.   \n",
       "\n",
       "                               new_comment_subtokens  \\\n",
       "0  [return, sql, selector, query, for, getting, t...   \n",
       "1  [return, period, of, ghost, connections, clean...   \n",
       "2  [allocates, an, initialized, and, initially, u...   \n",
       "3        [rebalance, a, frame, for, load, balancing]   \n",
       "4               [sets, the, host, of, the, proxy, .]   \n",
       "\n",
       "                 span_minimal_diff_comment_subtokens  \\\n",
       "0  [<INSERT_OLD_KEEP_BEFORE>, tag, <INSERT_NEW_KE...   \n",
       "1                                                 []   \n",
       "2  [<INSERT_OLD_KEEP_BEFORE>, unlocked, <INSERT_N...   \n",
       "3                                                 []   \n",
       "4  [<REPLACE_OLD>, this, <REPLACE_NEW>, the, <REP...   \n",
       "\n",
       "                                        old_code_raw  \\\n",
       "0          public QueryTemplate queryTemplate(Cri...   \n",
       "1      public int getGhostConnsCleanupPeriod() {\\...   \n",
       "2  \\tpublic static long allocateSpinLock() {\\r\\n\\...   \n",
       "3    private Frame reBalance(final Frame fr, bool...   \n",
       "4      public Proxy setHost( String host )\\n    {...   \n",
       "\n",
       "                                  old_code_subtokens  \\\n",
       "0  [public, query, template, query, template, (, ...   \n",
       "1  [public, int, get, ghost, conns, cleanup, peri...   \n",
       "2  [public, static, long, allocate, spin, lock, (...   \n",
       "3  [private, frame, re, balance, (, final, frame,...   \n",
       "4  [public, proxy, set, host, (, string, host, ),...   \n",
       "\n",
       "                                        new_code_raw  \\\n",
       "0  public static QueryTemplate queryTemplate(Crit...   \n",
       "1  public int getGhostConnsCleanupPeriod() { retu...   \n",
       "2  public static SpinLock allocateSpinLock() { lo...   \n",
       "3  private static Frame reBalance(final Frame fr,...   \n",
       "4  public Proxy setHost( String host ) { return n...   \n",
       "\n",
       "                                  new_code_subtokens  \\\n",
       "0  [public, static, query, template, query, templ...   \n",
       "1  [public, int, get, ghost, conns, cleanup, peri...   \n",
       "2  [public, static, spin, lock, allocate, spin, l...   \n",
       "3  [private, static, frame, re, balance, (, final...   \n",
       "4  [public, proxy, set, host, (, string, host, ),...   \n",
       "\n",
       "                            span_diff_code_subtokens  \\\n",
       "0  [<KEEP>, public, <KEEP_END>, <INSERT>, static,...   \n",
       "1  [<KEEP>, public, int, get, ghost, conns, clean...   \n",
       "2  [<KEEP>, public, static, <KEEP_END>, <REPLACE_...   \n",
       "3  [<KEEP>, private, <KEEP_END>, <INSERT>, static...   \n",
       "4  [<KEEP>, public, proxy, set, host, (, string, ...   \n",
       "\n",
       "                           token_diff_code_subtokens  \n",
       "0  [<KEEP>, public, <INSERT>, static, <KEEP>, que...  \n",
       "1  [<KEEP>, public, <KEEP>, int, <KEEP>, get, <KE...  \n",
       "2  [<KEEP>, public, <KEEP>, static, <REPLACE_OLD>...  \n",
       "3  [<KEEP>, private, <INSERT>, static, <KEEP>, fr...  \n",
       "4  [<KEEP>, public, <KEEP>, proxy, <KEEP>, set, <...  "
      ]
     },
     "execution_count": 12,
     "metadata": {},
     "output_type": "execute_result"
    }
   ],
   "source": [
    "valid_df_clean = format_data(valid_df)\n",
    "valid_df_clean.head()"
   ]
  },
  {
   "cell_type": "code",
   "execution_count": null,
   "id": "cf9f184f-af58-4c86-b6f6-f097b1e05e93",
   "metadata": {},
   "outputs": [],
   "source": []
  },
  {
   "cell_type": "code",
   "execution_count": null,
   "id": "0b15b172",
   "metadata": {},
   "outputs": [],
   "source": []
  },
  {
   "cell_type": "code",
   "execution_count": 13,
   "id": "ba0d2a30",
   "metadata": {},
   "outputs": [],
   "source": [
    "class CocoDataset(Dataset):\n",
    "    def __init__(self, df):\n",
    "        self.df = df\n",
    "        self.tokenizer = BertTokenizer.from_pretrained('D:/LTX/models--bert-base-uncased', do_lower_case=True)\n",
    "        self.data = self.load_data(self.df)\n",
    "\n",
    "    def __len__(self):\n",
    "        return len(self.data)\n",
    "\n",
    "    def __getitem__(self, index):\n",
    "        return self.data[index]\n",
    "\n",
    "    def load_data(self, df):\n",
    "        token_ids = []\n",
    "        mask_ids = []\n",
    "        seg_ids = []\n",
    "        labels = []\n",
    "        \n",
    "        code_list = df['new_code_raw'].to_list() \n",
    "        comment_list = df['old_comment_raw'].to_list()\n",
    "        label_list = df['label'].to_list()\n",
    "\n",
    "        for (code, comment, label) in zip(code_list, comment_list, label_list):\n",
    "            code_id = self.tokenizer.encode(code, add_special_tokens=False, truncation=True, max_length=512)\n",
    "            comment_id = self.tokenizer.encode(comment, add_special_tokens=False, truncation=True, max_length=512)\n",
    "\n",
    "            # want [CLS] comment tokens [SEP] code tokens [SEP]\n",
    "            pair_token_ids = [self.tokenizer.cls_token_id] + comment_id + [self.tokenizer.sep_token_id] + code_id + [self.tokenizer.sep_token_id]\n",
    "            pair_token_ids = self.truncate(pair_token_ids)\n",
    "            code_len = len(code_id)\n",
    "            comment_len = len(comment_id)\n",
    "            \n",
    "            attention_mask_ids = torch.tensor([1] * (code_len + comment_len + 3)) # mask padded values\n",
    "            segment_ids = torch.tensor([0] * (comment_len + 2) + [1] * (code_len + 1)) # sentence 0 (comment) and sentence 1 (code)\n",
    "            \n",
    "            attention_mask_ids = self.truncate(attention_mask_ids)\n",
    "            segment_ids = self.truncate(segment_ids)\n",
    "            \n",
    "            token_ids.append(torch.tensor(pair_token_ids))\n",
    "            mask_ids.append(attention_mask_ids)\n",
    "            seg_ids.append(segment_ids)\n",
    "            labels.append(label)\n",
    "            \n",
    "        token_ids = pad_sequence(token_ids, batch_first=True)\n",
    "        mask_ids = pad_sequence(mask_ids, batch_first=True)\n",
    "        seg_ids = pad_sequence(seg_ids, batch_first=True)\n",
    "        labels = torch.tensor(labels)\n",
    "        \n",
    "        dataset = TensorDataset(token_ids, mask_ids, seg_ids, labels)\n",
    "        return dataset\n",
    "\n",
    "    def truncate(self, ids):\n",
    "        return ids[:MAX_LEN] if len(ids) > MAX_LEN else ids"
   ]
  },
  {
   "cell_type": "code",
   "execution_count": 14,
   "id": "8458312c",
   "metadata": {
    "scrolled": true
   },
   "outputs": [
    {
     "data": {
      "text/plain": [
       "(<__main__.CocoDataset at 0x2b08942ed70>,\n",
       " <__main__.CocoDataset at 0x2b08942e7a0>)"
      ]
     },
     "execution_count": 14,
     "metadata": {},
     "output_type": "execute_result"
    }
   ],
   "source": [
    "train_data_for_fold = CocoDataset(train_df_clean)\n",
    "valid_data_for_fold = CocoDataset(valid_df_clean)\n",
    "train_data_for_fold,valid_data_for_fold"
   ]
  },
  {
   "cell_type": "code",
   "execution_count": null,
   "id": "db779425-c2f0-412b-9b23-efc153301d9d",
   "metadata": {},
   "outputs": [],
   "source": []
  },
  {
   "cell_type": "code",
   "execution_count": null,
   "id": "c7c55093-45b6-4e9f-ae1f-c720c7027b71",
   "metadata": {},
   "outputs": [],
   "source": []
  },
  {
   "cell_type": "markdown",
   "id": "ca26bed3",
   "metadata": {},
   "source": [
    "train"
   ]
  },
  {
   "cell_type": "code",
   "execution_count": 15,
   "id": "454ba4a4",
   "metadata": {},
   "outputs": [],
   "source": [
    "from sklearn.metrics import precision_score, recall_score, f1_score, accuracy_score\n",
    "\n",
    "def compute_metrics(predicted_labels, gold_labels):\n",
    "    predicted_labels = [label.item() for label in predicted_labels]\n",
    "    gold_labels = [label.item() for label in gold_labels]\n",
    "\n",
    "    assert len(predicted_labels) == len(gold_labels)\n",
    "\n",
    "    precision = precision_score(gold_labels, predicted_labels, zero_division=0)\n",
    "    recall = recall_score(gold_labels, predicted_labels, zero_division=0)\n",
    "    f1 = f1_score(gold_labels, predicted_labels, zero_division=0)\n",
    "    accuracy = accuracy_score(gold_labels, predicted_labels) \n",
    "\n",
    "    return precision, recall, f1, accuracy"
   ]
  },
  {
   "cell_type": "code",
   "execution_count": 16,
   "id": "913291c3-21cc-49f1-bcd7-e22af3b4da2e",
   "metadata": {},
   "outputs": [],
   "source": [
    "from transformers.utils.notebook import format_time\n",
    "from transformers import AdamW, get_linear_schedule_with_warmup\n",
    "from torch.utils.data import DataLoader\n",
    "from torch.nn.utils import clip_grad_norm_\n",
    "from tqdm import tqdm\n",
    "def train(model,train_data,valid_data,patience=10):\n",
    "\n",
    "\n",
    "    train_loader = DataLoader(dataset=train_data, batch_size=BATCH_SIZE)\n",
    "    valid_loader = DataLoader(dataset=valid_data, batch_size=BATCH_SIZE)\n",
    "\n",
    "    best_f1 = 0.0\n",
    "    epochs_without_improvement = 0\n",
    "    \n",
    "    total_steps = len(train_loader) * MAX_EPOCHS\n",
    "    print(\"   Train batch size = {}\".format(BATCH_SIZE))\n",
    "    print(\"   Total steps = {}\".format(total_steps))\n",
    "    print(f\"   Training Start!\")\n",
    "    \n",
    "    optimizer = torch.optim.AdamW(model.parameters(), lr=LEARNING_RATE)\n",
    "    train_losses = []\n",
    "    valid_losses = []\n",
    "    times = 0\n",
    "    for epoch in range(MAX_EPOCHS):\n",
    "        # 每个周期输出一个txt，检查valid的预测数据\n",
    "        times = times+1\n",
    "        start = time.time()\n",
    "        model.to(device)\n",
    "        model.train()\n",
    "    \n",
    "        # string_colmn_name = \"input_data    label    prediction_label\"\n",
    "        # file_name = 'check_newdata_bert_valid_dataset_epoch_{}'\n",
    "        # with open(file_name.format(times)+'.txt', 'w') as f:\n",
    "        #     f.write(string_colmn_name)\n",
    "            \n",
    "        train_loss = 0.0\n",
    "        predictions = []\n",
    "        gold_labels = []\n",
    "        for batch_idx, (sequence, attention_masks, token_type_ids, labels) in enumerate(tqdm(train_loader, desc=\"Training\", leave=True)):\n",
    "            sequence = sequence.to(device)\n",
    "            attention_masks = attention_masks.to(device)\n",
    "            token_type_ids = token_type_ids.to(device)\n",
    "            labels = labels.to(device)\n",
    "            \n",
    "            outputs = model(sequence, attention_mask=attention_masks, token_type_ids=token_type_ids, labels=labels)\n",
    "            loss = outputs.loss\n",
    "            prediction = outputs.logits\n",
    "\n",
    "            train_loss += loss.item()\n",
    "            prediction = torch.argmax(prediction, dim=-1)\n",
    "\n",
    "            loss.backward()\n",
    "            clip_grad_norm_(model.parameters(), 1.0)  # 梯度截断\n",
    "\n",
    "            optimizer.step()\n",
    "            optimizer.zero_grad()\n",
    "#             scheduler.step()\n",
    "\n",
    "            predictions.extend(prediction)\n",
    "            gold_labels.extend(labels)\n",
    "\n",
    "        train_loss = train_loss / len(train_loader)\n",
    "        train_precision, train_recall, train_f1, train_acc = compute_metrics(predictions, gold_labels)\n",
    "        train_time = format_time(time.time()-start)\n",
    "\n",
    "        model.eval()\n",
    "        valid_loss = 0.0\n",
    "        predictions = []\n",
    "        gold_labels = []\n",
    "\n",
    "        with torch.no_grad():\n",
    "            for batch_idx, (sequence, attention_masks, token_type_ids, labels) in enumerate(valid_loader):\n",
    "                sequence = sequence.to(device)\n",
    "                attention_masks = attention_masks.to(device)\n",
    "                token_type_ids = token_type_ids.to(device)\n",
    "                labels = labels.to(device)\n",
    "                \n",
    "                outputs = model(sequence, attention_mask=attention_masks, token_type_ids=token_type_ids, labels=labels)\n",
    "                loss = outputs.loss\n",
    "                prediction = outputs.logits\n",
    "                \n",
    "                valid_loss += loss.item()\n",
    "                prediction = torch.argmax(prediction, dim=1)\n",
    "\n",
    "                predictions.extend(prediction)\n",
    "                gold_labels.extend(labels)\n",
    "\n",
    "                labels_cpu = labels.cpu()\n",
    "                prediction_cpu = prediction.cpu()\n",
    "                input_data = str([tokenizer.decode(ids,skip_special_tokens=True) for ids in sequence])\n",
    "                # with open(file_name.format(times) +'.txt', 'a') as f:\n",
    "                #     f.write(input_data)\n",
    "                #     f.write('%s\\n' % labels_cpu.numpy().tolist())\n",
    "                #     f.write('%s\\n' % prediction_cpu.numpy().tolist())\n",
    "     \n",
    "        valid_time = format_time(time.time() - start)\n",
    "        valid_loss = valid_loss / len(valid_loader)\n",
    "        valid_precision, valid_recall, valid_f1, valid_acc = compute_metrics(predictions, gold_labels)\n",
    "        \n",
    "        if valid_f1 != best_f1:\n",
    "            if valid_f1 > best_f1:\n",
    "                best_f1 = valid_f1\n",
    "                print(f\"New best validation f1 of {valid_f1:.3f}. Saving model.\")\n",
    "                torch.save(model, \"save_bertmodel.pt\")\n",
    "            epochs_without_improvement = 0      \n",
    "        else:\n",
    "            epochs_without_improvement += 1\n",
    "            \n",
    "        # 如果验证集上的f1连续patience个epoch没有变化，则停止训练\n",
    "        if epochs_without_improvement == patience:\n",
    "            print('Early stopping at epoch {}...'.format(epoch+1))\n",
    "            break\n",
    "\n",
    "\n",
    "        train_losses.append(train_loss)\n",
    "        valid_losses.append(valid_loss)\n",
    "\n",
    "        end = time.time()\n",
    "        hours, rem = divmod(end - start, 3600)\n",
    "        min, sec = divmod(rem, 60)\n",
    "\n",
    "        print(f\"Epoch {epoch + 1}: train_loss: {train_loss:.3f} train_precision: {train_precision:.3f} train_recall: {train_recall:.3f} train_f1: {train_f1:.3f} train_acc: {train_acc:.3f}\")\n",
    "        print(f\"\\t valid_loss: {valid_loss:.3f} valid_precision: {valid_precision:.3f} valid_recall: {valid_recall:.3f} valid_f1: {valid_f1:.3f} valid_acc: {valid_acc:.3f}\")\n",
    "        print(\"\\t {:0>2}:{:0>2}:{:05.2f}\".format(int(hours), int(min), sec))\n",
    "\n",
    "    print('   Training Completed!')\n",
    "    return train_losses,valid_losses"
   ]
  },
  {
   "cell_type": "code",
   "execution_count": 17,
   "id": "9347417e",
   "metadata": {
    "scrolled": true
   },
   "outputs": [
    {
     "name": "stdout",
     "output_type": "stream",
     "text": [
      "   Train batch size = 8\n",
      "   Total steps = 412400\n",
      "   Training Start!\n"
     ]
    },
    {
     "name": "stderr",
     "output_type": "stream",
     "text": [
      "Training: 100%|████████████████████████████████████████████████████████████████████| 4124/4124 [13:08<00:00,  5.23it/s]\n"
     ]
    },
    {
     "name": "stdout",
     "output_type": "stream",
     "text": [
      "New best validation f1 of 0.662. Saving model.\n",
      "Epoch 1: train_loss: 0.551 train_precision: 0.744 train_recall: 0.662 train_f1: 0.700 train_acc: 0.717\n",
      "\t valid_loss: 0.710 valid_precision: 0.725 valid_recall: 0.609 valid_f1: 0.662 valid_acc: 0.689\n",
      "\t 00:14:10.63\n"
     ]
    },
    {
     "name": "stderr",
     "output_type": "stream",
     "text": [
      "Training: 100%|████████████████████████████████████████████████████████████████████| 4124/4124 [13:04<00:00,  5.26it/s]\n"
     ]
    },
    {
     "name": "stdout",
     "output_type": "stream",
     "text": [
      "Epoch 2: train_loss: 0.461 train_precision: 0.827 train_recall: 0.739 train_f1: 0.781 train_acc: 0.792\n",
      "\t valid_loss: 0.788 valid_precision: 0.642 valid_recall: 0.657 valid_f1: 0.650 valid_acc: 0.646\n",
      "\t 00:14:04.03\n"
     ]
    },
    {
     "name": "stderr",
     "output_type": "stream",
     "text": [
      "Training: 100%|████████████████████████████████████████████████████████████████████| 4124/4124 [13:03<00:00,  5.26it/s]\n"
     ]
    },
    {
     "name": "stdout",
     "output_type": "stream",
     "text": [
      "New best validation f1 of 0.680. Saving model.\n",
      "Epoch 3: train_loss: 0.392 train_precision: 0.875 train_recall: 0.815 train_f1: 0.844 train_acc: 0.849\n",
      "\t valid_loss: 1.004 valid_precision: 0.714 valid_recall: 0.649 valid_f1: 0.680 valid_acc: 0.694\n",
      "\t 00:14:07.18\n"
     ]
    },
    {
     "name": "stderr",
     "output_type": "stream",
     "text": [
      "Training: 100%|████████████████████████████████████████████████████████████████████| 4124/4124 [13:02<00:00,  5.27it/s]\n"
     ]
    },
    {
     "name": "stdout",
     "output_type": "stream",
     "text": [
      "New best validation f1 of 0.693. Saving model.\n",
      "Epoch 4: train_loss: 0.344 train_precision: 0.912 train_recall: 0.867 train_f1: 0.889 train_acc: 0.891\n",
      "\t valid_loss: 1.053 valid_precision: 0.791 valid_recall: 0.616 valid_f1: 0.693 valid_acc: 0.727\n",
      "\t 00:14:06.47\n"
     ]
    },
    {
     "name": "stderr",
     "output_type": "stream",
     "text": [
      "Training: 100%|████████████████████████████████████████████████████████████████████| 4124/4124 [13:03<00:00,  5.26it/s]\n"
     ]
    },
    {
     "name": "stdout",
     "output_type": "stream",
     "text": [
      "New best validation f1 of 0.720. Saving model.\n",
      "Epoch 5: train_loss: 0.308 train_precision: 0.932 train_recall: 0.899 train_f1: 0.915 train_acc: 0.917\n",
      "\t valid_loss: 1.207 valid_precision: 0.767 valid_recall: 0.678 valid_f1: 0.720 valid_acc: 0.736\n",
      "\t 00:14:07.88\n"
     ]
    },
    {
     "name": "stderr",
     "output_type": "stream",
     "text": [
      "Training: 100%|████████████████████████████████████████████████████████████████████| 4124/4124 [13:03<00:00,  5.26it/s]\n"
     ]
    },
    {
     "name": "stdout",
     "output_type": "stream",
     "text": [
      "Epoch 6: train_loss: 0.264 train_precision: 0.947 train_recall: 0.923 train_f1: 0.935 train_acc: 0.936\n",
      "\t valid_loss: 1.257 valid_precision: 0.795 valid_recall: 0.638 valid_f1: 0.708 valid_acc: 0.737\n",
      "\t 00:14:03.10\n"
     ]
    },
    {
     "name": "stderr",
     "output_type": "stream",
     "text": [
      "Training: 100%|████████████████████████████████████████████████████████████████████| 4124/4124 [13:03<00:00,  5.26it/s]\n"
     ]
    },
    {
     "name": "stdout",
     "output_type": "stream",
     "text": [
      "Epoch 7: train_loss: 0.225 train_precision: 0.957 train_recall: 0.937 train_f1: 0.947 train_acc: 0.947\n",
      "\t valid_loss: 1.456 valid_precision: 0.736 valid_recall: 0.697 valid_f1: 0.716 valid_acc: 0.723\n",
      "\t 00:14:03.60\n"
     ]
    },
    {
     "name": "stderr",
     "output_type": "stream",
     "text": [
      "Training: 100%|████████████████████████████████████████████████████████████████████| 4124/4124 [13:02<00:00,  5.27it/s]\n"
     ]
    },
    {
     "name": "stdout",
     "output_type": "stream",
     "text": [
      "Epoch 8: train_loss: 0.187 train_precision: 0.965 train_recall: 0.953 train_f1: 0.959 train_acc: 0.959\n",
      "\t valid_loss: 1.522 valid_precision: 0.798 valid_recall: 0.620 valid_f1: 0.698 valid_acc: 0.732\n",
      "\t 00:14:02.66\n"
     ]
    },
    {
     "name": "stderr",
     "output_type": "stream",
     "text": [
      "Training: 100%|████████████████████████████████████████████████████████████████████| 4124/4124 [13:03<00:00,  5.26it/s]\n"
     ]
    },
    {
     "name": "stdout",
     "output_type": "stream",
     "text": [
      "New best validation f1 of 0.723. Saving model.\n",
      "Epoch 9: train_loss: 0.154 train_precision: 0.972 train_recall: 0.962 train_f1: 0.967 train_acc: 0.967\n",
      "\t valid_loss: 1.685 valid_precision: 0.729 valid_recall: 0.716 valid_f1: 0.723 valid_acc: 0.725\n",
      "\t 00:14:07.03\n"
     ]
    },
    {
     "name": "stderr",
     "output_type": "stream",
     "text": [
      "Training: 100%|████████████████████████████████████████████████████████████████████| 4124/4124 [13:04<00:00,  5.25it/s]\n"
     ]
    },
    {
     "name": "stdout",
     "output_type": "stream",
     "text": [
      "Epoch 10: train_loss: 0.133 train_precision: 0.976 train_recall: 0.969 train_f1: 0.972 train_acc: 0.972\n",
      "\t valid_loss: 1.907 valid_precision: 0.759 valid_recall: 0.679 valid_f1: 0.717 valid_acc: 0.732\n",
      "\t 00:14:06.72\n"
     ]
    },
    {
     "name": "stderr",
     "output_type": "stream",
     "text": [
      "Training: 100%|████████████████████████████████████████████████████████████████████| 4124/4124 [13:08<00:00,  5.23it/s]\n"
     ]
    },
    {
     "name": "stdout",
     "output_type": "stream",
     "text": [
      "Epoch 11: train_loss: 0.117 train_precision: 0.978 train_recall: 0.976 train_f1: 0.977 train_acc: 0.977\n",
      "\t valid_loss: 1.836 valid_precision: 0.763 valid_recall: 0.659 valid_f1: 0.707 valid_acc: 0.727\n",
      "\t 00:14:10.02\n"
     ]
    },
    {
     "name": "stderr",
     "output_type": "stream",
     "text": [
      "Training: 100%|████████████████████████████████████████████████████████████████████| 4124/4124 [13:07<00:00,  5.23it/s]\n"
     ]
    },
    {
     "name": "stdout",
     "output_type": "stream",
     "text": [
      "Epoch 12: train_loss: 0.104 train_precision: 0.980 train_recall: 0.979 train_f1: 0.979 train_acc: 0.979\n",
      "\t valid_loss: 1.867 valid_precision: 0.799 valid_recall: 0.635 valid_f1: 0.708 valid_acc: 0.738\n",
      "\t 00:14:09.74\n"
     ]
    },
    {
     "name": "stderr",
     "output_type": "stream",
     "text": [
      "Training: 100%|████████████████████████████████████████████████████████████████████| 4124/4124 [13:08<00:00,  5.23it/s]\n"
     ]
    },
    {
     "name": "stdout",
     "output_type": "stream",
     "text": [
      "Epoch 13: train_loss: 0.081 train_precision: 0.984 train_recall: 0.985 train_f1: 0.984 train_acc: 0.984\n",
      "\t valid_loss: 1.995 valid_precision: 0.802 valid_recall: 0.656 valid_f1: 0.722 valid_acc: 0.747\n",
      "\t 00:14:10.38\n"
     ]
    },
    {
     "name": "stderr",
     "output_type": "stream",
     "text": [
      "Training: 100%|████████████████████████████████████████████████████████████████████| 4124/4124 [13:06<00:00,  5.25it/s]\n"
     ]
    },
    {
     "name": "stdout",
     "output_type": "stream",
     "text": [
      "Epoch 14: train_loss: 0.081 train_precision: 0.985 train_recall: 0.984 train_f1: 0.985 train_acc: 0.985\n",
      "\t valid_loss: 2.059 valid_precision: 0.765 valid_recall: 0.666 valid_f1: 0.712 valid_acc: 0.731\n",
      "\t 00:14:07.68\n"
     ]
    },
    {
     "name": "stderr",
     "output_type": "stream",
     "text": [
      "Training: 100%|████████████████████████████████████████████████████████████████████| 4124/4124 [13:06<00:00,  5.25it/s]\n"
     ]
    },
    {
     "name": "stdout",
     "output_type": "stream",
     "text": [
      "Epoch 15: train_loss: 0.078 train_precision: 0.986 train_recall: 0.985 train_f1: 0.985 train_acc: 0.985\n",
      "\t valid_loss: 1.842 valid_precision: 0.761 valid_recall: 0.668 valid_f1: 0.711 valid_acc: 0.729\n",
      "\t 00:14:07.46\n"
     ]
    },
    {
     "name": "stderr",
     "output_type": "stream",
     "text": [
      "Training: 100%|████████████████████████████████████████████████████████████████████| 4124/4124 [13:05<00:00,  5.25it/s]\n"
     ]
    },
    {
     "name": "stdout",
     "output_type": "stream",
     "text": [
      "Epoch 16: train_loss: 0.068 train_precision: 0.989 train_recall: 0.985 train_f1: 0.987 train_acc: 0.987\n",
      "\t valid_loss: 1.887 valid_precision: 0.776 valid_recall: 0.670 valid_f1: 0.719 valid_acc: 0.738\n",
      "\t 00:14:06.61\n"
     ]
    },
    {
     "name": "stderr",
     "output_type": "stream",
     "text": [
      "Training: 100%|████████████████████████████████████████████████████████████████████| 4124/4124 [13:06<00:00,  5.25it/s]\n"
     ]
    },
    {
     "name": "stdout",
     "output_type": "stream",
     "text": [
      "Epoch 17: train_loss: 0.062 train_precision: 0.990 train_recall: 0.987 train_f1: 0.988 train_acc: 0.988\n",
      "\t valid_loss: 2.160 valid_precision: 0.812 valid_recall: 0.638 valid_f1: 0.715 valid_acc: 0.745\n",
      "\t 00:14:07.57\n"
     ]
    },
    {
     "name": "stderr",
     "output_type": "stream",
     "text": [
      "Training: 100%|████████████████████████████████████████████████████████████████████| 4124/4124 [13:06<00:00,  5.25it/s]\n"
     ]
    },
    {
     "name": "stdout",
     "output_type": "stream",
     "text": [
      "New best validation f1 of 0.726. Saving model.\n",
      "Epoch 18: train_loss: 0.057 train_precision: 0.990 train_recall: 0.989 train_f1: 0.989 train_acc: 0.989\n",
      "\t valid_loss: 2.153 valid_precision: 0.750 valid_recall: 0.704 valid_f1: 0.726 valid_acc: 0.735\n",
      "\t 00:14:11.32\n"
     ]
    },
    {
     "name": "stderr",
     "output_type": "stream",
     "text": [
      "Training: 100%|████████████████████████████████████████████████████████████████████| 4124/4124 [13:05<00:00,  5.25it/s]\n"
     ]
    },
    {
     "name": "stdout",
     "output_type": "stream",
     "text": [
      "Epoch 19: train_loss: 0.053 train_precision: 0.991 train_recall: 0.989 train_f1: 0.990 train_acc: 0.990\n",
      "\t valid_loss: 2.115 valid_precision: 0.772 valid_recall: 0.666 valid_f1: 0.715 valid_acc: 0.735\n",
      "\t 00:14:07.33\n"
     ]
    },
    {
     "name": "stderr",
     "output_type": "stream",
     "text": [
      "Training: 100%|████████████████████████████████████████████████████████████████████| 4124/4124 [13:05<00:00,  5.25it/s]\n"
     ]
    },
    {
     "name": "stdout",
     "output_type": "stream",
     "text": [
      "Epoch 20: train_loss: 0.049 train_precision: 0.992 train_recall: 0.991 train_f1: 0.991 train_acc: 0.991\n",
      "\t valid_loss: 2.374 valid_precision: 0.806 valid_recall: 0.654 valid_f1: 0.722 valid_acc: 0.748\n",
      "\t 00:14:06.73\n"
     ]
    },
    {
     "name": "stderr",
     "output_type": "stream",
     "text": [
      "Training: 100%|████████████████████████████████████████████████████████████████████| 4124/4124 [13:05<00:00,  5.25it/s]\n"
     ]
    },
    {
     "name": "stdout",
     "output_type": "stream",
     "text": [
      "Epoch 21: train_loss: 0.049 train_precision: 0.991 train_recall: 0.990 train_f1: 0.991 train_acc: 0.991\n",
      "\t valid_loss: 2.433 valid_precision: 0.793 valid_recall: 0.637 valid_f1: 0.706 valid_acc: 0.735\n",
      "\t 00:14:07.72\n"
     ]
    },
    {
     "name": "stderr",
     "output_type": "stream",
     "text": [
      "Training: 100%|████████████████████████████████████████████████████████████████████| 4124/4124 [13:05<00:00,  5.25it/s]\n"
     ]
    },
    {
     "name": "stdout",
     "output_type": "stream",
     "text": [
      "Epoch 22: train_loss: 0.046 train_precision: 0.992 train_recall: 0.992 train_f1: 0.992 train_acc: 0.992\n",
      "\t valid_loss: 2.396 valid_precision: 0.813 valid_recall: 0.617 valid_f1: 0.702 valid_acc: 0.738\n",
      "\t 00:14:09.83\n"
     ]
    },
    {
     "name": "stderr",
     "output_type": "stream",
     "text": [
      "Training: 100%|████████████████████████████████████████████████████████████████████| 4124/4124 [13:05<00:00,  5.25it/s]\n"
     ]
    },
    {
     "name": "stdout",
     "output_type": "stream",
     "text": [
      "Epoch 23: train_loss: 0.045 train_precision: 0.992 train_recall: 0.993 train_f1: 0.992 train_acc: 0.992\n",
      "\t valid_loss: 2.093 valid_precision: 0.770 valid_recall: 0.662 valid_f1: 0.712 valid_acc: 0.732\n",
      "\t 00:14:07.16\n"
     ]
    },
    {
     "name": "stderr",
     "output_type": "stream",
     "text": [
      "Training: 100%|████████████████████████████████████████████████████████████████████| 4124/4124 [13:04<00:00,  5.26it/s]\n"
     ]
    },
    {
     "name": "stdout",
     "output_type": "stream",
     "text": [
      "Epoch 24: train_loss: 0.038 train_precision: 0.994 train_recall: 0.993 train_f1: 0.993 train_acc: 0.993\n",
      "\t valid_loss: 2.365 valid_precision: 0.788 valid_recall: 0.651 valid_f1: 0.713 valid_acc: 0.738\n",
      "\t 00:14:06.20\n"
     ]
    },
    {
     "name": "stderr",
     "output_type": "stream",
     "text": [
      "Training: 100%|████████████████████████████████████████████████████████████████████| 4124/4124 [13:06<00:00,  5.25it/s]\n"
     ]
    },
    {
     "name": "stdout",
     "output_type": "stream",
     "text": [
      "Epoch 25: train_loss: 0.038 train_precision: 0.993 train_recall: 0.994 train_f1: 0.993 train_acc: 0.993\n",
      "\t valid_loss: 2.512 valid_precision: 0.796 valid_recall: 0.609 valid_f1: 0.690 valid_acc: 0.727\n",
      "\t 00:14:07.28\n"
     ]
    },
    {
     "name": "stderr",
     "output_type": "stream",
     "text": [
      "Training: 100%|████████████████████████████████████████████████████████████████████| 4124/4124 [13:05<00:00,  5.25it/s]\n"
     ]
    },
    {
     "name": "stdout",
     "output_type": "stream",
     "text": [
      "New best validation f1 of 0.730. Saving model.\n",
      "Epoch 26: train_loss: 0.038 train_precision: 0.994 train_recall: 0.993 train_f1: 0.993 train_acc: 0.993\n",
      "\t valid_loss: 2.300 valid_precision: 0.759 valid_recall: 0.702 valid_f1: 0.730 valid_acc: 0.740\n",
      "\t 00:14:10.99\n"
     ]
    },
    {
     "name": "stderr",
     "output_type": "stream",
     "text": [
      "Training: 100%|████████████████████████████████████████████████████████████████████| 4124/4124 [13:04<00:00,  5.25it/s]\n"
     ]
    },
    {
     "name": "stdout",
     "output_type": "stream",
     "text": [
      "Epoch 27: train_loss: 0.039 train_precision: 0.993 train_recall: 0.993 train_f1: 0.993 train_acc: 0.993\n",
      "\t valid_loss: 2.322 valid_precision: 0.757 valid_recall: 0.692 valid_f1: 0.723 valid_acc: 0.735\n",
      "\t 00:14:06.16\n"
     ]
    },
    {
     "name": "stderr",
     "output_type": "stream",
     "text": [
      "Training: 100%|████████████████████████████████████████████████████████████████████| 4124/4124 [13:05<00:00,  5.25it/s]\n"
     ]
    },
    {
     "name": "stdout",
     "output_type": "stream",
     "text": [
      "Epoch 28: train_loss: 0.037 train_precision: 0.994 train_recall: 0.993 train_f1: 0.993 train_acc: 0.993\n",
      "\t valid_loss: 2.347 valid_precision: 0.841 valid_recall: 0.587 valid_f1: 0.691 valid_acc: 0.738\n",
      "\t 00:14:07.07\n"
     ]
    },
    {
     "name": "stderr",
     "output_type": "stream",
     "text": [
      "Training: 100%|████████████████████████████████████████████████████████████████████| 4124/4124 [13:05<00:00,  5.25it/s]\n"
     ]
    },
    {
     "name": "stdout",
     "output_type": "stream",
     "text": [
      "Epoch 29: train_loss: 0.032 train_precision: 0.994 train_recall: 0.995 train_f1: 0.995 train_acc: 0.995\n",
      "\t valid_loss: 2.459 valid_precision: 0.767 valid_recall: 0.694 valid_f1: 0.729 valid_acc: 0.742\n",
      "\t 00:14:07.27\n"
     ]
    },
    {
     "name": "stderr",
     "output_type": "stream",
     "text": [
      "Training: 100%|████████████████████████████████████████████████████████████████████| 4124/4124 [13:05<00:00,  5.25it/s]\n"
     ]
    },
    {
     "name": "stdout",
     "output_type": "stream",
     "text": [
      "Epoch 30: train_loss: 0.033 train_precision: 0.993 train_recall: 0.995 train_f1: 0.994 train_acc: 0.994\n",
      "\t valid_loss: 2.409 valid_precision: 0.791 valid_recall: 0.647 valid_f1: 0.712 valid_acc: 0.738\n",
      "\t 00:14:09.77\n"
     ]
    },
    {
     "name": "stderr",
     "output_type": "stream",
     "text": [
      "Training: 100%|████████████████████████████████████████████████████████████████████| 4124/4124 [13:04<00:00,  5.25it/s]\n"
     ]
    },
    {
     "name": "stdout",
     "output_type": "stream",
     "text": [
      "Epoch 31: train_loss: 0.033 train_precision: 0.994 train_recall: 0.995 train_f1: 0.995 train_acc: 0.995\n",
      "\t valid_loss: 2.235 valid_precision: 0.755 valid_recall: 0.642 valid_f1: 0.694 valid_acc: 0.717\n",
      "\t 00:14:08.46\n"
     ]
    },
    {
     "name": "stderr",
     "output_type": "stream",
     "text": [
      "Training: 100%|████████████████████████████████████████████████████████████████████| 4124/4124 [13:08<00:00,  5.23it/s]\n"
     ]
    },
    {
     "name": "stdout",
     "output_type": "stream",
     "text": [
      "Epoch 32: train_loss: 0.032 train_precision: 0.995 train_recall: 0.994 train_f1: 0.994 train_acc: 0.994\n",
      "\t valid_loss: 2.491 valid_precision: 0.804 valid_recall: 0.619 valid_f1: 0.700 valid_acc: 0.734\n",
      "\t 00:14:10.94\n"
     ]
    },
    {
     "name": "stderr",
     "output_type": "stream",
     "text": [
      "Training: 100%|████████████████████████████████████████████████████████████████████| 4124/4124 [13:06<00:00,  5.24it/s]\n"
     ]
    },
    {
     "name": "stdout",
     "output_type": "stream",
     "text": [
      "Epoch 33: train_loss: 0.032 train_precision: 0.995 train_recall: 0.994 train_f1: 0.994 train_acc: 0.994\n",
      "\t valid_loss: 2.701 valid_precision: 0.812 valid_recall: 0.602 valid_f1: 0.692 valid_acc: 0.732\n",
      "\t 00:14:08.03\n"
     ]
    },
    {
     "name": "stderr",
     "output_type": "stream",
     "text": [
      "Training: 100%|████████████████████████████████████████████████████████████████████| 4124/4124 [13:05<00:00,  5.25it/s]\n"
     ]
    },
    {
     "name": "stdout",
     "output_type": "stream",
     "text": [
      "Epoch 34: train_loss: 0.027 train_precision: 0.996 train_recall: 0.996 train_f1: 0.996 train_acc: 0.996\n",
      "\t valid_loss: 2.512 valid_precision: 0.770 valid_recall: 0.651 valid_f1: 0.706 valid_acc: 0.728\n",
      "\t 00:14:07.96\n"
     ]
    },
    {
     "name": "stderr",
     "output_type": "stream",
     "text": [
      "Training: 100%|████████████████████████████████████████████████████████████████████| 4124/4124 [13:04<00:00,  5.26it/s]\n"
     ]
    },
    {
     "name": "stdout",
     "output_type": "stream",
     "text": [
      "Epoch 35: train_loss: 0.025 train_precision: 0.996 train_recall: 0.996 train_f1: 0.996 train_acc: 0.996\n",
      "\t valid_loss: 2.515 valid_precision: 0.799 valid_recall: 0.643 valid_f1: 0.713 valid_acc: 0.741\n",
      "\t 00:14:06.54\n"
     ]
    },
    {
     "name": "stderr",
     "output_type": "stream",
     "text": [
      "Training: 100%|████████████████████████████████████████████████████████████████████| 4124/4124 [13:06<00:00,  5.25it/s]\n"
     ]
    },
    {
     "name": "stdout",
     "output_type": "stream",
     "text": [
      "Epoch 36: train_loss: 0.029 train_precision: 0.995 train_recall: 0.995 train_f1: 0.995 train_acc: 0.995\n",
      "\t valid_loss: 2.368 valid_precision: 0.784 valid_recall: 0.667 valid_f1: 0.721 valid_acc: 0.741\n",
      "\t 00:14:07.76\n"
     ]
    },
    {
     "name": "stderr",
     "output_type": "stream",
     "text": [
      "Training: 100%|████████████████████████████████████████████████████████████████████| 4124/4124 [13:05<00:00,  5.25it/s]\n"
     ]
    },
    {
     "name": "stdout",
     "output_type": "stream",
     "text": [
      "Epoch 37: train_loss: 0.027 train_precision: 0.996 train_recall: 0.995 train_f1: 0.996 train_acc: 0.996\n",
      "\t valid_loss: 2.471 valid_precision: 0.787 valid_recall: 0.648 valid_f1: 0.711 valid_acc: 0.736\n",
      "\t 00:14:07.74\n"
     ]
    },
    {
     "name": "stderr",
     "output_type": "stream",
     "text": [
      "Training: 100%|████████████████████████████████████████████████████████████████████| 4124/4124 [13:05<00:00,  5.25it/s]\n"
     ]
    },
    {
     "name": "stdout",
     "output_type": "stream",
     "text": [
      "Epoch 38: train_loss: 0.023 train_precision: 0.996 train_recall: 0.996 train_f1: 0.996 train_acc: 0.996\n",
      "\t valid_loss: 2.293 valid_precision: 0.785 valid_recall: 0.662 valid_f1: 0.718 valid_acc: 0.740\n",
      "\t 00:14:07.50\n"
     ]
    },
    {
     "name": "stderr",
     "output_type": "stream",
     "text": [
      "Training: 100%|████████████████████████████████████████████████████████████████████| 4124/4124 [13:05<00:00,  5.25it/s]\n"
     ]
    },
    {
     "name": "stdout",
     "output_type": "stream",
     "text": [
      "Epoch 39: train_loss: 0.027 train_precision: 0.996 train_recall: 0.995 train_f1: 0.995 train_acc: 0.995\n",
      "\t valid_loss: 2.595 valid_precision: 0.821 valid_recall: 0.600 valid_f1: 0.693 valid_acc: 0.735\n",
      "\t 00:14:07.51\n"
     ]
    },
    {
     "name": "stderr",
     "output_type": "stream",
     "text": [
      "Training: 100%|████████████████████████████████████████████████████████████████████| 4124/4124 [13:04<00:00,  5.25it/s]\n"
     ]
    },
    {
     "name": "stdout",
     "output_type": "stream",
     "text": [
      "Epoch 40: train_loss: 0.023 train_precision: 0.996 train_recall: 0.996 train_f1: 0.996 train_acc: 0.996\n",
      "\t valid_loss: 2.430 valid_precision: 0.758 valid_recall: 0.659 valid_f1: 0.705 valid_acc: 0.724\n",
      "\t 00:14:06.12\n"
     ]
    },
    {
     "name": "stderr",
     "output_type": "stream",
     "text": [
      "Training: 100%|████████████████████████████████████████████████████████████████████| 4124/4124 [13:05<00:00,  5.25it/s]\n"
     ]
    },
    {
     "name": "stdout",
     "output_type": "stream",
     "text": [
      "Epoch 41: train_loss: 0.020 train_precision: 0.997 train_recall: 0.996 train_f1: 0.997 train_acc: 0.997\n",
      "\t valid_loss: 2.755 valid_precision: 0.782 valid_recall: 0.614 valid_f1: 0.688 valid_acc: 0.722\n",
      "\t 00:14:07.50\n"
     ]
    },
    {
     "name": "stderr",
     "output_type": "stream",
     "text": [
      "Training: 100%|████████████████████████████████████████████████████████████████████| 4124/4124 [13:05<00:00,  5.25it/s]\n"
     ]
    },
    {
     "name": "stdout",
     "output_type": "stream",
     "text": [
      "Epoch 42: train_loss: 0.023 train_precision: 0.996 train_recall: 0.996 train_f1: 0.996 train_acc: 0.996\n",
      "\t valid_loss: 2.435 valid_precision: 0.806 valid_recall: 0.634 valid_f1: 0.709 valid_acc: 0.740\n",
      "\t 00:14:09.72\n"
     ]
    },
    {
     "name": "stderr",
     "output_type": "stream",
     "text": [
      "Training: 100%|████████████████████████████████████████████████████████████████████| 4124/4124 [13:04<00:00,  5.25it/s]\n"
     ]
    },
    {
     "name": "stdout",
     "output_type": "stream",
     "text": [
      "Epoch 43: train_loss: 0.024 train_precision: 0.996 train_recall: 0.996 train_f1: 0.996 train_acc: 0.996\n",
      "\t valid_loss: 2.268 valid_precision: 0.786 valid_recall: 0.660 valid_f1: 0.718 valid_acc: 0.740\n",
      "\t 00:14:06.44\n"
     ]
    },
    {
     "name": "stderr",
     "output_type": "stream",
     "text": [
      "Training: 100%|████████████████████████████████████████████████████████████████████| 4124/4124 [13:05<00:00,  5.25it/s]\n"
     ]
    },
    {
     "name": "stdout",
     "output_type": "stream",
     "text": [
      "New best validation f1 of 0.731. Saving model.\n",
      "Epoch 44: train_loss: 0.022 train_precision: 0.997 train_recall: 0.996 train_f1: 0.996 train_acc: 0.996\n",
      "\t valid_loss: 1.968 valid_precision: 0.777 valid_recall: 0.691 valid_f1: 0.731 valid_acc: 0.746\n",
      "\t 00:14:11.25\n"
     ]
    },
    {
     "name": "stderr",
     "output_type": "stream",
     "text": [
      "Training: 100%|████████████████████████████████████████████████████████████████████| 4124/4124 [13:05<00:00,  5.25it/s]\n"
     ]
    },
    {
     "name": "stdout",
     "output_type": "stream",
     "text": [
      "Epoch 45: train_loss: 0.025 train_precision: 0.996 train_recall: 0.995 train_f1: 0.996 train_acc: 0.996\n",
      "\t valid_loss: 2.230 valid_precision: 0.781 valid_recall: 0.674 valid_f1: 0.724 valid_acc: 0.743\n",
      "\t 00:14:07.42\n"
     ]
    },
    {
     "name": "stderr",
     "output_type": "stream",
     "text": [
      "Training: 100%|████████████████████████████████████████████████████████████████████| 4124/4124 [13:05<00:00,  5.25it/s]\n"
     ]
    },
    {
     "name": "stdout",
     "output_type": "stream",
     "text": [
      "Epoch 46: train_loss: 0.018 train_precision: 0.997 train_recall: 0.997 train_f1: 0.997 train_acc: 0.997\n",
      "\t valid_loss: 2.344 valid_precision: 0.816 valid_recall: 0.636 valid_f1: 0.715 valid_acc: 0.746\n",
      "\t 00:14:07.38\n"
     ]
    },
    {
     "name": "stderr",
     "output_type": "stream",
     "text": [
      "Training: 100%|████████████████████████████████████████████████████████████████████| 4124/4124 [13:04<00:00,  5.26it/s]\n"
     ]
    },
    {
     "name": "stdout",
     "output_type": "stream",
     "text": [
      "Epoch 47: train_loss: 0.023 train_precision: 0.996 train_recall: 0.996 train_f1: 0.996 train_acc: 0.996\n",
      "\t valid_loss: 2.308 valid_precision: 0.784 valid_recall: 0.653 valid_f1: 0.713 valid_acc: 0.737\n",
      "\t 00:14:06.11\n"
     ]
    },
    {
     "name": "stderr",
     "output_type": "stream",
     "text": [
      "Training: 100%|████████████████████████████████████████████████████████████████████| 4124/4124 [13:05<00:00,  5.25it/s]\n"
     ]
    },
    {
     "name": "stdout",
     "output_type": "stream",
     "text": [
      "Epoch 48: train_loss: 0.019 train_precision: 0.997 train_recall: 0.997 train_f1: 0.997 train_acc: 0.997\n",
      "\t valid_loss: 2.489 valid_precision: 0.771 valid_recall: 0.683 valid_f1: 0.724 valid_acc: 0.740\n",
      "\t 00:14:07.65\n"
     ]
    },
    {
     "name": "stderr",
     "output_type": "stream",
     "text": [
      "Training: 100%|████████████████████████████████████████████████████████████████████| 4124/4124 [13:05<00:00,  5.25it/s]\n"
     ]
    },
    {
     "name": "stdout",
     "output_type": "stream",
     "text": [
      "Epoch 49: train_loss: 0.021 train_precision: 0.997 train_recall: 0.996 train_f1: 0.997 train_acc: 0.997\n",
      "\t valid_loss: 2.404 valid_precision: 0.806 valid_recall: 0.643 valid_f1: 0.715 valid_acc: 0.744\n",
      "\t 00:14:07.60\n"
     ]
    },
    {
     "name": "stderr",
     "output_type": "stream",
     "text": [
      "Training: 100%|████████████████████████████████████████████████████████████████████| 4124/4124 [13:05<00:00,  5.25it/s]\n"
     ]
    },
    {
     "name": "stdout",
     "output_type": "stream",
     "text": [
      "Epoch 50: train_loss: 0.020 train_precision: 0.997 train_recall: 0.997 train_f1: 0.997 train_acc: 0.997\n",
      "\t valid_loss: 2.393 valid_precision: 0.810 valid_recall: 0.638 valid_f1: 0.714 valid_acc: 0.744\n",
      "\t 00:14:07.42\n"
     ]
    },
    {
     "name": "stderr",
     "output_type": "stream",
     "text": [
      "Training: 100%|████████████████████████████████████████████████████████████████████| 4124/4124 [13:04<00:00,  5.26it/s]\n"
     ]
    },
    {
     "name": "stdout",
     "output_type": "stream",
     "text": [
      "Epoch 51: train_loss: 0.019 train_precision: 0.997 train_recall: 0.997 train_f1: 0.997 train_acc: 0.997\n",
      "\t valid_loss: 2.403 valid_precision: 0.792 valid_recall: 0.634 valid_f1: 0.704 valid_acc: 0.734\n",
      "\t 00:14:06.68\n"
     ]
    },
    {
     "name": "stderr",
     "output_type": "stream",
     "text": [
      "Training: 100%|████████████████████████████████████████████████████████████████████| 4124/4124 [13:05<00:00,  5.25it/s]\n"
     ]
    },
    {
     "name": "stdout",
     "output_type": "stream",
     "text": [
      "Epoch 52: train_loss: 0.018 train_precision: 0.997 train_recall: 0.997 train_f1: 0.997 train_acc: 0.997\n",
      "\t valid_loss: 2.481 valid_precision: 0.782 valid_recall: 0.659 valid_f1: 0.715 valid_acc: 0.737\n",
      "\t 00:14:07.29\n"
     ]
    },
    {
     "name": "stderr",
     "output_type": "stream",
     "text": [
      "Training: 100%|████████████████████████████████████████████████████████████████████| 4124/4124 [13:05<00:00,  5.25it/s]\n"
     ]
    },
    {
     "name": "stdout",
     "output_type": "stream",
     "text": [
      "Epoch 53: train_loss: 0.015 train_precision: 0.998 train_recall: 0.997 train_f1: 0.998 train_acc: 0.998\n",
      "\t valid_loss: 2.491 valid_precision: 0.755 valid_recall: 0.678 valid_f1: 0.714 valid_acc: 0.729\n",
      "\t 00:14:07.34\n"
     ]
    },
    {
     "name": "stderr",
     "output_type": "stream",
     "text": [
      "Training: 100%|████████████████████████████████████████████████████████████████████| 4124/4124 [13:05<00:00,  5.25it/s]\n"
     ]
    },
    {
     "name": "stdout",
     "output_type": "stream",
     "text": [
      "Epoch 54: train_loss: 0.017 train_precision: 0.997 train_recall: 0.997 train_f1: 0.997 train_acc: 0.997\n",
      "\t valid_loss: 2.305 valid_precision: 0.772 valid_recall: 0.692 valid_f1: 0.730 valid_acc: 0.744\n",
      "\t 00:14:06.95\n"
     ]
    },
    {
     "name": "stderr",
     "output_type": "stream",
     "text": [
      "Training: 100%|████████████████████████████████████████████████████████████████████| 4124/4124 [13:04<00:00,  5.26it/s]\n"
     ]
    },
    {
     "name": "stdout",
     "output_type": "stream",
     "text": [
      "Epoch 55: train_loss: 0.017 train_precision: 0.997 train_recall: 0.997 train_f1: 0.997 train_acc: 0.997\n",
      "\t valid_loss: 2.382 valid_precision: 0.819 valid_recall: 0.622 valid_f1: 0.707 valid_acc: 0.743\n",
      "\t 00:14:07.09\n"
     ]
    },
    {
     "name": "stderr",
     "output_type": "stream",
     "text": [
      "Training: 100%|████████████████████████████████████████████████████████████████████| 4124/4124 [13:04<00:00,  5.26it/s]\n"
     ]
    },
    {
     "name": "stdout",
     "output_type": "stream",
     "text": [
      "Epoch 56: train_loss: 0.016 train_precision: 0.997 train_recall: 0.998 train_f1: 0.998 train_acc: 0.998\n",
      "\t valid_loss: 2.321 valid_precision: 0.820 valid_recall: 0.610 valid_f1: 0.699 valid_acc: 0.738\n",
      "\t 00:14:05.63\n"
     ]
    },
    {
     "name": "stderr",
     "output_type": "stream",
     "text": [
      "Training: 100%|████████████████████████████████████████████████████████████████████| 4124/4124 [13:05<00:00,  5.25it/s]\n"
     ]
    },
    {
     "name": "stdout",
     "output_type": "stream",
     "text": [
      "Epoch 57: train_loss: 0.016 train_precision: 0.998 train_recall: 0.997 train_f1: 0.997 train_acc: 0.997\n",
      "\t valid_loss: 2.490 valid_precision: 0.785 valid_recall: 0.637 valid_f1: 0.704 valid_acc: 0.732\n",
      "\t 00:14:06.39\n"
     ]
    },
    {
     "name": "stderr",
     "output_type": "stream",
     "text": [
      "Training: 100%|████████████████████████████████████████████████████████████████████| 4124/4124 [13:05<00:00,  5.25it/s]\n"
     ]
    },
    {
     "name": "stdout",
     "output_type": "stream",
     "text": [
      "Epoch 58: train_loss: 0.017 train_precision: 0.997 train_recall: 0.997 train_f1: 0.997 train_acc: 0.997\n",
      "\t valid_loss: 2.338 valid_precision: 0.796 valid_recall: 0.638 valid_f1: 0.708 valid_acc: 0.737\n",
      "\t 00:14:06.91\n"
     ]
    },
    {
     "name": "stderr",
     "output_type": "stream",
     "text": [
      "Training: 100%|████████████████████████████████████████████████████████████████████| 4124/4124 [13:04<00:00,  5.26it/s]\n"
     ]
    },
    {
     "name": "stdout",
     "output_type": "stream",
     "text": [
      "Epoch 59: train_loss: 0.017 train_precision: 0.997 train_recall: 0.997 train_f1: 0.997 train_acc: 0.997\n",
      "\t valid_loss: 2.425 valid_precision: 0.765 valid_recall: 0.677 valid_f1: 0.718 valid_acc: 0.735\n",
      "\t 00:14:08.81\n"
     ]
    },
    {
     "name": "stderr",
     "output_type": "stream",
     "text": [
      "Training: 100%|████████████████████████████████████████████████████████████████████| 4124/4124 [13:03<00:00,  5.26it/s]\n"
     ]
    },
    {
     "name": "stdout",
     "output_type": "stream",
     "text": [
      "Epoch 60: train_loss: 0.017 train_precision: 0.997 train_recall: 0.997 train_f1: 0.997 train_acc: 0.997\n",
      "\t valid_loss: 2.557 valid_precision: 0.736 valid_recall: 0.692 valid_f1: 0.713 valid_acc: 0.722\n",
      "\t 00:14:05.33\n"
     ]
    },
    {
     "name": "stderr",
     "output_type": "stream",
     "text": [
      "Training: 100%|████████████████████████████████████████████████████████████████████| 4124/4124 [13:05<00:00,  5.25it/s]\n"
     ]
    },
    {
     "name": "stdout",
     "output_type": "stream",
     "text": [
      "Epoch 61: train_loss: 0.015 train_precision: 0.998 train_recall: 0.998 train_f1: 0.998 train_acc: 0.998\n",
      "\t valid_loss: 2.645 valid_precision: 0.774 valid_recall: 0.621 valid_f1: 0.689 valid_acc: 0.720\n",
      "\t 00:14:06.65\n"
     ]
    },
    {
     "name": "stderr",
     "output_type": "stream",
     "text": [
      "Training: 100%|████████████████████████████████████████████████████████████████████| 4124/4124 [13:04<00:00,  5.25it/s]\n"
     ]
    },
    {
     "name": "stdout",
     "output_type": "stream",
     "text": [
      "Epoch 62: train_loss: 0.015 train_precision: 0.997 train_recall: 0.998 train_f1: 0.998 train_acc: 0.998\n",
      "\t valid_loss: 2.571 valid_precision: 0.780 valid_recall: 0.642 valid_f1: 0.704 valid_acc: 0.730\n",
      "\t 00:14:06.52\n"
     ]
    },
    {
     "name": "stderr",
     "output_type": "stream",
     "text": [
      "Training: 100%|████████████████████████████████████████████████████████████████████| 4124/4124 [13:05<00:00,  5.25it/s]\n"
     ]
    },
    {
     "name": "stdout",
     "output_type": "stream",
     "text": [
      "Epoch 63: train_loss: 0.017 train_precision: 0.997 train_recall: 0.997 train_f1: 0.997 train_acc: 0.997\n",
      "\t valid_loss: 2.604 valid_precision: 0.783 valid_recall: 0.633 valid_f1: 0.700 valid_acc: 0.728\n",
      "\t 00:14:08.24\n"
     ]
    },
    {
     "name": "stderr",
     "output_type": "stream",
     "text": [
      "Training: 100%|████████████████████████████████████████████████████████████████████| 4124/4124 [13:04<00:00,  5.26it/s]\n"
     ]
    },
    {
     "name": "stdout",
     "output_type": "stream",
     "text": [
      "Epoch 64: train_loss: 0.017 train_precision: 0.997 train_recall: 0.997 train_f1: 0.997 train_acc: 0.997\n",
      "\t valid_loss: 2.308 valid_precision: 0.833 valid_recall: 0.608 valid_f1: 0.703 valid_acc: 0.743\n",
      "\t 00:14:05.71\n"
     ]
    },
    {
     "name": "stderr",
     "output_type": "stream",
     "text": [
      "Training: 100%|████████████████████████████████████████████████████████████████████| 4124/4124 [13:04<00:00,  5.25it/s]\n"
     ]
    },
    {
     "name": "stdout",
     "output_type": "stream",
     "text": [
      "Epoch 65: train_loss: 0.013 train_precision: 0.998 train_recall: 0.998 train_f1: 0.998 train_acc: 0.998\n",
      "\t valid_loss: 2.378 valid_precision: 0.783 valid_recall: 0.672 valid_f1: 0.723 valid_acc: 0.743\n",
      "\t 00:14:06.55\n"
     ]
    },
    {
     "name": "stderr",
     "output_type": "stream",
     "text": [
      "Training: 100%|████████████████████████████████████████████████████████████████████| 4124/4124 [13:05<00:00,  5.25it/s]\n"
     ]
    },
    {
     "name": "stdout",
     "output_type": "stream",
     "text": [
      "Epoch 66: train_loss: 0.017 train_precision: 0.997 train_recall: 0.997 train_f1: 0.997 train_acc: 0.997\n",
      "\t valid_loss: 2.233 valid_precision: 0.776 valid_recall: 0.668 valid_f1: 0.718 valid_acc: 0.737\n",
      "\t 00:14:06.57\n"
     ]
    },
    {
     "name": "stderr",
     "output_type": "stream",
     "text": [
      "Training: 100%|████████████████████████████████████████████████████████████████████| 4124/4124 [13:04<00:00,  5.26it/s]\n"
     ]
    },
    {
     "name": "stdout",
     "output_type": "stream",
     "text": [
      "Epoch 67: train_loss: 0.009 train_precision: 0.999 train_recall: 0.999 train_f1: 0.999 train_acc: 0.999\n",
      "\t valid_loss: 2.513 valid_precision: 0.768 valid_recall: 0.657 valid_f1: 0.708 valid_acc: 0.729\n",
      "\t 00:14:05.95\n"
     ]
    },
    {
     "name": "stderr",
     "output_type": "stream",
     "text": [
      "Training: 100%|████████████████████████████████████████████████████████████████████| 4124/4124 [13:04<00:00,  5.25it/s]\n"
     ]
    },
    {
     "name": "stdout",
     "output_type": "stream",
     "text": [
      "Epoch 68: train_loss: 0.016 train_precision: 0.997 train_recall: 0.997 train_f1: 0.997 train_acc: 0.997\n",
      "\t valid_loss: 2.588 valid_precision: 0.754 valid_recall: 0.682 valid_f1: 0.716 valid_acc: 0.729\n",
      "\t 00:14:06.44\n"
     ]
    },
    {
     "name": "stderr",
     "output_type": "stream",
     "text": [
      "Training: 100%|████████████████████████████████████████████████████████████████████| 4124/4124 [13:04<00:00,  5.25it/s]\n"
     ]
    },
    {
     "name": "stdout",
     "output_type": "stream",
     "text": [
      "Epoch 69: train_loss: 0.013 train_precision: 0.998 train_recall: 0.998 train_f1: 0.998 train_acc: 0.998\n",
      "\t valid_loss: 2.458 valid_precision: 0.762 valid_recall: 0.678 valid_f1: 0.717 valid_acc: 0.733\n",
      "\t 00:14:06.88\n"
     ]
    },
    {
     "name": "stderr",
     "output_type": "stream",
     "text": [
      "Training: 100%|████████████████████████████████████████████████████████████████████| 4124/4124 [13:04<00:00,  5.25it/s]\n"
     ]
    },
    {
     "name": "stdout",
     "output_type": "stream",
     "text": [
      "Epoch 70: train_loss: 0.014 train_precision: 0.998 train_recall: 0.998 train_f1: 0.998 train_acc: 0.998\n",
      "\t valid_loss: 2.546 valid_precision: 0.787 valid_recall: 0.636 valid_f1: 0.703 valid_acc: 0.732\n",
      "\t 00:14:06.88\n"
     ]
    },
    {
     "name": "stderr",
     "output_type": "stream",
     "text": [
      "Training: 100%|████████████████████████████████████████████████████████████████████| 4124/4124 [13:04<00:00,  5.26it/s]\n"
     ]
    },
    {
     "name": "stdout",
     "output_type": "stream",
     "text": [
      "Epoch 71: train_loss: 0.013 train_precision: 0.998 train_recall: 0.998 train_f1: 0.998 train_acc: 0.998\n",
      "\t valid_loss: 2.409 valid_precision: 0.757 valid_recall: 0.689 valid_f1: 0.721 valid_acc: 0.734\n",
      "\t 00:14:05.78\n"
     ]
    },
    {
     "name": "stderr",
     "output_type": "stream",
     "text": [
      "Training: 100%|████████████████████████████████████████████████████████████████████| 4124/4124 [13:05<00:00,  5.25it/s]\n"
     ]
    },
    {
     "name": "stdout",
     "output_type": "stream",
     "text": [
      "Epoch 72: train_loss: 0.011 train_precision: 0.998 train_recall: 0.998 train_f1: 0.998 train_acc: 0.998\n",
      "\t valid_loss: 2.639 valid_precision: 0.746 valid_recall: 0.670 valid_f1: 0.706 valid_acc: 0.721\n",
      "\t 00:14:07.04\n"
     ]
    },
    {
     "name": "stderr",
     "output_type": "stream",
     "text": [
      "Training: 100%|████████████████████████████████████████████████████████████████████| 4124/4124 [13:05<00:00,  5.25it/s]\n"
     ]
    },
    {
     "name": "stdout",
     "output_type": "stream",
     "text": [
      "Epoch 73: train_loss: 0.015 train_precision: 0.998 train_recall: 0.997 train_f1: 0.997 train_acc: 0.997\n",
      "\t valid_loss: 2.499 valid_precision: 0.752 valid_recall: 0.654 valid_f1: 0.700 valid_acc: 0.719\n",
      "\t 00:14:07.21\n"
     ]
    },
    {
     "name": "stderr",
     "output_type": "stream",
     "text": [
      "Training: 100%|████████████████████████████████████████████████████████████████████| 4124/4124 [13:04<00:00,  5.25it/s]\n"
     ]
    },
    {
     "name": "stdout",
     "output_type": "stream",
     "text": [
      "Epoch 74: train_loss: 0.012 train_precision: 0.998 train_recall: 0.998 train_f1: 0.998 train_acc: 0.998\n",
      "\t valid_loss: 2.226 valid_precision: 0.795 valid_recall: 0.677 valid_f1: 0.731 valid_acc: 0.751\n",
      "\t 00:14:06.69\n"
     ]
    },
    {
     "name": "stderr",
     "output_type": "stream",
     "text": [
      "Training: 100%|████████████████████████████████████████████████████████████████████| 4124/4124 [13:04<00:00,  5.26it/s]\n"
     ]
    },
    {
     "name": "stdout",
     "output_type": "stream",
     "text": [
      "Epoch 75: train_loss: 0.011 train_precision: 0.998 train_recall: 0.998 train_f1: 0.998 train_acc: 0.998\n",
      "\t valid_loss: 2.602 valid_precision: 0.793 valid_recall: 0.632 valid_f1: 0.703 valid_acc: 0.733\n",
      "\t 00:14:05.78\n"
     ]
    },
    {
     "name": "stderr",
     "output_type": "stream",
     "text": [
      "Training: 100%|████████████████████████████████████████████████████████████████████| 4124/4124 [13:05<00:00,  5.25it/s]\n"
     ]
    },
    {
     "name": "stdout",
     "output_type": "stream",
     "text": [
      "Epoch 76: train_loss: 0.014 train_precision: 0.998 train_recall: 0.998 train_f1: 0.998 train_acc: 0.998\n",
      "\t valid_loss: 2.559 valid_precision: 0.800 valid_recall: 0.611 valid_f1: 0.693 valid_acc: 0.729\n",
      "\t 00:14:06.97\n"
     ]
    },
    {
     "name": "stderr",
     "output_type": "stream",
     "text": [
      "Training: 100%|████████████████████████████████████████████████████████████████████| 4124/4124 [13:04<00:00,  5.25it/s]\n"
     ]
    },
    {
     "name": "stdout",
     "output_type": "stream",
     "text": [
      "Epoch 77: train_loss: 0.010 train_precision: 0.999 train_recall: 0.998 train_f1: 0.998 train_acc: 0.998\n",
      "\t valid_loss: 2.856 valid_precision: 0.791 valid_recall: 0.635 valid_f1: 0.705 valid_acc: 0.734\n",
      "\t 00:14:06.65\n"
     ]
    },
    {
     "name": "stderr",
     "output_type": "stream",
     "text": [
      "Training: 100%|████████████████████████████████████████████████████████████████████| 4124/4124 [13:05<00:00,  5.25it/s]\n"
     ]
    },
    {
     "name": "stdout",
     "output_type": "stream",
     "text": [
      "Epoch 78: train_loss: 0.013 train_precision: 0.998 train_recall: 0.998 train_f1: 0.998 train_acc: 0.998\n",
      "\t valid_loss: 2.595 valid_precision: 0.782 valid_recall: 0.657 valid_f1: 0.714 valid_acc: 0.737\n",
      "\t 00:14:08.23\n"
     ]
    },
    {
     "name": "stderr",
     "output_type": "stream",
     "text": [
      "Training: 100%|████████████████████████████████████████████████████████████████████| 4124/4124 [13:04<00:00,  5.26it/s]\n"
     ]
    },
    {
     "name": "stdout",
     "output_type": "stream",
     "text": [
      "Epoch 79: train_loss: 0.013 train_precision: 0.998 train_recall: 0.998 train_f1: 0.998 train_acc: 0.998\n",
      "\t valid_loss: 2.476 valid_precision: 0.821 valid_recall: 0.609 valid_f1: 0.699 valid_acc: 0.738\n",
      "\t 00:14:08.13\n"
     ]
    },
    {
     "name": "stderr",
     "output_type": "stream",
     "text": [
      "Training: 100%|████████████████████████████████████████████████████████████████████| 4124/4124 [13:04<00:00,  5.25it/s]\n"
     ]
    },
    {
     "name": "stdout",
     "output_type": "stream",
     "text": [
      "Epoch 80: train_loss: 0.014 train_precision: 0.997 train_recall: 0.998 train_f1: 0.998 train_acc: 0.998\n",
      "\t valid_loss: 2.494 valid_precision: 0.804 valid_recall: 0.651 valid_f1: 0.719 valid_acc: 0.746\n",
      "\t 00:14:06.84\n"
     ]
    },
    {
     "name": "stderr",
     "output_type": "stream",
     "text": [
      "Training: 100%|████████████████████████████████████████████████████████████████████| 4124/4124 [13:04<00:00,  5.25it/s]\n"
     ]
    },
    {
     "name": "stdout",
     "output_type": "stream",
     "text": [
      "Epoch 81: train_loss: 0.011 train_precision: 0.998 train_recall: 0.998 train_f1: 0.998 train_acc: 0.998\n",
      "\t valid_loss: 2.467 valid_precision: 0.793 valid_recall: 0.674 valid_f1: 0.729 valid_acc: 0.749\n",
      "\t 00:14:06.52\n"
     ]
    },
    {
     "name": "stderr",
     "output_type": "stream",
     "text": [
      "Training: 100%|████████████████████████████████████████████████████████████████████| 4124/4124 [13:05<00:00,  5.25it/s]\n"
     ]
    },
    {
     "name": "stdout",
     "output_type": "stream",
     "text": [
      "Epoch 82: train_loss: 0.013 train_precision: 0.998 train_recall: 0.998 train_f1: 0.998 train_acc: 0.998\n",
      "\t valid_loss: 2.214 valid_precision: 0.812 valid_recall: 0.638 valid_f1: 0.715 valid_acc: 0.745\n",
      "\t 00:14:07.02\n"
     ]
    },
    {
     "name": "stderr",
     "output_type": "stream",
     "text": [
      "Training: 100%|████████████████████████████████████████████████████████████████████| 4124/4124 [13:04<00:00,  5.26it/s]\n"
     ]
    },
    {
     "name": "stdout",
     "output_type": "stream",
     "text": [
      "New best validation f1 of 0.750. Saving model.\n",
      "Epoch 83: train_loss: 0.011 train_precision: 0.999 train_recall: 0.998 train_f1: 0.998 train_acc: 0.998\n",
      "\t valid_loss: 2.469 valid_precision: 0.753 valid_recall: 0.747 valid_f1: 0.750 valid_acc: 0.751\n",
      "\t 00:14:09.51\n"
     ]
    },
    {
     "name": "stderr",
     "output_type": "stream",
     "text": [
      "Training: 100%|████████████████████████████████████████████████████████████████████| 4124/4124 [13:05<00:00,  5.25it/s]\n"
     ]
    },
    {
     "name": "stdout",
     "output_type": "stream",
     "text": [
      "Epoch 84: train_loss: 0.011 train_precision: 0.998 train_recall: 0.998 train_f1: 0.998 train_acc: 0.998\n",
      "\t valid_loss: 2.487 valid_precision: 0.785 valid_recall: 0.647 valid_f1: 0.709 valid_acc: 0.735\n",
      "\t 00:14:06.93\n"
     ]
    },
    {
     "name": "stderr",
     "output_type": "stream",
     "text": [
      "Training: 100%|████████████████████████████████████████████████████████████████████| 4124/4124 [13:05<00:00,  5.25it/s]\n"
     ]
    },
    {
     "name": "stdout",
     "output_type": "stream",
     "text": [
      "Epoch 85: train_loss: 0.010 train_precision: 0.998 train_recall: 0.999 train_f1: 0.998 train_acc: 0.998\n",
      "\t valid_loss: 2.370 valid_precision: 0.812 valid_recall: 0.612 valid_f1: 0.698 valid_acc: 0.735\n",
      "\t 00:14:08.85\n"
     ]
    },
    {
     "name": "stderr",
     "output_type": "stream",
     "text": [
      "Training: 100%|████████████████████████████████████████████████████████████████████| 4124/4124 [13:04<00:00,  5.26it/s]\n"
     ]
    },
    {
     "name": "stdout",
     "output_type": "stream",
     "text": [
      "Epoch 86: train_loss: 0.012 train_precision: 0.998 train_recall: 0.998 train_f1: 0.998 train_acc: 0.998\n",
      "\t valid_loss: 2.292 valid_precision: 0.760 valid_recall: 0.703 valid_f1: 0.730 valid_acc: 0.740\n",
      "\t 00:14:06.07\n"
     ]
    },
    {
     "name": "stderr",
     "output_type": "stream",
     "text": [
      "Training: 100%|████████████████████████████████████████████████████████████████████| 4124/4124 [13:05<00:00,  5.25it/s]\n"
     ]
    },
    {
     "name": "stdout",
     "output_type": "stream",
     "text": [
      "Epoch 87: train_loss: 0.011 train_precision: 0.999 train_recall: 0.998 train_f1: 0.998 train_acc: 0.998\n",
      "\t valid_loss: 2.584 valid_precision: 0.825 valid_recall: 0.588 valid_f1: 0.687 valid_acc: 0.732\n",
      "\t 00:14:06.82\n"
     ]
    },
    {
     "name": "stderr",
     "output_type": "stream",
     "text": [
      "Training: 100%|████████████████████████████████████████████████████████████████████| 4124/4124 [13:05<00:00,  5.25it/s]\n"
     ]
    },
    {
     "name": "stdout",
     "output_type": "stream",
     "text": [
      "Epoch 88: train_loss: 0.009 train_precision: 0.999 train_recall: 0.999 train_f1: 0.999 train_acc: 0.999\n",
      "\t valid_loss: 2.639 valid_precision: 0.759 valid_recall: 0.686 valid_f1: 0.721 valid_acc: 0.734\n",
      "\t 00:14:06.98\n"
     ]
    },
    {
     "name": "stderr",
     "output_type": "stream",
     "text": [
      "Training: 100%|████████████████████████████████████████████████████████████████████| 4124/4124 [13:05<00:00,  5.25it/s]\n"
     ]
    },
    {
     "name": "stdout",
     "output_type": "stream",
     "text": [
      "Epoch 89: train_loss: 0.012 train_precision: 0.998 train_recall: 0.999 train_f1: 0.998 train_acc: 0.998\n",
      "\t valid_loss: 2.458 valid_precision: 0.820 valid_recall: 0.606 valid_f1: 0.697 valid_acc: 0.736\n",
      "\t 00:14:09.19\n"
     ]
    },
    {
     "name": "stderr",
     "output_type": "stream",
     "text": [
      "Training: 100%|████████████████████████████████████████████████████████████████████| 4124/4124 [13:04<00:00,  5.26it/s]\n"
     ]
    },
    {
     "name": "stdout",
     "output_type": "stream",
     "text": [
      "Epoch 90: train_loss: 0.010 train_precision: 0.998 train_recall: 0.998 train_f1: 0.998 train_acc: 0.998\n",
      "\t valid_loss: 2.612 valid_precision: 0.775 valid_recall: 0.643 valid_f1: 0.703 valid_acc: 0.728\n",
      "\t 00:14:08.21\n"
     ]
    },
    {
     "name": "stderr",
     "output_type": "stream",
     "text": [
      "Training: 100%|████████████████████████████████████████████████████████████████████| 4124/4124 [13:04<00:00,  5.26it/s]\n"
     ]
    },
    {
     "name": "stdout",
     "output_type": "stream",
     "text": [
      "Epoch 91: train_loss: 0.009 train_precision: 0.999 train_recall: 0.998 train_f1: 0.999 train_acc: 0.999\n",
      "\t valid_loss: 2.889 valid_precision: 0.783 valid_recall: 0.560 valid_f1: 0.653 valid_acc: 0.702\n",
      "\t 00:14:07.65\n"
     ]
    },
    {
     "name": "stderr",
     "output_type": "stream",
     "text": [
      "Training: 100%|████████████████████████████████████████████████████████████████████| 4124/4124 [13:05<00:00,  5.25it/s]\n"
     ]
    },
    {
     "name": "stdout",
     "output_type": "stream",
     "text": [
      "Epoch 92: train_loss: 0.010 train_precision: 0.999 train_recall: 0.998 train_f1: 0.998 train_acc: 0.998\n",
      "\t valid_loss: 2.694 valid_precision: 0.754 valid_recall: 0.663 valid_f1: 0.706 valid_acc: 0.723\n",
      "\t 00:14:06.67\n"
     ]
    },
    {
     "name": "stderr",
     "output_type": "stream",
     "text": [
      "Training: 100%|████████████████████████████████████████████████████████████████████| 4124/4124 [13:05<00:00,  5.25it/s]\n"
     ]
    },
    {
     "name": "stdout",
     "output_type": "stream",
     "text": [
      "Epoch 93: train_loss: 0.010 train_precision: 0.998 train_recall: 0.999 train_f1: 0.999 train_acc: 0.999\n",
      "\t valid_loss: 2.687 valid_precision: 0.803 valid_recall: 0.607 valid_f1: 0.692 valid_acc: 0.729\n",
      "\t 00:14:06.78\n"
     ]
    },
    {
     "name": "stderr",
     "output_type": "stream",
     "text": [
      "Training: 100%|████████████████████████████████████████████████████████████████████| 4124/4124 [13:04<00:00,  5.26it/s]\n"
     ]
    },
    {
     "name": "stdout",
     "output_type": "stream",
     "text": [
      "Epoch 94: train_loss: 0.009 train_precision: 0.998 train_recall: 0.999 train_f1: 0.999 train_acc: 0.999\n",
      "\t valid_loss: 2.495 valid_precision: 0.764 valid_recall: 0.649 valid_f1: 0.701 valid_acc: 0.724\n",
      "\t 00:14:09.30\n"
     ]
    },
    {
     "name": "stderr",
     "output_type": "stream",
     "text": [
      "Training: 100%|████████████████████████████████████████████████████████████████████| 4124/4124 [13:08<00:00,  5.23it/s]\n"
     ]
    },
    {
     "name": "stdout",
     "output_type": "stream",
     "text": [
      "Epoch 95: train_loss: 0.009 train_precision: 0.999 train_recall: 0.999 train_f1: 0.999 train_acc: 0.999\n",
      "\t valid_loss: 2.663 valid_precision: 0.768 valid_recall: 0.653 valid_f1: 0.706 valid_acc: 0.728\n",
      "\t 00:14:10.97\n"
     ]
    },
    {
     "name": "stderr",
     "output_type": "stream",
     "text": [
      "Training: 100%|████████████████████████████████████████████████████████████████████| 4124/4124 [13:12<00:00,  5.20it/s]\n"
     ]
    },
    {
     "name": "stdout",
     "output_type": "stream",
     "text": [
      "Epoch 96: train_loss: 0.007 train_precision: 0.999 train_recall: 0.999 train_f1: 0.999 train_acc: 0.999\n",
      "\t valid_loss: 2.813 valid_precision: 0.730 valid_recall: 0.655 valid_f1: 0.690 valid_acc: 0.706\n",
      "\t 00:14:14.29\n"
     ]
    },
    {
     "name": "stderr",
     "output_type": "stream",
     "text": [
      "Training: 100%|████████████████████████████████████████████████████████████████████| 4124/4124 [13:13<00:00,  5.20it/s]\n"
     ]
    },
    {
     "name": "stdout",
     "output_type": "stream",
     "text": [
      "Epoch 97: train_loss: 0.010 train_precision: 0.999 train_recall: 0.998 train_f1: 0.998 train_acc: 0.998\n",
      "\t valid_loss: 2.505 valid_precision: 0.751 valid_recall: 0.666 valid_f1: 0.706 valid_acc: 0.723\n",
      "\t 00:14:15.03\n"
     ]
    },
    {
     "name": "stderr",
     "output_type": "stream",
     "text": [
      "Training: 100%|████████████████████████████████████████████████████████████████████| 4124/4124 [13:13<00:00,  5.20it/s]\n"
     ]
    },
    {
     "name": "stdout",
     "output_type": "stream",
     "text": [
      "Epoch 98: train_loss: 0.009 train_precision: 0.999 train_recall: 0.998 train_f1: 0.999 train_acc: 0.999\n",
      "\t valid_loss: 2.510 valid_precision: 0.794 valid_recall: 0.642 valid_f1: 0.710 valid_acc: 0.737\n",
      "\t 00:14:15.26\n"
     ]
    },
    {
     "name": "stderr",
     "output_type": "stream",
     "text": [
      "Training: 100%|████████████████████████████████████████████████████████████████████| 4124/4124 [13:12<00:00,  5.20it/s]\n"
     ]
    },
    {
     "name": "stdout",
     "output_type": "stream",
     "text": [
      "Epoch 99: train_loss: 0.010 train_precision: 0.999 train_recall: 0.998 train_f1: 0.998 train_acc: 0.998\n",
      "\t valid_loss: 2.755 valid_precision: 0.781 valid_recall: 0.653 valid_f1: 0.712 valid_acc: 0.735\n",
      "\t 00:14:14.71\n"
     ]
    },
    {
     "name": "stderr",
     "output_type": "stream",
     "text": [
      "Training: 100%|████████████████████████████████████████████████████████████████████| 4124/4124 [13:13<00:00,  5.20it/s]\n"
     ]
    },
    {
     "name": "stdout",
     "output_type": "stream",
     "text": [
      "Epoch 100: train_loss: 0.010 train_precision: 0.998 train_recall: 0.999 train_f1: 0.998 train_acc: 0.998\n",
      "\t valid_loss: 2.593 valid_precision: 0.782 valid_recall: 0.638 valid_f1: 0.703 valid_acc: 0.730\n",
      "\t 00:14:16.05\n",
      "   Training Completed!\n"
     ]
    }
   ],
   "source": [
    "train_losses,valid_losses = train(model,train_data_for_fold,valid_data_for_fold)"
   ]
  },
  {
   "cell_type": "code",
   "execution_count": 18,
   "id": "860b447a-9911-4cd0-9f40-5c02b03591d1",
   "metadata": {},
   "outputs": [
    {
     "data": {
      "image/png": "[encoded data removed]",
      "text/plain": [
       "<Figure size 1000x500 with 1 Axes>"
      ]
     },
     "metadata": {},
     "output_type": "display_data"
    }
   ],
   "source": [
    "import matplotlib.pyplot as plt\n",
    "\n",
    "# 假设train_losses和val_losses分别存储了训练损失和验证损失\n",
    "epochs = range(1, len(train_losses) + 1)\n",
    "\n",
    "plt.figure(figsize=(10, 5))\n",
    "plt.plot(epochs, train_losses, 'r-', label='Training Loss')\n",
    "plt.plot(epochs, valid_losses, 'b-', label='Validation Loss')\n",
    "plt.title('Training and Validation Loss')\n",
    "plt.xlabel('Epochs')\n",
    "plt.ylabel('Loss')\n",
    "plt.legend()\n",
    "plt.show()"
   ]
  },
  {
   "cell_type": "code",
   "execution_count": null,
   "id": "4be9fade-2aab-423c-91c0-df78fc810628",
   "metadata": {},
   "outputs": [],
   "source": []
  },
  {
   "cell_type": "code",
   "execution_count": null,
   "id": "80775d5d-646d-48d9-bc9a-23564ed37403",
   "metadata": {},
   "outputs": [],
   "source": []
  },
  {
   "cell_type": "markdown",
   "id": "6f601144",
   "metadata": {},
   "source": [
    "test"
   ]
  },
  {
   "cell_type": "code",
   "execution_count": 19,
   "id": "fc9ec153",
   "metadata": {},
   "outputs": [],
   "source": [
    "# model = torch.load(\"D:/LTX/code_comment_inconsistency_detection/model_save/save_bert_code_comment.pt\")"
   ]
  },
  {
   "cell_type": "code",
   "execution_count": 20,
   "id": "ba4da15d",
   "metadata": {},
   "outputs": [],
   "source": [
    "def retrieve_test_data():\n",
    "    test_param = pd.read_json(\"D:/LTX/code_comment_inconsistency_detection/data/param/test.json\")\n",
    "    test_return = pd.read_json(\"D:/LTX/code_comment_inconsistency_detection/data/return/test.json\")\n",
    "    test_summary = pd.read_json(\"D:/LTX/code_comment_inconsistency_detection/data/summary/test.json\")\n",
    "    test_df = pd.concat([test_summary,test_param, test_return], axis=0)\n",
    "    test_df = test_df[:1000]\n",
    "    return test_df"
   ]
  },
  {
   "cell_type": "code",
   "execution_count": 21,
   "id": "3e57e7d1",
   "metadata": {},
   "outputs": [],
   "source": [
    "def test(model, test_loader, device):\n",
    "    model.eval()\n",
    "    test_loss = 0.0\n",
    "    predictions = []\n",
    "    gold_labels = []\n",
    "\n",
    "    with torch.no_grad():\n",
    "        for batch_idx, (sequence, attention_masks, token_type_ids, labels) in enumerate(test_loader):\n",
    "            sequence = sequence.to(device)\n",
    "            attention_masks = attention_masks.to(device)\n",
    "            token_type_ids = token_type_ids.to(device)\n",
    "            labels = labels.to(device)\n",
    "\n",
    "            outputs = model(sequence, attention_mask=attention_masks, token_type_ids=token_type_ids, labels=labels)\n",
    "            loss = outputs.loss\n",
    "            prediction = outputs.logits\n",
    "\n",
    "            test_loss += loss.item()\n",
    "            prediction = torch.argmax(prediction, dim=-1)\n",
    "\n",
    "            predictions.extend(prediction)\n",
    "            gold_labels.extend(labels)\n",
    "        \n",
    "    test_loss = test_loss / len(test_loader)\n",
    "    test_precision, test_recall, test_f1, test_acc = compute_metrics(predictions, gold_labels)\n",
    "\n",
    "    print(f\"test_loss: {test_loss:.3f} test_precision: {test_precision:.3f} test_recall: {test_recall:.3f} test_f1: {test_f1:.3f} test_acc: {test_acc:.3f}\")"
   ]
  },
  {
   "cell_type": "code",
   "execution_count": 23,
   "id": "d8b910f5",
   "metadata": {},
   "outputs": [
    {
     "name": "stdout",
     "output_type": "stream",
     "text": [
      "test_loss: 3.692 test_precision: 0.591 test_recall: 0.510 test_f1: 0.547 test_acc: 0.601\n"
     ]
    }
   ],
   "source": [
    "test_df = retrieve_test_data()\n",
    "test_df_clean = format_data(test_df)\n",
    "test_data = CocoDataset(test_df_clean)\n",
    "test_loader = DataLoader(dataset=test_data, batch_size=BATCH_SIZE, shuffle=True)\n",
    "\n",
    "test(model, test_loader, device)"
   ]
  },
  {
   "cell_type": "code",
   "execution_count": null,
   "id": "f147d20d",
   "metadata": {},
   "outputs": [],
   "source": []
  },
  {
   "cell_type": "code",
   "execution_count": null,
   "id": "806ecf47-4d20-441d-953b-ecb8e0e237fd",
   "metadata": {},
   "outputs": [],
   "source": []
  }
 ],
 "metadata": {
  "kernelspec": {
   "display_name": "leitx",
   "language": "python",
   "name": "leitx"
  },
  "language_info": {
   "codemirror_mode": {
    "name": "ipython",
    "version": 3
   },
   "file_extension": ".py",
   "mimetype": "text/x-python",
   "name": "python",
   "nbconvert_exporter": "python",
   "pygments_lexer": "ipython3",
   "version": "3.11.9"
  }
 },
 "nbformat": 4,
 "nbformat_minor": 5
}
